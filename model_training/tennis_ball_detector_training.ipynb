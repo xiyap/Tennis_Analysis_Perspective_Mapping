{
 "cells": [
  {
   "cell_type": "markdown",
   "metadata": {},
   "source": [
    "### Download Dependencies"
   ]
  },
  {
   "cell_type": "code",
   "execution_count": null,
   "metadata": {},
   "outputs": [],
   "source": [
    "!pip install roboflow"
   ]
  },
  {
   "cell_type": "markdown",
   "metadata": {},
   "source": [
    "### Download Dataset"
   ]
  },
  {
   "cell_type": "code",
   "execution_count": 1,
   "metadata": {},
   "outputs": [
    {
     "name": "stdout",
     "output_type": "stream",
     "text": [
      "loading Roboflow workspace...\n",
      "loading Roboflow project...\n",
      "Dependency ultralytics==8.0.196 is required but found version=8.1.3, to fix: `pip install ultralytics==8.0.196`\n"
     ]
    },
    {
     "name": "stderr",
     "output_type": "stream",
     "text": [
      "Downloading Dataset Version Zip in tennis-ball-detection-6 to yolov8:: 100%|██████████| 52040/52040 [00:04<00:00, 11195.07it/s]"
     ]
    },
    {
     "name": "stdout",
     "output_type": "stream",
     "text": [
      "\n"
     ]
    },
    {
     "name": "stderr",
     "output_type": "stream",
     "text": [
      "\n",
      "Extracting Dataset Version Zip to tennis-ball-detection-6 in yolov8:: 100%|██████████| 1168/1168 [00:00<00:00, 1314.42it/s]\n"
     ]
    }
   ],
   "source": [
    "from roboflow import Roboflow\n",
    "rf = Roboflow(api_key=\"\")\n",
    "project = rf.workspace(\"viren-dhanwani\").project(\"tennis-ball-detection\")\n",
    "version = project.version(6)\n",
    "dataset = version.download(\"yolov8\")\n"
   ]
  },
  {
   "cell_type": "markdown",
   "metadata": {},
   "source": [
    "### Data Wrangle"
   ]
  },
  {
   "cell_type": "code",
   "execution_count": 2,
   "metadata": {},
   "outputs": [
    {
     "data": {
      "text/plain": [
       "'tennis-ball-detection-6/tennis-ball-detection-6/test'"
      ]
     },
     "execution_count": 2,
     "metadata": {},
     "output_type": "execute_result"
    }
   ],
   "source": [
    "import shutil\n",
    "\n",
    "shutil.move('tennis-ball-detection-6/train', 'tennis-ball-detection-6/tennis-ball-detection-6/train')\n",
    "shutil.move('tennis-ball-detection-6/valid', 'tennis-ball-detection-6/tennis-ball-detection-6/valid')\n",
    "shutil.move('tennis-ball-detection-6/test', 'tennis-ball-detection-6/tennis-ball-detection-6/test')"
   ]
  },
  {
   "cell_type": "markdown",
   "metadata": {},
   "source": [
    "### Train Model"
   ]
  },
  {
   "cell_type": "code",
   "execution_count": 3,
   "metadata": {},
   "outputs": [
    {
     "name": "stdout",
     "output_type": "stream",
     "text": [
      "Downloading https://github.com/ultralytics/assets/releases/download/v8.1.0/yolov8n.pt to 'yolov8n.pt'...\n"
     ]
    },
    {
     "data": {
      "application/vnd.jupyter.widget-view+json": {
       "model_id": "276d9c334cc041d58fc2495b874def76",
       "version_major": 2,
       "version_minor": 0
      },
      "text/plain": [
       "  0%|          | 0.00/6.23M [00:00<?, ?B/s]"
      ]
     },
     "metadata": {},
     "output_type": "display_data"
    },
    {
     "name": "stdout",
     "output_type": "stream",
     "text": [
      "New https://pypi.org/project/ultralytics/8.1.29 available 😃 Update with 'pip install -U ultralytics'\n",
      "Ultralytics YOLOv8.1.3 🚀 Python-3.8.0 torch-1.9.0+cu111 CUDA:0 (NVIDIA GeForce RTX 3060 Laptop GPU, 6144MiB)\n",
      "WARNING ⚠️ Upgrade to torch>=2.0.0 for deterministic training.\n",
      "\u001b[34m\u001b[1mengine\\trainer: \u001b[0mtask=detect, mode=train, model=yolov8n.pt, data=c:\\Users\\xiani\\Desktop\\Online_Studies\\Deep_Learning_Project\\Tennis_Analysis_(CV)\\model_training\\tennis-ball-detection-6/data.yaml, epochs=100, time=None, patience=50, batch=1, imgsz=640, save=True, save_period=-1, cache=False, device=None, workers=0, project=None, name=train, exist_ok=False, pretrained=True, optimizer=auto, verbose=True, seed=0, deterministic=True, single_cls=False, rect=False, cos_lr=False, close_mosaic=10, resume=False, amp=True, fraction=1.0, profile=False, freeze=None, multi_scale=False, overlap_mask=True, mask_ratio=4, dropout=0.0, val=True, split=val, save_json=False, save_hybrid=False, conf=None, iou=0.7, max_det=300, half=False, dnn=False, plots=True, source=None, vid_stride=1, stream_buffer=False, visualize=False, augment=False, agnostic_nms=False, classes=None, retina_masks=False, embed=None, show=False, save_frames=False, save_txt=False, save_conf=False, save_crop=False, show_labels=True, show_conf=True, show_boxes=True, line_width=None, format=torchscript, keras=False, optimize=False, int8=False, dynamic=False, simplify=False, opset=None, workspace=4, nms=False, lr0=0.01, lrf=0.01, momentum=0.937, weight_decay=0.0005, warmup_epochs=3.0, warmup_momentum=0.8, warmup_bias_lr=0.1, box=7.5, cls=0.5, dfl=1.5, pose=12.0, kobj=1.0, label_smoothing=0.0, nbs=64, hsv_h=0.015, hsv_s=0.7, hsv_v=0.4, degrees=0.0, translate=0.1, scale=0.5, shear=0.0, perspective=0.0, flipud=0.0, fliplr=0.5, mosaic=1.0, mixup=0.0, copy_paste=0.0, auto_augment=randaugment, erasing=0.4, crop_fraction=1.0, cfg=None, tracker=botsort.yaml, save_dir=runs\\detect\\train\n",
      "Overriding model.yaml nc=80 with nc=1\n",
      "\n",
      "                   from  n    params  module                                       arguments                     \n",
      "  0                  -1  1       464  ultralytics.nn.modules.conv.Conv             [3, 16, 3, 2]                 \n",
      "  1                  -1  1      4672  ultralytics.nn.modules.conv.Conv             [16, 32, 3, 2]                \n",
      "  2                  -1  1      7360  ultralytics.nn.modules.block.C2f             [32, 32, 1, True]             \n",
      "  3                  -1  1     18560  ultralytics.nn.modules.conv.Conv             [32, 64, 3, 2]                \n",
      "  4                  -1  2     49664  ultralytics.nn.modules.block.C2f             [64, 64, 2, True]             \n",
      "  5                  -1  1     73984  ultralytics.nn.modules.conv.Conv             [64, 128, 3, 2]               \n",
      "  6                  -1  2    197632  ultralytics.nn.modules.block.C2f             [128, 128, 2, True]           \n",
      "  7                  -1  1    295424  ultralytics.nn.modules.conv.Conv             [128, 256, 3, 2]              \n",
      "  8                  -1  1    460288  ultralytics.nn.modules.block.C2f             [256, 256, 1, True]           \n",
      "  9                  -1  1    164608  ultralytics.nn.modules.block.SPPF            [256, 256, 5]                 \n",
      " 10                  -1  1         0  torch.nn.modules.upsampling.Upsample         [None, 2, 'nearest']          \n",
      " 11             [-1, 6]  1         0  ultralytics.nn.modules.conv.Concat           [1]                           \n",
      " 12                  -1  1    148224  ultralytics.nn.modules.block.C2f             [384, 128, 1]                 \n",
      " 13                  -1  1         0  torch.nn.modules.upsampling.Upsample         [None, 2, 'nearest']          \n",
      " 14             [-1, 4]  1         0  ultralytics.nn.modules.conv.Concat           [1]                           \n",
      " 15                  -1  1     37248  ultralytics.nn.modules.block.C2f             [192, 64, 1]                  \n",
      " 16                  -1  1     36992  ultralytics.nn.modules.conv.Conv             [64, 64, 3, 2]                \n",
      " 17            [-1, 12]  1         0  ultralytics.nn.modules.conv.Concat           [1]                           \n",
      " 18                  -1  1    123648  ultralytics.nn.modules.block.C2f             [192, 128, 1]                 \n",
      " 19                  -1  1    147712  ultralytics.nn.modules.conv.Conv             [128, 128, 3, 2]              \n",
      " 20             [-1, 9]  1         0  ultralytics.nn.modules.conv.Concat           [1]                           \n",
      " 21                  -1  1    493056  ultralytics.nn.modules.block.C2f             [384, 256, 1]                 \n",
      " 22        [15, 18, 21]  1    751507  ultralytics.nn.modules.head.Detect           [1, [64, 128, 256]]           \n"
     ]
    },
    {
     "name": "stderr",
     "output_type": "stream",
     "text": [
      "Named tensors and all their associated APIs are an experimental feature and subject to change. Please do not use them for anything important until they are released as stable. (Triggered internally at  ..\\c10/core/TensorImpl.h:1156.)\n"
     ]
    },
    {
     "name": "stdout",
     "output_type": "stream",
     "text": [
      "Model summary: 225 layers, 3011043 parameters, 3011027 gradients, 8.2 GFLOPs\n",
      "\n",
      "Transferred 319/355 items from pretrained weights\n",
      "\u001b[34m\u001b[1mTensorBoard: \u001b[0mStart with 'tensorboard --logdir runs\\detect\\train', view at http://localhost:6006/\n",
      "Freezing layer 'model.22.dfl.conv.weight'\n",
      "\u001b[34m\u001b[1mAMP: \u001b[0mrunning Automatic Mixed Precision (AMP) checks with YOLOv8n...\n",
      "\u001b[34m\u001b[1mAMP: \u001b[0mchecks passed ✅\n"
     ]
    },
    {
     "name": "stderr",
     "output_type": "stream",
     "text": [
      "\u001b[34m\u001b[1mtrain: \u001b[0mScanning C:\\Users\\xiani\\Desktop\\Online_Studies\\Deep_Learning_Project\\Tennis_Analysis_(CV)\\model_training\\tennis-ball-detection-6\\tennis-ball-detection-6\\train\\labels... 428 images, 2 backgrounds, 0 corrupt: 100%|██████████| 428/428 [00:00<00:00, 853.15it/s]\n"
     ]
    },
    {
     "name": "stdout",
     "output_type": "stream",
     "text": [
      "\u001b[34m\u001b[1mtrain: \u001b[0mNew cache created: C:\\Users\\xiani\\Desktop\\Online_Studies\\Deep_Learning_Project\\Tennis_Analysis_(CV)\\model_training\\tennis-ball-detection-6\\tennis-ball-detection-6\\train\\labels.cache\n"
     ]
    },
    {
     "name": "stderr",
     "output_type": "stream",
     "text": [
      "\u001b[34m\u001b[1mval: \u001b[0mScanning C:\\Users\\xiani\\Desktop\\Online_Studies\\Deep_Learning_Project\\Tennis_Analysis_(CV)\\model_training\\tennis-ball-detection-6\\tennis-ball-detection-6\\valid\\labels... 100 images, 0 backgrounds, 0 corrupt: 100%|██████████| 100/100 [00:00<00:00, 772.80it/s]"
     ]
    },
    {
     "name": "stdout",
     "output_type": "stream",
     "text": [
      "\u001b[34m\u001b[1mval: \u001b[0mNew cache created: C:\\Users\\xiani\\Desktop\\Online_Studies\\Deep_Learning_Project\\Tennis_Analysis_(CV)\\model_training\\tennis-ball-detection-6\\tennis-ball-detection-6\\valid\\labels.cache\n"
     ]
    },
    {
     "name": "stderr",
     "output_type": "stream",
     "text": [
      "\n"
     ]
    },
    {
     "name": "stdout",
     "output_type": "stream",
     "text": [
      "Plotting labels to runs\\detect\\train\\labels.jpg... \n",
      "\u001b[34m\u001b[1moptimizer:\u001b[0m 'optimizer=auto' found, ignoring 'lr0=0.01' and 'momentum=0.937' and determining best 'optimizer', 'lr0' and 'momentum' automatically... \n",
      "\u001b[34m\u001b[1moptimizer:\u001b[0m AdamW(lr=0.002, momentum=0.9) with parameter groups 57 weight(decay=0.0), 64 weight(decay=0.0005), 63 bias(decay=0.0)\n"
     ]
    },
    {
     "name": "stderr",
     "output_type": "stream",
     "text": [
      "2024/03/18 13:10:31 INFO mlflow.tracking.fluent: Experiment with name '/Shared/YOLOv8' does not exist. Creating a new experiment.\n",
      "2024/03/18 13:10:31 INFO mlflow.tracking.fluent: Autologging successfully enabled for tensorflow.\n",
      "2024/03/18 13:10:31 INFO mlflow.tracking.fluent: Autologging successfully enabled for keras.\n",
      "2024/03/18 13:10:31 WARNING mlflow.utils.git_utils: Failed to import Git (the Git executable is probably not on your PATH), so Git SHA is not available. Error: Failed to initialize: Bad git executable.\n",
      "The git executable must be specified in one of the following ways:\n",
      "    - be included in your $PATH\n",
      "    - be set via $GIT_PYTHON_GIT_EXECUTABLE\n",
      "    - explicitly set via git.refresh()\n",
      "\n",
      "All git commands will error until this is rectified.\n",
      "\n",
      "This initial message can be silenced or aggravated in the future by setting the\n",
      "$GIT_PYTHON_REFRESH environment variable. Use one of the following values:\n",
      "    - quiet|q|silence|s|silent|none|n|0: for no message or exception\n",
      "    - warn|w|warning|log|l|1: for a warning message (logged at level CRITICAL, displayed by default)\n",
      "    - error|e|exception|raise|r|2: for a raised exception\n",
      "\n",
      "Example:\n",
      "    export GIT_PYTHON_REFRESH=quiet\n",
      "\n"
     ]
    },
    {
     "name": "stdout",
     "output_type": "stream",
     "text": [
      "\u001b[34m\u001b[1mMLflow: \u001b[0mlogging run_id(79edee7f355148c2ab2ff9b8f1f45bbd) to runs\\mlflow\n",
      "\u001b[34m\u001b[1mMLflow: \u001b[0mview at http://127.0.0.1:5000 with 'mlflow server --backend-store-uri runs\\mlflow'\n",
      "\u001b[34m\u001b[1mMLflow: \u001b[0mdisable with 'yolo settings mlflow=False'\n",
      "Image sizes 640 train, 640 val\n",
      "Using 0 dataloader workers\n",
      "Logging results to \u001b[1mruns\\detect\\train\u001b[0m\n",
      "Starting training for 100 epochs...\n",
      "\n",
      "      Epoch    GPU_mem   box_loss   cls_loss   dfl_loss  Instances       Size\n"
     ]
    },
    {
     "name": "stderr",
     "output_type": "stream",
     "text": [
      "      1/100     0.325G     0.9732      7.231     0.2754          1        640: 100%|██████████| 428/428 [00:40<00:00, 10.58it/s]\n",
      "                 Class     Images  Instances      Box(P          R      mAP50  mAP50-95): 100%|██████████| 50/50 [00:02<00:00, 18.37it/s]"
     ]
    },
    {
     "name": "stdout",
     "output_type": "stream",
     "text": [
      "                   all        100        101       0.66      0.129      0.172     0.0328\n"
     ]
    },
    {
     "name": "stderr",
     "output_type": "stream",
     "text": [
      "\n"
     ]
    },
    {
     "name": "stdout",
     "output_type": "stream",
     "text": [
      "\n",
      "      Epoch    GPU_mem   box_loss   cls_loss   dfl_loss  Instances       Size\n"
     ]
    },
    {
     "name": "stderr",
     "output_type": "stream",
     "text": [
      "      2/100      0.22G      1.171      5.821     0.3214          1        640: 100%|██████████| 428/428 [00:39<00:00, 10.97it/s]\n",
      "                 Class     Images  Instances      Box(P          R      mAP50  mAP50-95): 100%|██████████| 50/50 [00:02<00:00, 17.79it/s]"
     ]
    },
    {
     "name": "stdout",
     "output_type": "stream",
     "text": [
      "                   all        100        101      0.607      0.257      0.216     0.0415\n"
     ]
    },
    {
     "name": "stderr",
     "output_type": "stream",
     "text": [
      "\n"
     ]
    },
    {
     "name": "stdout",
     "output_type": "stream",
     "text": [
      "\n",
      "      Epoch    GPU_mem   box_loss   cls_loss   dfl_loss  Instances       Size\n"
     ]
    },
    {
     "name": "stderr",
     "output_type": "stream",
     "text": [
      "      3/100      0.22G      1.126      4.923     0.3144          1        640: 100%|██████████| 428/428 [00:38<00:00, 11.10it/s]\n",
      "                 Class     Images  Instances      Box(P          R      mAP50  mAP50-95): 100%|██████████| 50/50 [00:02<00:00, 18.37it/s]"
     ]
    },
    {
     "name": "stdout",
     "output_type": "stream",
     "text": [
      "                   all        100        101      0.665      0.208      0.226     0.0594\n"
     ]
    },
    {
     "name": "stderr",
     "output_type": "stream",
     "text": [
      "\n"
     ]
    },
    {
     "name": "stdout",
     "output_type": "stream",
     "text": [
      "\n",
      "      Epoch    GPU_mem   box_loss   cls_loss   dfl_loss  Instances       Size\n"
     ]
    },
    {
     "name": "stderr",
     "output_type": "stream",
     "text": [
      "      4/100      0.22G      1.272      4.316      0.358          1        640: 100%|██████████| 428/428 [00:38<00:00, 11.20it/s]\n",
      "                 Class     Images  Instances      Box(P          R      mAP50  mAP50-95): 100%|██████████| 50/50 [00:02<00:00, 18.31it/s]"
     ]
    },
    {
     "name": "stdout",
     "output_type": "stream",
     "text": [
      "                   all        100        101       0.51      0.158      0.154      0.031\n"
     ]
    },
    {
     "name": "stderr",
     "output_type": "stream",
     "text": [
      "\n"
     ]
    },
    {
     "name": "stdout",
     "output_type": "stream",
     "text": [
      "\n",
      "      Epoch    GPU_mem   box_loss   cls_loss   dfl_loss  Instances       Size\n"
     ]
    },
    {
     "name": "stderr",
     "output_type": "stream",
     "text": [
      "      5/100      0.22G      1.332      3.729     0.3913          0        640: 100%|██████████| 428/428 [00:37<00:00, 11.28it/s]\n",
      "                 Class     Images  Instances      Box(P          R      mAP50  mAP50-95): 100%|██████████| 50/50 [00:02<00:00, 18.59it/s]"
     ]
    },
    {
     "name": "stdout",
     "output_type": "stream",
     "text": [
      "                   all        100        101      0.444      0.309      0.248     0.0533\n"
     ]
    },
    {
     "name": "stderr",
     "output_type": "stream",
     "text": [
      "\n"
     ]
    },
    {
     "name": "stdout",
     "output_type": "stream",
     "text": [
      "\n",
      "      Epoch    GPU_mem   box_loss   cls_loss   dfl_loss  Instances       Size\n"
     ]
    },
    {
     "name": "stderr",
     "output_type": "stream",
     "text": [
      "      6/100      0.22G      1.212       3.03       0.35          0        640: 100%|██████████| 428/428 [00:37<00:00, 11.34it/s]\n",
      "                 Class     Images  Instances      Box(P          R      mAP50  mAP50-95): 100%|██████████| 50/50 [00:02<00:00, 18.47it/s]"
     ]
    },
    {
     "name": "stdout",
     "output_type": "stream",
     "text": [
      "                   all        100        101      0.296      0.198      0.121     0.0299\n"
     ]
    },
    {
     "name": "stderr",
     "output_type": "stream",
     "text": [
      "\n"
     ]
    },
    {
     "name": "stdout",
     "output_type": "stream",
     "text": [
      "\n",
      "      Epoch    GPU_mem   box_loss   cls_loss   dfl_loss  Instances       Size\n"
     ]
    },
    {
     "name": "stderr",
     "output_type": "stream",
     "text": [
      "      7/100      0.22G      1.298      2.723     0.3509          1        640: 100%|██████████| 428/428 [00:37<00:00, 11.30it/s]\n",
      "                 Class     Images  Instances      Box(P          R      mAP50  mAP50-95): 100%|██████████| 50/50 [00:02<00:00, 18.42it/s]"
     ]
    },
    {
     "name": "stdout",
     "output_type": "stream",
     "text": [
      "                   all        100        101      0.392      0.218      0.174     0.0298\n"
     ]
    },
    {
     "name": "stderr",
     "output_type": "stream",
     "text": [
      "\n"
     ]
    },
    {
     "name": "stdout",
     "output_type": "stream",
     "text": [
      "\n",
      "      Epoch    GPU_mem   box_loss   cls_loss   dfl_loss  Instances       Size\n"
     ]
    },
    {
     "name": "stderr",
     "output_type": "stream",
     "text": [
      "      8/100      0.22G      1.219       2.29     0.3607          2        640: 100%|██████████| 428/428 [00:37<00:00, 11.31it/s]\n",
      "                 Class     Images  Instances      Box(P          R      mAP50  mAP50-95): 100%|██████████| 50/50 [00:02<00:00, 18.56it/s]"
     ]
    },
    {
     "name": "stdout",
     "output_type": "stream",
     "text": [
      "                   all        100        101      0.553      0.327      0.375      0.121\n"
     ]
    },
    {
     "name": "stderr",
     "output_type": "stream",
     "text": [
      "\n"
     ]
    },
    {
     "name": "stdout",
     "output_type": "stream",
     "text": [
      "\n",
      "      Epoch    GPU_mem   box_loss   cls_loss   dfl_loss  Instances       Size\n"
     ]
    },
    {
     "name": "stderr",
     "output_type": "stream",
     "text": [
      "      9/100      0.22G      1.199      1.911     0.3587          3        640: 100%|██████████| 428/428 [00:38<00:00, 11.16it/s]\n",
      "                 Class     Images  Instances      Box(P          R      mAP50  mAP50-95): 100%|██████████| 50/50 [00:02<00:00, 18.02it/s]"
     ]
    },
    {
     "name": "stdout",
     "output_type": "stream",
     "text": [
      "                   all        100        101      0.564      0.356      0.374      0.116\n"
     ]
    },
    {
     "name": "stderr",
     "output_type": "stream",
     "text": [
      "\n"
     ]
    },
    {
     "name": "stdout",
     "output_type": "stream",
     "text": [
      "\n",
      "      Epoch    GPU_mem   box_loss   cls_loss   dfl_loss  Instances       Size\n"
     ]
    },
    {
     "name": "stderr",
     "output_type": "stream",
     "text": [
      "     10/100      0.22G      1.311      1.745     0.3802          3        640: 100%|██████████| 428/428 [00:38<00:00, 11.07it/s]\n",
      "                 Class     Images  Instances      Box(P          R      mAP50  mAP50-95): 100%|██████████| 50/50 [00:02<00:00, 18.84it/s]"
     ]
    },
    {
     "name": "stdout",
     "output_type": "stream",
     "text": [
      "                   all        100        101      0.492      0.287      0.253      0.052\n"
     ]
    },
    {
     "name": "stderr",
     "output_type": "stream",
     "text": [
      "\n"
     ]
    },
    {
     "name": "stdout",
     "output_type": "stream",
     "text": [
      "\n",
      "      Epoch    GPU_mem   box_loss   cls_loss   dfl_loss  Instances       Size\n"
     ]
    },
    {
     "name": "stderr",
     "output_type": "stream",
     "text": [
      "     11/100      0.22G      1.252      1.564     0.3696          1        640: 100%|██████████| 428/428 [00:39<00:00, 10.95it/s]\n",
      "                 Class     Images  Instances      Box(P          R      mAP50  mAP50-95): 100%|██████████| 50/50 [00:02<00:00, 17.75it/s]"
     ]
    },
    {
     "name": "stdout",
     "output_type": "stream",
     "text": [
      "                   all        100        101      0.622      0.408      0.403     0.0939\n"
     ]
    },
    {
     "name": "stderr",
     "output_type": "stream",
     "text": [
      "\n"
     ]
    },
    {
     "name": "stdout",
     "output_type": "stream",
     "text": [
      "\n",
      "      Epoch    GPU_mem   box_loss   cls_loss   dfl_loss  Instances       Size\n"
     ]
    },
    {
     "name": "stderr",
     "output_type": "stream",
     "text": [
      "     12/100      0.22G      1.245      1.405     0.3586          2        640: 100%|██████████| 428/428 [00:38<00:00, 11.15it/s]\n",
      "                 Class     Images  Instances      Box(P          R      mAP50  mAP50-95): 100%|██████████| 50/50 [00:02<00:00, 18.56it/s]"
     ]
    },
    {
     "name": "stdout",
     "output_type": "stream",
     "text": [
      "                   all        100        101      0.333      0.149     0.0896     0.0137\n"
     ]
    },
    {
     "name": "stderr",
     "output_type": "stream",
     "text": [
      "\n"
     ]
    },
    {
     "name": "stdout",
     "output_type": "stream",
     "text": [
      "\n",
      "      Epoch    GPU_mem   box_loss   cls_loss   dfl_loss  Instances       Size\n"
     ]
    },
    {
     "name": "stderr",
     "output_type": "stream",
     "text": [
      "     13/100      0.22G      1.264      1.324     0.3732          2        640: 100%|██████████| 428/428 [00:37<00:00, 11.27it/s]\n",
      "                 Class     Images  Instances      Box(P          R      mAP50  mAP50-95): 100%|██████████| 50/50 [00:02<00:00, 18.79it/s]"
     ]
    },
    {
     "name": "stdout",
     "output_type": "stream",
     "text": [
      "                   all        100        101      0.581      0.425      0.384      0.104\n"
     ]
    },
    {
     "name": "stderr",
     "output_type": "stream",
     "text": [
      "\n"
     ]
    },
    {
     "name": "stdout",
     "output_type": "stream",
     "text": [
      "\n",
      "      Epoch    GPU_mem   box_loss   cls_loss   dfl_loss  Instances       Size\n"
     ]
    },
    {
     "name": "stderr",
     "output_type": "stream",
     "text": [
      "     14/100      0.22G      1.164      1.152     0.3476          2        640: 100%|██████████| 428/428 [00:37<00:00, 11.31it/s]\n",
      "                 Class     Images  Instances      Box(P          R      mAP50  mAP50-95): 100%|██████████| 50/50 [00:02<00:00, 18.32it/s]"
     ]
    },
    {
     "name": "stdout",
     "output_type": "stream",
     "text": [
      "                   all        100        101       0.57      0.396      0.332     0.0896\n"
     ]
    },
    {
     "name": "stderr",
     "output_type": "stream",
     "text": [
      "\n"
     ]
    },
    {
     "name": "stdout",
     "output_type": "stream",
     "text": [
      "\n",
      "      Epoch    GPU_mem   box_loss   cls_loss   dfl_loss  Instances       Size\n"
     ]
    },
    {
     "name": "stderr",
     "output_type": "stream",
     "text": [
      "     15/100      0.22G      1.334      1.171     0.3975          0        640: 100%|██████████| 428/428 [00:37<00:00, 11.26it/s]\n",
      "                 Class     Images  Instances      Box(P          R      mAP50  mAP50-95): 100%|██████████| 50/50 [00:02<00:00, 18.74it/s]"
     ]
    },
    {
     "name": "stdout",
     "output_type": "stream",
     "text": [
      "                   all        100        101      0.558      0.488      0.359      0.102\n"
     ]
    },
    {
     "name": "stderr",
     "output_type": "stream",
     "text": [
      "\n"
     ]
    },
    {
     "name": "stdout",
     "output_type": "stream",
     "text": [
      "\n",
      "      Epoch    GPU_mem   box_loss   cls_loss   dfl_loss  Instances       Size\n"
     ]
    },
    {
     "name": "stderr",
     "output_type": "stream",
     "text": [
      "     16/100      0.22G      1.157      1.063     0.3571          4        640: 100%|██████████| 428/428 [00:37<00:00, 11.28it/s]\n",
      "                 Class     Images  Instances      Box(P          R      mAP50  mAP50-95): 100%|██████████| 50/50 [00:02<00:00, 18.47it/s]"
     ]
    },
    {
     "name": "stdout",
     "output_type": "stream",
     "text": [
      "                   all        100        101      0.605      0.439      0.392      0.109\n"
     ]
    },
    {
     "name": "stderr",
     "output_type": "stream",
     "text": [
      "\n"
     ]
    },
    {
     "name": "stdout",
     "output_type": "stream",
     "text": [
      "\n",
      "      Epoch    GPU_mem   box_loss   cls_loss   dfl_loss  Instances       Size\n"
     ]
    },
    {
     "name": "stderr",
     "output_type": "stream",
     "text": [
      "     17/100      0.22G      1.236       1.03     0.3917          3        640: 100%|██████████| 428/428 [00:38<00:00, 11.23it/s]\n",
      "                 Class     Images  Instances      Box(P          R      mAP50  mAP50-95): 100%|██████████| 50/50 [00:02<00:00, 18.41it/s]"
     ]
    },
    {
     "name": "stdout",
     "output_type": "stream",
     "text": [
      "                   all        100        101      0.669      0.446      0.458      0.122\n"
     ]
    },
    {
     "name": "stderr",
     "output_type": "stream",
     "text": [
      "\n"
     ]
    },
    {
     "name": "stdout",
     "output_type": "stream",
     "text": [
      "\n",
      "      Epoch    GPU_mem   box_loss   cls_loss   dfl_loss  Instances       Size\n"
     ]
    },
    {
     "name": "stderr",
     "output_type": "stream",
     "text": [
      "     18/100      0.22G      1.307      1.005     0.4085          2        640: 100%|██████████| 428/428 [00:38<00:00, 11.23it/s]\n",
      "                 Class     Images  Instances      Box(P          R      mAP50  mAP50-95): 100%|██████████| 50/50 [00:02<00:00, 18.28it/s]"
     ]
    },
    {
     "name": "stdout",
     "output_type": "stream",
     "text": [
      "                   all        100        101      0.726      0.515      0.534      0.146\n"
     ]
    },
    {
     "name": "stderr",
     "output_type": "stream",
     "text": [
      "\n"
     ]
    },
    {
     "name": "stdout",
     "output_type": "stream",
     "text": [
      "\n",
      "      Epoch    GPU_mem   box_loss   cls_loss   dfl_loss  Instances       Size\n"
     ]
    },
    {
     "name": "stderr",
     "output_type": "stream",
     "text": [
      "     19/100      0.22G      1.196     0.8958     0.3935          2        640: 100%|██████████| 428/428 [00:38<00:00, 11.23it/s]\n",
      "                 Class     Images  Instances      Box(P          R      mAP50  mAP50-95): 100%|██████████| 50/50 [00:02<00:00, 18.79it/s]"
     ]
    },
    {
     "name": "stdout",
     "output_type": "stream",
     "text": [
      "                   all        100        101      0.636      0.426      0.446      0.105\n"
     ]
    },
    {
     "name": "stderr",
     "output_type": "stream",
     "text": [
      "\n"
     ]
    },
    {
     "name": "stdout",
     "output_type": "stream",
     "text": [
      "\n",
      "      Epoch    GPU_mem   box_loss   cls_loss   dfl_loss  Instances       Size\n"
     ]
    },
    {
     "name": "stderr",
     "output_type": "stream",
     "text": [
      "     20/100      0.22G      1.183     0.8991     0.3774          0        640: 100%|██████████| 428/428 [00:38<00:00, 11.26it/s]\n",
      "                 Class     Images  Instances      Box(P          R      mAP50  mAP50-95): 100%|██████████| 50/50 [00:02<00:00, 18.51it/s]"
     ]
    },
    {
     "name": "stdout",
     "output_type": "stream",
     "text": [
      "                   all        100        101      0.778      0.525      0.549      0.159\n"
     ]
    },
    {
     "name": "stderr",
     "output_type": "stream",
     "text": [
      "\n"
     ]
    },
    {
     "name": "stdout",
     "output_type": "stream",
     "text": [
      "\n",
      "      Epoch    GPU_mem   box_loss   cls_loss   dfl_loss  Instances       Size\n"
     ]
    },
    {
     "name": "stderr",
     "output_type": "stream",
     "text": [
      "     21/100      0.22G      1.349     0.9363     0.4201          4        640: 100%|██████████| 428/428 [00:38<00:00, 11.24it/s]\n",
      "                 Class     Images  Instances      Box(P          R      mAP50  mAP50-95): 100%|██████████| 50/50 [00:02<00:00, 18.34it/s]"
     ]
    },
    {
     "name": "stdout",
     "output_type": "stream",
     "text": [
      "                   all        100        101      0.461      0.366      0.348      0.102\n"
     ]
    },
    {
     "name": "stderr",
     "output_type": "stream",
     "text": [
      "\n"
     ]
    },
    {
     "name": "stdout",
     "output_type": "stream",
     "text": [
      "\n",
      "      Epoch    GPU_mem   box_loss   cls_loss   dfl_loss  Instances       Size\n"
     ]
    },
    {
     "name": "stderr",
     "output_type": "stream",
     "text": [
      "     22/100      0.22G      1.176     0.8305     0.3961          0        640: 100%|██████████| 428/428 [00:38<00:00, 11.20it/s]\n",
      "                 Class     Images  Instances      Box(P          R      mAP50  mAP50-95): 100%|██████████| 50/50 [00:02<00:00, 18.38it/s]"
     ]
    },
    {
     "name": "stdout",
     "output_type": "stream",
     "text": [
      "                   all        100        101      0.562      0.396      0.387      0.113\n"
     ]
    },
    {
     "name": "stderr",
     "output_type": "stream",
     "text": [
      "\n"
     ]
    },
    {
     "name": "stdout",
     "output_type": "stream",
     "text": [
      "\n",
      "      Epoch    GPU_mem   box_loss   cls_loss   dfl_loss  Instances       Size\n"
     ]
    },
    {
     "name": "stderr",
     "output_type": "stream",
     "text": [
      "     23/100      0.22G      1.244     0.8631     0.4109          1        640: 100%|██████████| 428/428 [00:38<00:00, 11.20it/s]\n",
      "                 Class     Images  Instances      Box(P          R      mAP50  mAP50-95): 100%|██████████| 50/50 [00:02<00:00, 18.17it/s]"
     ]
    },
    {
     "name": "stdout",
     "output_type": "stream",
     "text": [
      "                   all        100        101      0.673      0.346      0.341     0.0792\n"
     ]
    },
    {
     "name": "stderr",
     "output_type": "stream",
     "text": [
      "\n"
     ]
    },
    {
     "name": "stdout",
     "output_type": "stream",
     "text": [
      "\n",
      "      Epoch    GPU_mem   box_loss   cls_loss   dfl_loss  Instances       Size\n"
     ]
    },
    {
     "name": "stderr",
     "output_type": "stream",
     "text": [
      "     24/100      0.22G      1.193     0.8355     0.3956          3        640: 100%|██████████| 428/428 [00:37<00:00, 11.27it/s]\n",
      "                 Class     Images  Instances      Box(P          R      mAP50  mAP50-95): 100%|██████████| 50/50 [00:02<00:00, 18.68it/s]"
     ]
    },
    {
     "name": "stdout",
     "output_type": "stream",
     "text": [
      "                   all        100        101      0.665      0.485      0.536      0.148\n"
     ]
    },
    {
     "name": "stderr",
     "output_type": "stream",
     "text": [
      "\n"
     ]
    },
    {
     "name": "stdout",
     "output_type": "stream",
     "text": [
      "\n",
      "      Epoch    GPU_mem   box_loss   cls_loss   dfl_loss  Instances       Size\n"
     ]
    },
    {
     "name": "stderr",
     "output_type": "stream",
     "text": [
      "     25/100      0.22G      1.188      0.797     0.3894          1        640: 100%|██████████| 428/428 [00:38<00:00, 11.21it/s]\n",
      "                 Class     Images  Instances      Box(P          R      mAP50  mAP50-95): 100%|██████████| 50/50 [00:02<00:00, 18.76it/s]"
     ]
    },
    {
     "name": "stdout",
     "output_type": "stream",
     "text": [
      "                   all        100        101      0.686      0.525      0.534      0.152\n"
     ]
    },
    {
     "name": "stderr",
     "output_type": "stream",
     "text": [
      "\n"
     ]
    },
    {
     "name": "stdout",
     "output_type": "stream",
     "text": [
      "\n",
      "      Epoch    GPU_mem   box_loss   cls_loss   dfl_loss  Instances       Size\n"
     ]
    },
    {
     "name": "stderr",
     "output_type": "stream",
     "text": [
      "     26/100      0.22G      1.105     0.7604     0.3799          4        640: 100%|██████████| 428/428 [00:38<00:00, 11.23it/s]\n",
      "                 Class     Images  Instances      Box(P          R      mAP50  mAP50-95): 100%|██████████| 50/50 [00:02<00:00, 18.46it/s]"
     ]
    },
    {
     "name": "stdout",
     "output_type": "stream",
     "text": [
      "                   all        100        101      0.688      0.406      0.458      0.154\n"
     ]
    },
    {
     "name": "stderr",
     "output_type": "stream",
     "text": [
      "\n"
     ]
    },
    {
     "name": "stdout",
     "output_type": "stream",
     "text": [
      "\n",
      "      Epoch    GPU_mem   box_loss   cls_loss   dfl_loss  Instances       Size\n"
     ]
    },
    {
     "name": "stderr",
     "output_type": "stream",
     "text": [
      "     27/100      0.22G        1.1      0.753     0.3722          1        640: 100%|██████████| 428/428 [00:37<00:00, 11.27it/s]\n",
      "                 Class     Images  Instances      Box(P          R      mAP50  mAP50-95): 100%|██████████| 50/50 [00:02<00:00, 18.53it/s]"
     ]
    },
    {
     "name": "stdout",
     "output_type": "stream",
     "text": [
      "                   all        100        101      0.721      0.426      0.497      0.169\n"
     ]
    },
    {
     "name": "stderr",
     "output_type": "stream",
     "text": [
      "\n"
     ]
    },
    {
     "name": "stdout",
     "output_type": "stream",
     "text": [
      "\n",
      "      Epoch    GPU_mem   box_loss   cls_loss   dfl_loss  Instances       Size\n"
     ]
    },
    {
     "name": "stderr",
     "output_type": "stream",
     "text": [
      "     28/100      0.22G      1.145     0.7358     0.3858          2        640: 100%|██████████| 428/428 [00:38<00:00, 11.25it/s]\n",
      "                 Class     Images  Instances      Box(P          R      mAP50  mAP50-95): 100%|██████████| 50/50 [00:02<00:00, 18.53it/s]"
     ]
    },
    {
     "name": "stdout",
     "output_type": "stream",
     "text": [
      "                   all        100        101      0.694      0.515      0.522      0.148\n"
     ]
    },
    {
     "name": "stderr",
     "output_type": "stream",
     "text": [
      "\n"
     ]
    },
    {
     "name": "stdout",
     "output_type": "stream",
     "text": [
      "\n",
      "      Epoch    GPU_mem   box_loss   cls_loss   dfl_loss  Instances       Size\n"
     ]
    },
    {
     "name": "stderr",
     "output_type": "stream",
     "text": [
      "     29/100      0.22G      1.237     0.7544      0.401          1        640: 100%|██████████| 428/428 [00:38<00:00, 11.24it/s]\n",
      "                 Class     Images  Instances      Box(P          R      mAP50  mAP50-95): 100%|██████████| 50/50 [00:02<00:00, 18.50it/s]"
     ]
    },
    {
     "name": "stdout",
     "output_type": "stream",
     "text": [
      "                   all        100        101      0.696      0.545      0.586      0.204\n"
     ]
    },
    {
     "name": "stderr",
     "output_type": "stream",
     "text": [
      "\n"
     ]
    },
    {
     "name": "stdout",
     "output_type": "stream",
     "text": [
      "\n",
      "      Epoch    GPU_mem   box_loss   cls_loss   dfl_loss  Instances       Size\n"
     ]
    },
    {
     "name": "stderr",
     "output_type": "stream",
     "text": [
      "     30/100      0.22G       1.19      0.729     0.4174          1        640: 100%|██████████| 428/428 [00:38<00:00, 11.24it/s]\n",
      "                 Class     Images  Instances      Box(P          R      mAP50  mAP50-95): 100%|██████████| 50/50 [00:02<00:00, 18.19it/s]"
     ]
    },
    {
     "name": "stdout",
     "output_type": "stream",
     "text": [
      "                   all        100        101      0.764      0.576       0.62        0.2\n"
     ]
    },
    {
     "name": "stderr",
     "output_type": "stream",
     "text": [
      "\n"
     ]
    },
    {
     "name": "stdout",
     "output_type": "stream",
     "text": [
      "\n",
      "      Epoch    GPU_mem   box_loss   cls_loss   dfl_loss  Instances       Size\n"
     ]
    },
    {
     "name": "stderr",
     "output_type": "stream",
     "text": [
      "     31/100      0.22G      1.162     0.7088     0.4031          3        640: 100%|██████████| 428/428 [00:37<00:00, 11.27it/s]\n",
      "                 Class     Images  Instances      Box(P          R      mAP50  mAP50-95): 100%|██████████| 50/50 [00:02<00:00, 18.11it/s]"
     ]
    },
    {
     "name": "stdout",
     "output_type": "stream",
     "text": [
      "                   all        100        101      0.728      0.477      0.572       0.19\n"
     ]
    },
    {
     "name": "stderr",
     "output_type": "stream",
     "text": [
      "\n"
     ]
    },
    {
     "name": "stdout",
     "output_type": "stream",
     "text": [
      "\n",
      "      Epoch    GPU_mem   box_loss   cls_loss   dfl_loss  Instances       Size\n"
     ]
    },
    {
     "name": "stderr",
     "output_type": "stream",
     "text": [
      "     32/100      0.22G      1.286      0.794     0.4481          1        640: 100%|██████████| 428/428 [00:38<00:00, 11.07it/s]\n",
      "                 Class     Images  Instances      Box(P          R      mAP50  mAP50-95): 100%|██████████| 50/50 [00:02<00:00, 18.21it/s]"
     ]
    },
    {
     "name": "stdout",
     "output_type": "stream",
     "text": [
      "                   all        100        101      0.691      0.515      0.545      0.156\n"
     ]
    },
    {
     "name": "stderr",
     "output_type": "stream",
     "text": [
      "\n"
     ]
    },
    {
     "name": "stdout",
     "output_type": "stream",
     "text": [
      "\n",
      "      Epoch    GPU_mem   box_loss   cls_loss   dfl_loss  Instances       Size\n"
     ]
    },
    {
     "name": "stderr",
     "output_type": "stream",
     "text": [
      "     33/100      0.22G      1.121     0.6911     0.3691          3        640: 100%|██████████| 428/428 [00:38<00:00, 11.24it/s]\n",
      "                 Class     Images  Instances      Box(P          R      mAP50  mAP50-95): 100%|██████████| 50/50 [00:02<00:00, 18.10it/s]"
     ]
    },
    {
     "name": "stdout",
     "output_type": "stream",
     "text": [
      "                   all        100        101      0.676      0.574      0.568        0.2\n"
     ]
    },
    {
     "name": "stderr",
     "output_type": "stream",
     "text": [
      "\n"
     ]
    },
    {
     "name": "stdout",
     "output_type": "stream",
     "text": [
      "\n",
      "      Epoch    GPU_mem   box_loss   cls_loss   dfl_loss  Instances       Size\n"
     ]
    },
    {
     "name": "stderr",
     "output_type": "stream",
     "text": [
      "     34/100      0.22G      1.065     0.6307     0.3678          1        640: 100%|██████████| 428/428 [00:37<00:00, 11.28it/s]\n",
      "                 Class     Images  Instances      Box(P          R      mAP50  mAP50-95): 100%|██████████| 50/50 [00:02<00:00, 18.63it/s]"
     ]
    },
    {
     "name": "stdout",
     "output_type": "stream",
     "text": [
      "                   all        100        101      0.653      0.485      0.478      0.176\n"
     ]
    },
    {
     "name": "stderr",
     "output_type": "stream",
     "text": [
      "\n"
     ]
    },
    {
     "name": "stdout",
     "output_type": "stream",
     "text": [
      "\n",
      "      Epoch    GPU_mem   box_loss   cls_loss   dfl_loss  Instances       Size\n"
     ]
    },
    {
     "name": "stderr",
     "output_type": "stream",
     "text": [
      "     35/100      0.22G      1.189     0.6998     0.4123          1        640: 100%|██████████| 428/428 [00:38<00:00, 11.19it/s]\n",
      "                 Class     Images  Instances      Box(P          R      mAP50  mAP50-95): 100%|██████████| 50/50 [00:02<00:00, 18.32it/s]"
     ]
    },
    {
     "name": "stdout",
     "output_type": "stream",
     "text": [
      "                   all        100        101      0.688      0.523      0.525       0.18\n"
     ]
    },
    {
     "name": "stderr",
     "output_type": "stream",
     "text": [
      "\n"
     ]
    },
    {
     "name": "stdout",
     "output_type": "stream",
     "text": [
      "\n",
      "      Epoch    GPU_mem   box_loss   cls_loss   dfl_loss  Instances       Size\n"
     ]
    },
    {
     "name": "stderr",
     "output_type": "stream",
     "text": [
      "     36/100      0.22G      1.112     0.6459     0.4038          4        640: 100%|██████████| 428/428 [00:38<00:00, 11.20it/s]\n",
      "                 Class     Images  Instances      Box(P          R      mAP50  mAP50-95): 100%|██████████| 50/50 [00:02<00:00, 18.80it/s]"
     ]
    },
    {
     "name": "stdout",
     "output_type": "stream",
     "text": [
      "                   all        100        101      0.696      0.499       0.55      0.197\n"
     ]
    },
    {
     "name": "stderr",
     "output_type": "stream",
     "text": [
      "\n"
     ]
    },
    {
     "name": "stdout",
     "output_type": "stream",
     "text": [
      "\n",
      "      Epoch    GPU_mem   box_loss   cls_loss   dfl_loss  Instances       Size\n"
     ]
    },
    {
     "name": "stderr",
     "output_type": "stream",
     "text": [
      "     37/100      0.22G      1.077     0.6177     0.3863          3        640: 100%|██████████| 428/428 [00:38<00:00, 11.26it/s]\n",
      "                 Class     Images  Instances      Box(P          R      mAP50  mAP50-95): 100%|██████████| 50/50 [00:02<00:00, 18.37it/s]\n"
     ]
    },
    {
     "name": "stdout",
     "output_type": "stream",
     "text": [
      "                   all        100        101      0.507      0.386      0.443      0.173\n",
      "\n",
      "      Epoch    GPU_mem   box_loss   cls_loss   dfl_loss  Instances       Size\n"
     ]
    },
    {
     "name": "stderr",
     "output_type": "stream",
     "text": [
      "     38/100      0.22G      1.141      0.642     0.3946          2        640: 100%|██████████| 428/428 [00:38<00:00, 11.24it/s]\n",
      "                 Class     Images  Instances      Box(P          R      mAP50  mAP50-95): 100%|██████████| 50/50 [00:02<00:00, 18.39it/s]"
     ]
    },
    {
     "name": "stdout",
     "output_type": "stream",
     "text": [
      "                   all        100        101      0.798      0.535      0.587      0.181\n"
     ]
    },
    {
     "name": "stderr",
     "output_type": "stream",
     "text": [
      "\n"
     ]
    },
    {
     "name": "stdout",
     "output_type": "stream",
     "text": [
      "\n",
      "      Epoch    GPU_mem   box_loss   cls_loss   dfl_loss  Instances       Size\n"
     ]
    },
    {
     "name": "stderr",
     "output_type": "stream",
     "text": [
      "     39/100      0.22G      1.247     0.6766     0.4229          2        640: 100%|██████████| 428/428 [00:38<00:00, 11.17it/s]\n",
      "                 Class     Images  Instances      Box(P          R      mAP50  mAP50-95): 100%|██████████| 50/50 [00:02<00:00, 18.50it/s]"
     ]
    },
    {
     "name": "stdout",
     "output_type": "stream",
     "text": [
      "                   all        100        101      0.754      0.545      0.582      0.207\n"
     ]
    },
    {
     "name": "stderr",
     "output_type": "stream",
     "text": [
      "\n"
     ]
    },
    {
     "name": "stdout",
     "output_type": "stream",
     "text": [
      "\n",
      "      Epoch    GPU_mem   box_loss   cls_loss   dfl_loss  Instances       Size\n"
     ]
    },
    {
     "name": "stderr",
     "output_type": "stream",
     "text": [
      "     40/100      0.22G      1.187     0.6472     0.4241          1        640: 100%|██████████| 428/428 [00:38<00:00, 11.23it/s]\n",
      "                 Class     Images  Instances      Box(P          R      mAP50  mAP50-95): 100%|██████████| 50/50 [00:02<00:00, 18.42it/s]"
     ]
    },
    {
     "name": "stdout",
     "output_type": "stream",
     "text": [
      "                   all        100        101      0.842      0.465      0.655      0.224\n"
     ]
    },
    {
     "name": "stderr",
     "output_type": "stream",
     "text": [
      "\n"
     ]
    },
    {
     "name": "stdout",
     "output_type": "stream",
     "text": [
      "\n",
      "      Epoch    GPU_mem   box_loss   cls_loss   dfl_loss  Instances       Size\n"
     ]
    },
    {
     "name": "stderr",
     "output_type": "stream",
     "text": [
      "     41/100      0.22G      1.093     0.6518     0.3982          1        640: 100%|██████████| 428/428 [00:38<00:00, 11.17it/s]\n",
      "                 Class     Images  Instances      Box(P          R      mAP50  mAP50-95): 100%|██████████| 50/50 [00:02<00:00, 18.41it/s]"
     ]
    },
    {
     "name": "stdout",
     "output_type": "stream",
     "text": [
      "                   all        100        101      0.781      0.545      0.616      0.198\n"
     ]
    },
    {
     "name": "stderr",
     "output_type": "stream",
     "text": [
      "\n"
     ]
    },
    {
     "name": "stdout",
     "output_type": "stream",
     "text": [
      "\n",
      "      Epoch    GPU_mem   box_loss   cls_loss   dfl_loss  Instances       Size\n"
     ]
    },
    {
     "name": "stderr",
     "output_type": "stream",
     "text": [
      "     42/100      0.22G      1.165     0.6599     0.4143          2        640: 100%|██████████| 428/428 [00:38<00:00, 11.20it/s]\n",
      "                 Class     Images  Instances      Box(P          R      mAP50  mAP50-95): 100%|██████████| 50/50 [00:02<00:00, 17.97it/s]"
     ]
    },
    {
     "name": "stdout",
     "output_type": "stream",
     "text": [
      "                   all        100        101      0.693      0.535      0.605       0.21\n"
     ]
    },
    {
     "name": "stderr",
     "output_type": "stream",
     "text": [
      "\n"
     ]
    },
    {
     "name": "stdout",
     "output_type": "stream",
     "text": [
      "\n",
      "      Epoch    GPU_mem   box_loss   cls_loss   dfl_loss  Instances       Size\n"
     ]
    },
    {
     "name": "stderr",
     "output_type": "stream",
     "text": [
      "     43/100      0.22G      1.152     0.6025     0.4128          2        640: 100%|██████████| 428/428 [00:38<00:00, 11.22it/s]\n",
      "                 Class     Images  Instances      Box(P          R      mAP50  mAP50-95): 100%|██████████| 50/50 [00:02<00:00, 17.96it/s]"
     ]
    },
    {
     "name": "stdout",
     "output_type": "stream",
     "text": [
      "                   all        100        101      0.621      0.519      0.572      0.168\n"
     ]
    },
    {
     "name": "stderr",
     "output_type": "stream",
     "text": [
      "\n"
     ]
    },
    {
     "name": "stdout",
     "output_type": "stream",
     "text": [
      "\n",
      "      Epoch    GPU_mem   box_loss   cls_loss   dfl_loss  Instances       Size\n"
     ]
    },
    {
     "name": "stderr",
     "output_type": "stream",
     "text": [
      "     44/100      0.22G      1.086     0.5778     0.3839          4        640: 100%|██████████| 428/428 [00:38<00:00, 11.24it/s]\n",
      "                 Class     Images  Instances      Box(P          R      mAP50  mAP50-95): 100%|██████████| 50/50 [00:02<00:00, 18.40it/s]"
     ]
    },
    {
     "name": "stdout",
     "output_type": "stream",
     "text": [
      "                   all        100        101      0.696      0.485      0.579       0.21\n"
     ]
    },
    {
     "name": "stderr",
     "output_type": "stream",
     "text": [
      "\n"
     ]
    },
    {
     "name": "stdout",
     "output_type": "stream",
     "text": [
      "\n",
      "      Epoch    GPU_mem   box_loss   cls_loss   dfl_loss  Instances       Size\n"
     ]
    },
    {
     "name": "stderr",
     "output_type": "stream",
     "text": [
      "     45/100      0.22G      1.044     0.5485     0.3611          0        640: 100%|██████████| 428/428 [00:38<00:00, 11.26it/s]\n",
      "                 Class     Images  Instances      Box(P          R      mAP50  mAP50-95): 100%|██████████| 50/50 [00:02<00:00, 18.56it/s]"
     ]
    },
    {
     "name": "stdout",
     "output_type": "stream",
     "text": [
      "                   all        100        101      0.729      0.479      0.563      0.201\n"
     ]
    },
    {
     "name": "stderr",
     "output_type": "stream",
     "text": [
      "\n"
     ]
    },
    {
     "name": "stdout",
     "output_type": "stream",
     "text": [
      "\n",
      "      Epoch    GPU_mem   box_loss   cls_loss   dfl_loss  Instances       Size\n"
     ]
    },
    {
     "name": "stderr",
     "output_type": "stream",
     "text": [
      "     46/100      0.22G      1.159     0.6567     0.4056          1        640: 100%|██████████| 428/428 [00:38<00:00, 11.18it/s]\n",
      "                 Class     Images  Instances      Box(P          R      mAP50  mAP50-95): 100%|██████████| 50/50 [00:02<00:00, 18.38it/s]"
     ]
    },
    {
     "name": "stdout",
     "output_type": "stream",
     "text": [
      "                   all        100        101       0.71      0.446      0.548      0.196\n"
     ]
    },
    {
     "name": "stderr",
     "output_type": "stream",
     "text": [
      "\n"
     ]
    },
    {
     "name": "stdout",
     "output_type": "stream",
     "text": [
      "\n",
      "      Epoch    GPU_mem   box_loss   cls_loss   dfl_loss  Instances       Size\n"
     ]
    },
    {
     "name": "stderr",
     "output_type": "stream",
     "text": [
      "     47/100      0.22G      1.099     0.6285     0.3893          2        640: 100%|██████████| 428/428 [00:37<00:00, 11.26it/s]\n",
      "                 Class     Images  Instances      Box(P          R      mAP50  mAP50-95): 100%|██████████| 50/50 [00:02<00:00, 18.34it/s]"
     ]
    },
    {
     "name": "stdout",
     "output_type": "stream",
     "text": [
      "                   all        100        101      0.803      0.485      0.582       0.19\n"
     ]
    },
    {
     "name": "stderr",
     "output_type": "stream",
     "text": [
      "\n"
     ]
    },
    {
     "name": "stdout",
     "output_type": "stream",
     "text": [
      "\n",
      "      Epoch    GPU_mem   box_loss   cls_loss   dfl_loss  Instances       Size\n"
     ]
    },
    {
     "name": "stderr",
     "output_type": "stream",
     "text": [
      "     48/100      0.22G      1.117     0.5911      0.416          3        640: 100%|██████████| 428/428 [00:38<00:00, 11.13it/s]\n",
      "                 Class     Images  Instances      Box(P          R      mAP50  mAP50-95): 100%|██████████| 50/50 [00:02<00:00, 18.22it/s]"
     ]
    },
    {
     "name": "stdout",
     "output_type": "stream",
     "text": [
      "                   all        100        101      0.593      0.465      0.556       0.21\n"
     ]
    },
    {
     "name": "stderr",
     "output_type": "stream",
     "text": [
      "\n"
     ]
    },
    {
     "name": "stdout",
     "output_type": "stream",
     "text": [
      "\n",
      "      Epoch    GPU_mem   box_loss   cls_loss   dfl_loss  Instances       Size\n"
     ]
    },
    {
     "name": "stderr",
     "output_type": "stream",
     "text": [
      "     49/100      0.22G      1.107     0.5911      0.406          4        640: 100%|██████████| 428/428 [00:38<00:00, 11.17it/s]\n",
      "                 Class     Images  Instances      Box(P          R      mAP50  mAP50-95): 100%|██████████| 50/50 [00:02<00:00, 18.49it/s]"
     ]
    },
    {
     "name": "stdout",
     "output_type": "stream",
     "text": [
      "                   all        100        101       0.68      0.485      0.587      0.214\n"
     ]
    },
    {
     "name": "stderr",
     "output_type": "stream",
     "text": [
      "\n"
     ]
    },
    {
     "name": "stdout",
     "output_type": "stream",
     "text": [
      "\n",
      "      Epoch    GPU_mem   box_loss   cls_loss   dfl_loss  Instances       Size\n"
     ]
    },
    {
     "name": "stderr",
     "output_type": "stream",
     "text": [
      "     50/100      0.22G      1.049     0.5701     0.3925          1        640: 100%|██████████| 428/428 [00:37<00:00, 11.30it/s]\n",
      "                 Class     Images  Instances      Box(P          R      mAP50  mAP50-95): 100%|██████████| 50/50 [00:02<00:00, 18.73it/s]"
     ]
    },
    {
     "name": "stdout",
     "output_type": "stream",
     "text": [
      "                   all        100        101      0.807      0.455      0.612       0.21\n"
     ]
    },
    {
     "name": "stderr",
     "output_type": "stream",
     "text": [
      "\n"
     ]
    },
    {
     "name": "stdout",
     "output_type": "stream",
     "text": [
      "\n",
      "      Epoch    GPU_mem   box_loss   cls_loss   dfl_loss  Instances       Size\n"
     ]
    },
    {
     "name": "stderr",
     "output_type": "stream",
     "text": [
      "     51/100      0.22G      1.089     0.5729     0.3737          1        640: 100%|██████████| 428/428 [00:38<00:00, 11.25it/s]\n",
      "                 Class     Images  Instances      Box(P          R      mAP50  mAP50-95): 100%|██████████| 50/50 [00:02<00:00, 18.37it/s]"
     ]
    },
    {
     "name": "stdout",
     "output_type": "stream",
     "text": [
      "                   all        100        101      0.657      0.396      0.477      0.178\n"
     ]
    },
    {
     "name": "stderr",
     "output_type": "stream",
     "text": [
      "\n"
     ]
    },
    {
     "name": "stdout",
     "output_type": "stream",
     "text": [
      "\n",
      "      Epoch    GPU_mem   box_loss   cls_loss   dfl_loss  Instances       Size\n"
     ]
    },
    {
     "name": "stderr",
     "output_type": "stream",
     "text": [
      "     52/100      0.22G      1.089      0.571     0.3869          2        640: 100%|██████████| 428/428 [00:38<00:00, 11.24it/s]\n",
      "                 Class     Images  Instances      Box(P          R      mAP50  mAP50-95): 100%|██████████| 50/50 [00:02<00:00, 18.36it/s]"
     ]
    },
    {
     "name": "stdout",
     "output_type": "stream",
     "text": [
      "                   all        100        101      0.727      0.449      0.563      0.201\n"
     ]
    },
    {
     "name": "stderr",
     "output_type": "stream",
     "text": [
      "\n"
     ]
    },
    {
     "name": "stdout",
     "output_type": "stream",
     "text": [
      "\n",
      "      Epoch    GPU_mem   box_loss   cls_loss   dfl_loss  Instances       Size\n"
     ]
    },
    {
     "name": "stderr",
     "output_type": "stream",
     "text": [
      "     53/100      0.22G      1.104     0.5566     0.4041          2        640: 100%|██████████| 428/428 [00:38<00:00, 11.26it/s]\n",
      "                 Class     Images  Instances      Box(P          R      mAP50  mAP50-95): 100%|██████████| 50/50 [00:02<00:00, 18.20it/s]"
     ]
    },
    {
     "name": "stdout",
     "output_type": "stream",
     "text": [
      "                   all        100        101      0.806      0.535      0.625      0.187\n"
     ]
    },
    {
     "name": "stderr",
     "output_type": "stream",
     "text": [
      "\n"
     ]
    },
    {
     "name": "stdout",
     "output_type": "stream",
     "text": [
      "\n",
      "      Epoch    GPU_mem   box_loss   cls_loss   dfl_loss  Instances       Size\n"
     ]
    },
    {
     "name": "stderr",
     "output_type": "stream",
     "text": [
      "     54/100      0.22G      1.049     0.5237     0.3913          2        640: 100%|██████████| 428/428 [00:38<00:00, 11.18it/s]\n",
      "                 Class     Images  Instances      Box(P          R      mAP50  mAP50-95): 100%|██████████| 50/50 [00:02<00:00, 18.48it/s]"
     ]
    },
    {
     "name": "stdout",
     "output_type": "stream",
     "text": [
      "                   all        100        101      0.688      0.436      0.476      0.149\n"
     ]
    },
    {
     "name": "stderr",
     "output_type": "stream",
     "text": [
      "\n"
     ]
    },
    {
     "name": "stdout",
     "output_type": "stream",
     "text": [
      "\n",
      "      Epoch    GPU_mem   box_loss   cls_loss   dfl_loss  Instances       Size\n"
     ]
    },
    {
     "name": "stderr",
     "output_type": "stream",
     "text": [
      "     55/100      0.22G      1.081     0.5239     0.4113          4        640: 100%|██████████| 428/428 [00:37<00:00, 11.29it/s]\n",
      "                 Class     Images  Instances      Box(P          R      mAP50  mAP50-95): 100%|██████████| 50/50 [00:02<00:00, 18.35it/s]"
     ]
    },
    {
     "name": "stdout",
     "output_type": "stream",
     "text": [
      "                   all        100        101      0.832      0.495      0.622      0.229\n"
     ]
    },
    {
     "name": "stderr",
     "output_type": "stream",
     "text": [
      "\n"
     ]
    },
    {
     "name": "stdout",
     "output_type": "stream",
     "text": [
      "\n",
      "      Epoch    GPU_mem   box_loss   cls_loss   dfl_loss  Instances       Size\n"
     ]
    },
    {
     "name": "stderr",
     "output_type": "stream",
     "text": [
      "     56/100      0.22G      1.099     0.5138     0.4042          0        640: 100%|██████████| 428/428 [00:37<00:00, 11.28it/s]\n",
      "                 Class     Images  Instances      Box(P          R      mAP50  mAP50-95): 100%|██████████| 50/50 [00:02<00:00, 18.64it/s]"
     ]
    },
    {
     "name": "stdout",
     "output_type": "stream",
     "text": [
      "                   all        100        101       0.69      0.485      0.562      0.214\n"
     ]
    },
    {
     "name": "stderr",
     "output_type": "stream",
     "text": [
      "\n"
     ]
    },
    {
     "name": "stdout",
     "output_type": "stream",
     "text": [
      "\n",
      "      Epoch    GPU_mem   box_loss   cls_loss   dfl_loss  Instances       Size\n"
     ]
    },
    {
     "name": "stderr",
     "output_type": "stream",
     "text": [
      "     57/100      0.22G      1.137     0.5554     0.4184          1        640: 100%|██████████| 428/428 [00:38<00:00, 11.23it/s]\n",
      "                 Class     Images  Instances      Box(P          R      mAP50  mAP50-95): 100%|██████████| 50/50 [00:02<00:00, 17.95it/s]\n"
     ]
    },
    {
     "name": "stdout",
     "output_type": "stream",
     "text": [
      "                   all        100        101      0.813      0.545      0.609      0.239\n",
      "\n",
      "      Epoch    GPU_mem   box_loss   cls_loss   dfl_loss  Instances       Size\n"
     ]
    },
    {
     "name": "stderr",
     "output_type": "stream",
     "text": [
      "     58/100      0.22G      1.069     0.5392     0.4064          1        640: 100%|██████████| 428/428 [00:38<00:00, 11.25it/s]\n",
      "                 Class     Images  Instances      Box(P          R      mAP50  mAP50-95): 100%|██████████| 50/50 [00:02<00:00, 18.59it/s]"
     ]
    },
    {
     "name": "stdout",
     "output_type": "stream",
     "text": [
      "                   all        100        101      0.721      0.545      0.607      0.241\n"
     ]
    },
    {
     "name": "stderr",
     "output_type": "stream",
     "text": [
      "\n"
     ]
    },
    {
     "name": "stdout",
     "output_type": "stream",
     "text": [
      "\n",
      "      Epoch    GPU_mem   box_loss   cls_loss   dfl_loss  Instances       Size\n"
     ]
    },
    {
     "name": "stderr",
     "output_type": "stream",
     "text": [
      "     59/100      0.22G       1.07     0.5554     0.4063          2        640: 100%|██████████| 428/428 [00:38<00:00, 11.23it/s]\n",
      "                 Class     Images  Instances      Box(P          R      mAP50  mAP50-95): 100%|██████████| 50/50 [00:02<00:00, 18.56it/s]"
     ]
    },
    {
     "name": "stdout",
     "output_type": "stream",
     "text": [
      "                   all        100        101      0.748      0.441      0.549      0.217\n"
     ]
    },
    {
     "name": "stderr",
     "output_type": "stream",
     "text": [
      "\n"
     ]
    },
    {
     "name": "stdout",
     "output_type": "stream",
     "text": [
      "\n",
      "      Epoch    GPU_mem   box_loss   cls_loss   dfl_loss  Instances       Size\n"
     ]
    },
    {
     "name": "stderr",
     "output_type": "stream",
     "text": [
      "     60/100      0.22G      1.062     0.5185     0.3975          2        640: 100%|██████████| 428/428 [00:38<00:00, 11.15it/s]\n",
      "                 Class     Images  Instances      Box(P          R      mAP50  mAP50-95): 100%|██████████| 50/50 [00:02<00:00, 17.95it/s]"
     ]
    },
    {
     "name": "stdout",
     "output_type": "stream",
     "text": [
      "                   all        100        101      0.688      0.523       0.63      0.249\n"
     ]
    },
    {
     "name": "stderr",
     "output_type": "stream",
     "text": [
      "\n"
     ]
    },
    {
     "name": "stdout",
     "output_type": "stream",
     "text": [
      "\n",
      "      Epoch    GPU_mem   box_loss   cls_loss   dfl_loss  Instances       Size\n"
     ]
    },
    {
     "name": "stderr",
     "output_type": "stream",
     "text": [
      "     61/100      0.22G      1.064     0.5649     0.4186          2        640: 100%|██████████| 428/428 [00:38<00:00, 11.16it/s]\n",
      "                 Class     Images  Instances      Box(P          R      mAP50  mAP50-95): 100%|██████████| 50/50 [00:02<00:00, 18.39it/s]"
     ]
    },
    {
     "name": "stdout",
     "output_type": "stream",
     "text": [
      "                   all        100        101      0.763      0.511      0.583       0.24\n"
     ]
    },
    {
     "name": "stderr",
     "output_type": "stream",
     "text": [
      "\n"
     ]
    },
    {
     "name": "stdout",
     "output_type": "stream",
     "text": [
      "\n",
      "      Epoch    GPU_mem   box_loss   cls_loss   dfl_loss  Instances       Size\n"
     ]
    },
    {
     "name": "stderr",
     "output_type": "stream",
     "text": [
      "     62/100      0.22G      1.067      0.555     0.4142          1        640: 100%|██████████| 428/428 [00:38<00:00, 11.23it/s]\n",
      "                 Class     Images  Instances      Box(P          R      mAP50  mAP50-95): 100%|██████████| 50/50 [00:02<00:00, 18.35it/s]"
     ]
    },
    {
     "name": "stdout",
     "output_type": "stream",
     "text": [
      "                   all        100        101      0.627      0.485      0.533      0.208\n"
     ]
    },
    {
     "name": "stderr",
     "output_type": "stream",
     "text": [
      "\n"
     ]
    },
    {
     "name": "stdout",
     "output_type": "stream",
     "text": [
      "\n",
      "      Epoch    GPU_mem   box_loss   cls_loss   dfl_loss  Instances       Size\n"
     ]
    },
    {
     "name": "stderr",
     "output_type": "stream",
     "text": [
      "     63/100      0.22G      1.031     0.5064     0.4199          3        640: 100%|██████████| 428/428 [00:38<00:00, 11.21it/s]\n",
      "                 Class     Images  Instances      Box(P          R      mAP50  mAP50-95): 100%|██████████| 50/50 [00:02<00:00, 18.40it/s]"
     ]
    },
    {
     "name": "stdout",
     "output_type": "stream",
     "text": [
      "                   all        100        101      0.847      0.564      0.668      0.257\n"
     ]
    },
    {
     "name": "stderr",
     "output_type": "stream",
     "text": [
      "\n"
     ]
    },
    {
     "name": "stdout",
     "output_type": "stream",
     "text": [
      "\n",
      "      Epoch    GPU_mem   box_loss   cls_loss   dfl_loss  Instances       Size\n"
     ]
    },
    {
     "name": "stderr",
     "output_type": "stream",
     "text": [
      "     64/100      0.22G      1.126     0.5324     0.4329          1        640: 100%|██████████| 428/428 [00:38<00:00, 11.22it/s]\n",
      "                 Class     Images  Instances      Box(P          R      mAP50  mAP50-95): 100%|██████████| 50/50 [00:02<00:00, 18.19it/s]"
     ]
    },
    {
     "name": "stdout",
     "output_type": "stream",
     "text": [
      "                   all        100        101      0.771      0.534      0.616      0.222\n"
     ]
    },
    {
     "name": "stderr",
     "output_type": "stream",
     "text": [
      "\n"
     ]
    },
    {
     "name": "stdout",
     "output_type": "stream",
     "text": [
      "\n",
      "      Epoch    GPU_mem   box_loss   cls_loss   dfl_loss  Instances       Size\n"
     ]
    },
    {
     "name": "stderr",
     "output_type": "stream",
     "text": [
      "     65/100      0.22G      1.069     0.5362     0.4074          2        640: 100%|██████████| 428/428 [00:38<00:00, 11.23it/s]\n",
      "                 Class     Images  Instances      Box(P          R      mAP50  mAP50-95): 100%|██████████| 50/50 [00:02<00:00, 18.59it/s]"
     ]
    },
    {
     "name": "stdout",
     "output_type": "stream",
     "text": [
      "                   all        100        101      0.851      0.509      0.627      0.245\n"
     ]
    },
    {
     "name": "stderr",
     "output_type": "stream",
     "text": [
      "\n"
     ]
    },
    {
     "name": "stdout",
     "output_type": "stream",
     "text": [
      "\n",
      "      Epoch    GPU_mem   box_loss   cls_loss   dfl_loss  Instances       Size\n"
     ]
    },
    {
     "name": "stderr",
     "output_type": "stream",
     "text": [
      "     66/100      0.22G     0.9839     0.4925     0.3731          4        640: 100%|██████████| 428/428 [00:37<00:00, 11.27it/s]\n",
      "                 Class     Images  Instances      Box(P          R      mAP50  mAP50-95): 100%|██████████| 50/50 [00:02<00:00, 18.07it/s]"
     ]
    },
    {
     "name": "stdout",
     "output_type": "stream",
     "text": [
      "                   all        100        101       0.83      0.574      0.644      0.224\n"
     ]
    },
    {
     "name": "stderr",
     "output_type": "stream",
     "text": [
      "\n"
     ]
    },
    {
     "name": "stdout",
     "output_type": "stream",
     "text": [
      "\n",
      "      Epoch    GPU_mem   box_loss   cls_loss   dfl_loss  Instances       Size\n"
     ]
    },
    {
     "name": "stderr",
     "output_type": "stream",
     "text": [
      "     67/100      0.22G      1.061     0.5352     0.4199          2        640: 100%|██████████| 428/428 [00:38<00:00, 11.10it/s]\n",
      "                 Class     Images  Instances      Box(P          R      mAP50  mAP50-95): 100%|██████████| 50/50 [00:02<00:00, 18.12it/s]"
     ]
    },
    {
     "name": "stdout",
     "output_type": "stream",
     "text": [
      "                   all        100        101      0.719      0.531      0.574      0.202\n"
     ]
    },
    {
     "name": "stderr",
     "output_type": "stream",
     "text": [
      "\n"
     ]
    },
    {
     "name": "stdout",
     "output_type": "stream",
     "text": [
      "\n",
      "      Epoch    GPU_mem   box_loss   cls_loss   dfl_loss  Instances       Size\n"
     ]
    },
    {
     "name": "stderr",
     "output_type": "stream",
     "text": [
      "     68/100      0.22G      1.013     0.5047     0.3903          0        640: 100%|██████████| 428/428 [00:38<00:00, 11.18it/s]\n",
      "                 Class     Images  Instances      Box(P          R      mAP50  mAP50-95): 100%|██████████| 50/50 [00:02<00:00, 18.07it/s]"
     ]
    },
    {
     "name": "stdout",
     "output_type": "stream",
     "text": [
      "                   all        100        101      0.846      0.525       0.64      0.219\n"
     ]
    },
    {
     "name": "stderr",
     "output_type": "stream",
     "text": [
      "\n"
     ]
    },
    {
     "name": "stdout",
     "output_type": "stream",
     "text": [
      "\n",
      "      Epoch    GPU_mem   box_loss   cls_loss   dfl_loss  Instances       Size\n"
     ]
    },
    {
     "name": "stderr",
     "output_type": "stream",
     "text": [
      "     69/100      0.22G      1.064     0.5311     0.4203          1        640: 100%|██████████| 428/428 [00:38<00:00, 11.19it/s]\n",
      "                 Class     Images  Instances      Box(P          R      mAP50  mAP50-95): 100%|██████████| 50/50 [00:02<00:00, 18.10it/s]"
     ]
    },
    {
     "name": "stdout",
     "output_type": "stream",
     "text": [
      "                   all        100        101      0.797      0.535      0.621      0.242\n"
     ]
    },
    {
     "name": "stderr",
     "output_type": "stream",
     "text": [
      "\n"
     ]
    },
    {
     "name": "stdout",
     "output_type": "stream",
     "text": [
      "\n",
      "      Epoch    GPU_mem   box_loss   cls_loss   dfl_loss  Instances       Size\n"
     ]
    },
    {
     "name": "stderr",
     "output_type": "stream",
     "text": [
      "     70/100      0.22G      1.086     0.5467      0.421          1        640: 100%|██████████| 428/428 [00:38<00:00, 11.22it/s]\n",
      "                 Class     Images  Instances      Box(P          R      mAP50  mAP50-95): 100%|██████████| 50/50 [00:02<00:00, 18.67it/s]"
     ]
    },
    {
     "name": "stdout",
     "output_type": "stream",
     "text": [
      "                   all        100        101      0.844      0.455       0.61      0.221\n"
     ]
    },
    {
     "name": "stderr",
     "output_type": "stream",
     "text": [
      "\n"
     ]
    },
    {
     "name": "stdout",
     "output_type": "stream",
     "text": [
      "\n",
      "      Epoch    GPU_mem   box_loss   cls_loss   dfl_loss  Instances       Size\n"
     ]
    },
    {
     "name": "stderr",
     "output_type": "stream",
     "text": [
      "     71/100      0.22G      1.016     0.5022     0.3701          0        640: 100%|██████████| 428/428 [00:37<00:00, 11.31it/s]\n",
      "                 Class     Images  Instances      Box(P          R      mAP50  mAP50-95): 100%|██████████| 50/50 [00:02<00:00, 18.20it/s]"
     ]
    },
    {
     "name": "stdout",
     "output_type": "stream",
     "text": [
      "                   all        100        101      0.806      0.494      0.606      0.225\n"
     ]
    },
    {
     "name": "stderr",
     "output_type": "stream",
     "text": [
      "\n"
     ]
    },
    {
     "name": "stdout",
     "output_type": "stream",
     "text": [
      "\n",
      "      Epoch    GPU_mem   box_loss   cls_loss   dfl_loss  Instances       Size\n"
     ]
    },
    {
     "name": "stderr",
     "output_type": "stream",
     "text": [
      "     72/100      0.22G       1.06     0.4969     0.4175          2        640: 100%|██████████| 428/428 [00:38<00:00, 11.14it/s]\n",
      "                 Class     Images  Instances      Box(P          R      mAP50  mAP50-95): 100%|██████████| 50/50 [00:02<00:00, 18.39it/s]"
     ]
    },
    {
     "name": "stdout",
     "output_type": "stream",
     "text": [
      "                   all        100        101      0.815      0.525      0.647      0.269\n"
     ]
    },
    {
     "name": "stderr",
     "output_type": "stream",
     "text": [
      "\n"
     ]
    },
    {
     "name": "stdout",
     "output_type": "stream",
     "text": [
      "\n",
      "      Epoch    GPU_mem   box_loss   cls_loss   dfl_loss  Instances       Size\n"
     ]
    },
    {
     "name": "stderr",
     "output_type": "stream",
     "text": [
      "     73/100      0.22G      1.048     0.5001      0.403          4        640: 100%|██████████| 428/428 [00:38<00:00, 11.18it/s]\n",
      "                 Class     Images  Instances      Box(P          R      mAP50  mAP50-95): 100%|██████████| 50/50 [00:02<00:00, 18.75it/s]"
     ]
    },
    {
     "name": "stdout",
     "output_type": "stream",
     "text": [
      "                   all        100        101      0.603      0.407       0.52      0.189\n"
     ]
    },
    {
     "name": "stderr",
     "output_type": "stream",
     "text": [
      "\n"
     ]
    },
    {
     "name": "stdout",
     "output_type": "stream",
     "text": [
      "\n",
      "      Epoch    GPU_mem   box_loss   cls_loss   dfl_loss  Instances       Size\n"
     ]
    },
    {
     "name": "stderr",
     "output_type": "stream",
     "text": [
      "     74/100      0.22G      1.015     0.5224     0.4032          3        640: 100%|██████████| 428/428 [00:37<00:00, 11.45it/s]\n",
      "                 Class     Images  Instances      Box(P          R      mAP50  mAP50-95): 100%|██████████| 50/50 [00:02<00:00, 18.82it/s]"
     ]
    },
    {
     "name": "stdout",
     "output_type": "stream",
     "text": [
      "                   all        100        101      0.762      0.507      0.629      0.275\n"
     ]
    },
    {
     "name": "stderr",
     "output_type": "stream",
     "text": [
      "\n"
     ]
    },
    {
     "name": "stdout",
     "output_type": "stream",
     "text": [
      "\n",
      "      Epoch    GPU_mem   box_loss   cls_loss   dfl_loss  Instances       Size\n"
     ]
    },
    {
     "name": "stderr",
     "output_type": "stream",
     "text": [
      "     75/100      0.22G      1.051      0.515     0.4141          3        640: 100%|██████████| 428/428 [00:37<00:00, 11.41it/s]\n",
      "                 Class     Images  Instances      Box(P          R      mAP50  mAP50-95): 100%|██████████| 50/50 [00:02<00:00, 19.21it/s]"
     ]
    },
    {
     "name": "stdout",
     "output_type": "stream",
     "text": [
      "                   all        100        101      0.852      0.455      0.624      0.271\n"
     ]
    },
    {
     "name": "stderr",
     "output_type": "stream",
     "text": [
      "\n"
     ]
    },
    {
     "name": "stdout",
     "output_type": "stream",
     "text": [
      "\n",
      "      Epoch    GPU_mem   box_loss   cls_loss   dfl_loss  Instances       Size\n"
     ]
    },
    {
     "name": "stderr",
     "output_type": "stream",
     "text": [
      "     76/100      0.22G      1.121     0.5258     0.4403          0        640: 100%|██████████| 428/428 [00:37<00:00, 11.33it/s]\n",
      "                 Class     Images  Instances      Box(P          R      mAP50  mAP50-95): 100%|██████████| 50/50 [00:02<00:00, 18.97it/s]"
     ]
    },
    {
     "name": "stdout",
     "output_type": "stream",
     "text": [
      "                   all        100        101      0.818      0.554      0.665      0.292\n"
     ]
    },
    {
     "name": "stderr",
     "output_type": "stream",
     "text": [
      "\n"
     ]
    },
    {
     "name": "stdout",
     "output_type": "stream",
     "text": [
      "\n",
      "      Epoch    GPU_mem   box_loss   cls_loss   dfl_loss  Instances       Size\n"
     ]
    },
    {
     "name": "stderr",
     "output_type": "stream",
     "text": [
      "     77/100      0.22G     0.9482     0.4801     0.3842          0        640: 100%|██████████| 428/428 [00:37<00:00, 11.42it/s]\n",
      "                 Class     Images  Instances      Box(P          R      mAP50  mAP50-95): 100%|██████████| 50/50 [00:02<00:00, 18.50it/s]"
     ]
    },
    {
     "name": "stdout",
     "output_type": "stream",
     "text": [
      "                   all        100        101      0.846      0.505      0.642      0.279\n"
     ]
    },
    {
     "name": "stderr",
     "output_type": "stream",
     "text": [
      "\n"
     ]
    },
    {
     "name": "stdout",
     "output_type": "stream",
     "text": [
      "\n",
      "      Epoch    GPU_mem   box_loss   cls_loss   dfl_loss  Instances       Size\n"
     ]
    },
    {
     "name": "stderr",
     "output_type": "stream",
     "text": [
      "     78/100      0.22G     0.9689     0.4774      0.386          2        640: 100%|██████████| 428/428 [00:37<00:00, 11.43it/s]\n",
      "                 Class     Images  Instances      Box(P          R      mAP50  mAP50-95): 100%|██████████| 50/50 [00:02<00:00, 19.07it/s]"
     ]
    },
    {
     "name": "stdout",
     "output_type": "stream",
     "text": [
      "                   all        100        101      0.548      0.455      0.547      0.218\n"
     ]
    },
    {
     "name": "stderr",
     "output_type": "stream",
     "text": [
      "\n"
     ]
    },
    {
     "name": "stdout",
     "output_type": "stream",
     "text": [
      "\n",
      "      Epoch    GPU_mem   box_loss   cls_loss   dfl_loss  Instances       Size\n"
     ]
    },
    {
     "name": "stderr",
     "output_type": "stream",
     "text": [
      "     79/100      0.22G      1.083     0.5109     0.4175          1        640: 100%|██████████| 428/428 [00:37<00:00, 11.42it/s]\n",
      "                 Class     Images  Instances      Box(P          R      mAP50  mAP50-95): 100%|██████████| 50/50 [00:02<00:00, 18.72it/s]"
     ]
    },
    {
     "name": "stdout",
     "output_type": "stream",
     "text": [
      "                   all        100        101      0.864      0.505      0.622      0.266\n"
     ]
    },
    {
     "name": "stderr",
     "output_type": "stream",
     "text": [
      "\n"
     ]
    },
    {
     "name": "stdout",
     "output_type": "stream",
     "text": [
      "\n",
      "      Epoch    GPU_mem   box_loss   cls_loss   dfl_loss  Instances       Size\n"
     ]
    },
    {
     "name": "stderr",
     "output_type": "stream",
     "text": [
      "     80/100      0.22G      1.001     0.4565     0.4078          1        640: 100%|██████████| 428/428 [00:37<00:00, 11.33it/s]\n",
      "                 Class     Images  Instances      Box(P          R      mAP50  mAP50-95): 100%|██████████| 50/50 [00:02<00:00, 19.00it/s]"
     ]
    },
    {
     "name": "stdout",
     "output_type": "stream",
     "text": [
      "                   all        100        101      0.837      0.505      0.639      0.259\n"
     ]
    },
    {
     "name": "stderr",
     "output_type": "stream",
     "text": [
      "\n"
     ]
    },
    {
     "name": "stdout",
     "output_type": "stream",
     "text": [
      "\n",
      "      Epoch    GPU_mem   box_loss   cls_loss   dfl_loss  Instances       Size\n"
     ]
    },
    {
     "name": "stderr",
     "output_type": "stream",
     "text": [
      "     81/100      0.22G      1.048     0.4933     0.4123          2        640: 100%|██████████| 428/428 [00:37<00:00, 11.36it/s]\n",
      "                 Class     Images  Instances      Box(P          R      mAP50  mAP50-95): 100%|██████████| 50/50 [00:02<00:00, 18.80it/s]"
     ]
    },
    {
     "name": "stdout",
     "output_type": "stream",
     "text": [
      "                   all        100        101      0.713      0.465      0.611      0.253\n"
     ]
    },
    {
     "name": "stderr",
     "output_type": "stream",
     "text": [
      "\n"
     ]
    },
    {
     "name": "stdout",
     "output_type": "stream",
     "text": [
      "\n",
      "      Epoch    GPU_mem   box_loss   cls_loss   dfl_loss  Instances       Size\n"
     ]
    },
    {
     "name": "stderr",
     "output_type": "stream",
     "text": [
      "     82/100      0.22G     0.9622     0.4592     0.3986          2        640: 100%|██████████| 428/428 [00:37<00:00, 11.31it/s]\n",
      "                 Class     Images  Instances      Box(P          R      mAP50  mAP50-95): 100%|██████████| 50/50 [00:02<00:00, 18.58it/s]"
     ]
    },
    {
     "name": "stdout",
     "output_type": "stream",
     "text": [
      "                   all        100        101      0.662      0.515      0.589      0.245\n"
     ]
    },
    {
     "name": "stderr",
     "output_type": "stream",
     "text": [
      "\n"
     ]
    },
    {
     "name": "stdout",
     "output_type": "stream",
     "text": [
      "\n",
      "      Epoch    GPU_mem   box_loss   cls_loss   dfl_loss  Instances       Size\n"
     ]
    },
    {
     "name": "stderr",
     "output_type": "stream",
     "text": [
      "     83/100      0.22G     0.9816     0.4683     0.4034          1        640: 100%|██████████| 428/428 [00:38<00:00, 11.16it/s]\n",
      "                 Class     Images  Instances      Box(P          R      mAP50  mAP50-95): 100%|██████████| 50/50 [00:02<00:00, 18.31it/s]"
     ]
    },
    {
     "name": "stdout",
     "output_type": "stream",
     "text": [
      "                   all        100        101      0.799      0.455      0.598      0.246\n"
     ]
    },
    {
     "name": "stderr",
     "output_type": "stream",
     "text": [
      "\n"
     ]
    },
    {
     "name": "stdout",
     "output_type": "stream",
     "text": [
      "\n",
      "      Epoch    GPU_mem   box_loss   cls_loss   dfl_loss  Instances       Size\n"
     ]
    },
    {
     "name": "stderr",
     "output_type": "stream",
     "text": [
      "     84/100      0.22G     0.9477     0.4857     0.3946          2        640: 100%|██████████| 428/428 [00:38<00:00, 11.18it/s]\n",
      "                 Class     Images  Instances      Box(P          R      mAP50  mAP50-95): 100%|██████████| 50/50 [00:02<00:00, 18.10it/s]"
     ]
    },
    {
     "name": "stdout",
     "output_type": "stream",
     "text": [
      "                   all        100        101      0.764       0.48      0.598      0.257\n"
     ]
    },
    {
     "name": "stderr",
     "output_type": "stream",
     "text": [
      "\n"
     ]
    },
    {
     "name": "stdout",
     "output_type": "stream",
     "text": [
      "\n",
      "      Epoch    GPU_mem   box_loss   cls_loss   dfl_loss  Instances       Size\n"
     ]
    },
    {
     "name": "stderr",
     "output_type": "stream",
     "text": [
      "     85/100      0.22G     0.9382     0.4473      0.402          2        640: 100%|██████████| 428/428 [00:38<00:00, 11.22it/s]\n",
      "                 Class     Images  Instances      Box(P          R      mAP50  mAP50-95): 100%|██████████| 50/50 [00:02<00:00, 18.58it/s]"
     ]
    },
    {
     "name": "stdout",
     "output_type": "stream",
     "text": [
      "                   all        100        101      0.793      0.465      0.617      0.292\n"
     ]
    },
    {
     "name": "stderr",
     "output_type": "stream",
     "text": [
      "\n"
     ]
    },
    {
     "name": "stdout",
     "output_type": "stream",
     "text": [
      "\n",
      "      Epoch    GPU_mem   box_loss   cls_loss   dfl_loss  Instances       Size\n"
     ]
    },
    {
     "name": "stderr",
     "output_type": "stream",
     "text": [
      "     86/100      0.22G     0.9425      0.438     0.3964          1        640: 100%|██████████| 428/428 [00:38<00:00, 11.24it/s]\n",
      "                 Class     Images  Instances      Box(P          R      mAP50  mAP50-95): 100%|██████████| 50/50 [00:02<00:00, 18.32it/s]"
     ]
    },
    {
     "name": "stdout",
     "output_type": "stream",
     "text": [
      "                   all        100        101      0.789      0.505      0.634      0.302\n"
     ]
    },
    {
     "name": "stderr",
     "output_type": "stream",
     "text": [
      "\n"
     ]
    },
    {
     "name": "stdout",
     "output_type": "stream",
     "text": [
      "\n",
      "      Epoch    GPU_mem   box_loss   cls_loss   dfl_loss  Instances       Size\n"
     ]
    },
    {
     "name": "stderr",
     "output_type": "stream",
     "text": [
      "     87/100      0.22G     0.9601     0.4606     0.4022          4        640: 100%|██████████| 428/428 [00:38<00:00, 11.21it/s]\n",
      "                 Class     Images  Instances      Box(P          R      mAP50  mAP50-95): 100%|██████████| 50/50 [00:02<00:00, 17.97it/s]"
     ]
    },
    {
     "name": "stdout",
     "output_type": "stream",
     "text": [
      "                   all        100        101      0.695      0.485      0.602      0.244\n"
     ]
    },
    {
     "name": "stderr",
     "output_type": "stream",
     "text": [
      "\n"
     ]
    },
    {
     "name": "stdout",
     "output_type": "stream",
     "text": [
      "\n",
      "      Epoch    GPU_mem   box_loss   cls_loss   dfl_loss  Instances       Size\n"
     ]
    },
    {
     "name": "stderr",
     "output_type": "stream",
     "text": [
      "     88/100      0.22G     0.9745      0.463     0.3912          2        640: 100%|██████████| 428/428 [00:38<00:00, 11.18it/s]\n",
      "                 Class     Images  Instances      Box(P          R      mAP50  mAP50-95): 100%|██████████| 50/50 [00:02<00:00, 18.05it/s]"
     ]
    },
    {
     "name": "stdout",
     "output_type": "stream",
     "text": [
      "                   all        100        101      0.716      0.525      0.621      0.269\n"
     ]
    },
    {
     "name": "stderr",
     "output_type": "stream",
     "text": [
      "\n"
     ]
    },
    {
     "name": "stdout",
     "output_type": "stream",
     "text": [
      "\n",
      "      Epoch    GPU_mem   box_loss   cls_loss   dfl_loss  Instances       Size\n"
     ]
    },
    {
     "name": "stderr",
     "output_type": "stream",
     "text": [
      "     89/100      0.22G      1.041     0.4955     0.4297          3        640: 100%|██████████| 428/428 [00:38<00:00, 11.22it/s]\n",
      "                 Class     Images  Instances      Box(P          R      mAP50  mAP50-95): 100%|██████████| 50/50 [00:02<00:00, 18.28it/s]"
     ]
    },
    {
     "name": "stdout",
     "output_type": "stream",
     "text": [
      "                   all        100        101      0.806      0.465      0.629      0.273\n"
     ]
    },
    {
     "name": "stderr",
     "output_type": "stream",
     "text": [
      "\n"
     ]
    },
    {
     "name": "stdout",
     "output_type": "stream",
     "text": [
      "\n",
      "      Epoch    GPU_mem   box_loss   cls_loss   dfl_loss  Instances       Size\n"
     ]
    },
    {
     "name": "stderr",
     "output_type": "stream",
     "text": [
      "     90/100      0.22G     0.9308     0.4589     0.3812          2        640: 100%|██████████| 428/428 [00:38<00:00, 11.23it/s]\n",
      "                 Class     Images  Instances      Box(P          R      mAP50  mAP50-95): 100%|██████████| 50/50 [00:02<00:00, 18.67it/s]"
     ]
    },
    {
     "name": "stdout",
     "output_type": "stream",
     "text": [
      "                   all        100        101      0.854      0.525      0.632      0.291\n"
     ]
    },
    {
     "name": "stderr",
     "output_type": "stream",
     "text": [
      "\n"
     ]
    },
    {
     "name": "stdout",
     "output_type": "stream",
     "text": [
      "Closing dataloader mosaic\n",
      "\n",
      "      Epoch    GPU_mem   box_loss   cls_loss   dfl_loss  Instances       Size\n"
     ]
    },
    {
     "name": "stderr",
     "output_type": "stream",
     "text": [
      "     91/100      0.22G     0.7491     0.3538     0.3452          1        640: 100%|██████████| 428/428 [00:37<00:00, 11.42it/s]\n",
      "                 Class     Images  Instances      Box(P          R      mAP50  mAP50-95): 100%|██████████| 50/50 [00:02<00:00, 18.21it/s]"
     ]
    },
    {
     "name": "stdout",
     "output_type": "stream",
     "text": [
      "                   all        100        101       0.71      0.505      0.589      0.248\n"
     ]
    },
    {
     "name": "stderr",
     "output_type": "stream",
     "text": [
      "\n"
     ]
    },
    {
     "name": "stdout",
     "output_type": "stream",
     "text": [
      "\n",
      "      Epoch    GPU_mem   box_loss   cls_loss   dfl_loss  Instances       Size\n"
     ]
    },
    {
     "name": "stderr",
     "output_type": "stream",
     "text": [
      "     92/100      0.22G     0.7932     0.3464     0.3567          1        640: 100%|██████████| 428/428 [00:37<00:00, 11.45it/s]\n",
      "                 Class     Images  Instances      Box(P          R      mAP50  mAP50-95): 100%|██████████| 50/50 [00:02<00:00, 18.32it/s]"
     ]
    },
    {
     "name": "stdout",
     "output_type": "stream",
     "text": [
      "                   all        100        101      0.753      0.514      0.618       0.26\n"
     ]
    },
    {
     "name": "stderr",
     "output_type": "stream",
     "text": [
      "\n"
     ]
    },
    {
     "name": "stdout",
     "output_type": "stream",
     "text": [
      "\n",
      "      Epoch    GPU_mem   box_loss   cls_loss   dfl_loss  Instances       Size\n"
     ]
    },
    {
     "name": "stderr",
     "output_type": "stream",
     "text": [
      "     93/100      0.22G     0.7093      0.323     0.3409          1        640: 100%|██████████| 428/428 [00:37<00:00, 11.50it/s]\n",
      "                 Class     Images  Instances      Box(P          R      mAP50  mAP50-95): 100%|██████████| 50/50 [00:02<00:00, 18.24it/s]"
     ]
    },
    {
     "name": "stdout",
     "output_type": "stream",
     "text": [
      "                   all        100        101      0.924      0.515      0.675      0.292\n"
     ]
    },
    {
     "name": "stderr",
     "output_type": "stream",
     "text": [
      "\n"
     ]
    },
    {
     "name": "stdout",
     "output_type": "stream",
     "text": [
      "\n",
      "      Epoch    GPU_mem   box_loss   cls_loss   dfl_loss  Instances       Size\n"
     ]
    },
    {
     "name": "stderr",
     "output_type": "stream",
     "text": [
      "     94/100      0.22G      0.783     0.3458     0.3642          1        640: 100%|██████████| 428/428 [00:37<00:00, 11.45it/s]\n",
      "                 Class     Images  Instances      Box(P          R      mAP50  mAP50-95): 100%|██████████| 50/50 [00:02<00:00, 18.30it/s]"
     ]
    },
    {
     "name": "stdout",
     "output_type": "stream",
     "text": [
      "                   all        100        101      0.822      0.505      0.591      0.265\n"
     ]
    },
    {
     "name": "stderr",
     "output_type": "stream",
     "text": [
      "\n"
     ]
    },
    {
     "name": "stdout",
     "output_type": "stream",
     "text": [
      "\n",
      "      Epoch    GPU_mem   box_loss   cls_loss   dfl_loss  Instances       Size\n"
     ]
    },
    {
     "name": "stderr",
     "output_type": "stream",
     "text": [
      "     95/100      0.22G     0.7591     0.3409     0.3566          1        640: 100%|██████████| 428/428 [00:37<00:00, 11.55it/s]\n",
      "                 Class     Images  Instances      Box(P          R      mAP50  mAP50-95): 100%|██████████| 50/50 [00:02<00:00, 18.11it/s]"
     ]
    },
    {
     "name": "stdout",
     "output_type": "stream",
     "text": [
      "                   all        100        101        0.8      0.465      0.561      0.257\n"
     ]
    },
    {
     "name": "stderr",
     "output_type": "stream",
     "text": [
      "\n"
     ]
    },
    {
     "name": "stdout",
     "output_type": "stream",
     "text": [
      "\n",
      "      Epoch    GPU_mem   box_loss   cls_loss   dfl_loss  Instances       Size\n"
     ]
    },
    {
     "name": "stderr",
     "output_type": "stream",
     "text": [
      "     96/100      0.22G     0.7645     0.3504     0.3439          1        640: 100%|██████████| 428/428 [00:37<00:00, 11.46it/s]\n",
      "                 Class     Images  Instances      Box(P          R      mAP50  mAP50-95): 100%|██████████| 50/50 [00:02<00:00, 18.19it/s]"
     ]
    },
    {
     "name": "stdout",
     "output_type": "stream",
     "text": [
      "                   all        100        101      0.866      0.465      0.586      0.268\n"
     ]
    },
    {
     "name": "stderr",
     "output_type": "stream",
     "text": [
      "\n"
     ]
    },
    {
     "name": "stdout",
     "output_type": "stream",
     "text": [
      "\n",
      "      Epoch    GPU_mem   box_loss   cls_loss   dfl_loss  Instances       Size\n"
     ]
    },
    {
     "name": "stderr",
     "output_type": "stream",
     "text": [
      "     97/100      0.22G     0.7815     0.3548     0.3594          1        640: 100%|██████████| 428/428 [00:37<00:00, 11.47it/s]\n",
      "                 Class     Images  Instances      Box(P          R      mAP50  mAP50-95): 100%|██████████| 50/50 [00:02<00:00, 18.23it/s]"
     ]
    },
    {
     "name": "stdout",
     "output_type": "stream",
     "text": [
      "                   all        100        101      0.854      0.485      0.611       0.26\n"
     ]
    },
    {
     "name": "stderr",
     "output_type": "stream",
     "text": [
      "\n"
     ]
    },
    {
     "name": "stdout",
     "output_type": "stream",
     "text": [
      "\n",
      "      Epoch    GPU_mem   box_loss   cls_loss   dfl_loss  Instances       Size\n"
     ]
    },
    {
     "name": "stderr",
     "output_type": "stream",
     "text": [
      "     98/100      0.22G     0.7214     0.3384     0.3421          1        640: 100%|██████████| 428/428 [00:37<00:00, 11.44it/s]\n",
      "                 Class     Images  Instances      Box(P          R      mAP50  mAP50-95): 100%|██████████| 50/50 [00:02<00:00, 18.45it/s]"
     ]
    },
    {
     "name": "stdout",
     "output_type": "stream",
     "text": [
      "                   all        100        101      0.806      0.495      0.615      0.251\n"
     ]
    },
    {
     "name": "stderr",
     "output_type": "stream",
     "text": [
      "\n"
     ]
    },
    {
     "name": "stdout",
     "output_type": "stream",
     "text": [
      "\n",
      "      Epoch    GPU_mem   box_loss   cls_loss   dfl_loss  Instances       Size\n"
     ]
    },
    {
     "name": "stderr",
     "output_type": "stream",
     "text": [
      "     99/100      0.22G     0.7868     0.3395     0.3688          1        640: 100%|██████████| 428/428 [00:37<00:00, 11.42it/s]\n",
      "                 Class     Images  Instances      Box(P          R      mAP50  mAP50-95): 100%|██████████| 50/50 [00:02<00:00, 17.72it/s]"
     ]
    },
    {
     "name": "stdout",
     "output_type": "stream",
     "text": [
      "                   all        100        101      0.866      0.512      0.659      0.297\n"
     ]
    },
    {
     "name": "stderr",
     "output_type": "stream",
     "text": [
      "\n"
     ]
    },
    {
     "name": "stdout",
     "output_type": "stream",
     "text": [
      "\n",
      "      Epoch    GPU_mem   box_loss   cls_loss   dfl_loss  Instances       Size\n"
     ]
    },
    {
     "name": "stderr",
     "output_type": "stream",
     "text": [
      "    100/100      0.22G      0.774     0.3331     0.3652          1        640: 100%|██████████| 428/428 [00:37<00:00, 11.52it/s]\n",
      "                 Class     Images  Instances      Box(P          R      mAP50  mAP50-95): 100%|██████████| 50/50 [00:02<00:00, 18.41it/s]"
     ]
    },
    {
     "name": "stdout",
     "output_type": "stream",
     "text": [
      "                   all        100        101      0.841      0.495      0.614      0.268\n"
     ]
    },
    {
     "name": "stderr",
     "output_type": "stream",
     "text": [
      "\n"
     ]
    },
    {
     "name": "stdout",
     "output_type": "stream",
     "text": [
      "\n",
      "100 epochs completed in 1.143 hours.\n",
      "Optimizer stripped from runs\\detect\\train\\weights\\last.pt, 6.2MB\n",
      "Optimizer stripped from runs\\detect\\train\\weights\\best.pt, 6.2MB\n",
      "\n",
      "Validating runs\\detect\\train\\weights\\best.pt...\n",
      "Ultralytics YOLOv8.1.3 🚀 Python-3.8.0 torch-1.9.0+cu111 CUDA:0 (NVIDIA GeForce RTX 3060 Laptop GPU, 6144MiB)\n",
      "Model summary (fused): 168 layers, 3005843 parameters, 0 gradients, 8.1 GFLOPs\n"
     ]
    },
    {
     "name": "stderr",
     "output_type": "stream",
     "text": [
      "                 Class     Images  Instances      Box(P          R      mAP50  mAP50-95): 100%|██████████| 50/50 [00:02<00:00, 18.65it/s]\n"
     ]
    },
    {
     "name": "stdout",
     "output_type": "stream",
     "text": [
      "                   all        100        101      0.788      0.516       0.64      0.301\n",
      "Speed: 0.8ms preprocess, 8.9ms inference, 0.0ms loss, 1.3ms postprocess per image\n",
      "Results saved to \u001b[1mruns\\detect\\train\u001b[0m\n",
      "\u001b[34m\u001b[1mMLflow: \u001b[0mresults logged to runs\\mlflow\n",
      "\u001b[34m\u001b[1mMLflow: \u001b[0mdisable with 'yolo settings mlflow=False'\n"
     ]
    },
    {
     "data": {
      "text/plain": [
       "ultralytics.utils.metrics.DetMetrics object with attributes:\n",
       "\n",
       "ap_class_index: array([0])\n",
       "box: ultralytics.utils.metrics.Metric object\n",
       "confusion_matrix: <ultralytics.utils.metrics.ConfusionMatrix object at 0x000001F929CA00A0>\n",
       "curves: ['Precision-Recall(B)', 'F1-Confidence(B)', 'Precision-Confidence(B)', 'Recall-Confidence(B)']\n",
       "curves_results: [[array([          0,    0.001001,    0.002002,    0.003003,    0.004004,    0.005005,    0.006006,    0.007007,    0.008008,    0.009009,     0.01001,    0.011011,    0.012012,    0.013013,    0.014014,    0.015015,    0.016016,    0.017017,    0.018018,    0.019019,     0.02002,    0.021021,    0.022022,    0.023023,\n",
       "          0.024024,    0.025025,    0.026026,    0.027027,    0.028028,    0.029029,     0.03003,    0.031031,    0.032032,    0.033033,    0.034034,    0.035035,    0.036036,    0.037037,    0.038038,    0.039039,     0.04004,    0.041041,    0.042042,    0.043043,    0.044044,    0.045045,    0.046046,    0.047047,\n",
       "          0.048048,    0.049049,     0.05005,    0.051051,    0.052052,    0.053053,    0.054054,    0.055055,    0.056056,    0.057057,    0.058058,    0.059059,     0.06006,    0.061061,    0.062062,    0.063063,    0.064064,    0.065065,    0.066066,    0.067067,    0.068068,    0.069069,     0.07007,    0.071071,\n",
       "          0.072072,    0.073073,    0.074074,    0.075075,    0.076076,    0.077077,    0.078078,    0.079079,     0.08008,    0.081081,    0.082082,    0.083083,    0.084084,    0.085085,    0.086086,    0.087087,    0.088088,    0.089089,     0.09009,    0.091091,    0.092092,    0.093093,    0.094094,    0.095095,\n",
       "          0.096096,    0.097097,    0.098098,    0.099099,      0.1001,      0.1011,      0.1021,      0.1031,      0.1041,     0.10511,     0.10611,     0.10711,     0.10811,     0.10911,     0.11011,     0.11111,     0.11211,     0.11311,     0.11411,     0.11512,     0.11612,     0.11712,     0.11812,     0.11912,\n",
       "           0.12012,     0.12112,     0.12212,     0.12312,     0.12412,     0.12513,     0.12613,     0.12713,     0.12813,     0.12913,     0.13013,     0.13113,     0.13213,     0.13313,     0.13413,     0.13514,     0.13614,     0.13714,     0.13814,     0.13914,     0.14014,     0.14114,     0.14214,     0.14314,\n",
       "           0.14414,     0.14515,     0.14615,     0.14715,     0.14815,     0.14915,     0.15015,     0.15115,     0.15215,     0.15315,     0.15415,     0.15516,     0.15616,     0.15716,     0.15816,     0.15916,     0.16016,     0.16116,     0.16216,     0.16316,     0.16416,     0.16517,     0.16617,     0.16717,\n",
       "           0.16817,     0.16917,     0.17017,     0.17117,     0.17217,     0.17317,     0.17417,     0.17518,     0.17618,     0.17718,     0.17818,     0.17918,     0.18018,     0.18118,     0.18218,     0.18318,     0.18418,     0.18519,     0.18619,     0.18719,     0.18819,     0.18919,     0.19019,     0.19119,\n",
       "           0.19219,     0.19319,     0.19419,      0.1952,      0.1962,      0.1972,      0.1982,      0.1992,      0.2002,      0.2012,      0.2022,      0.2032,      0.2042,     0.20521,     0.20621,     0.20721,     0.20821,     0.20921,     0.21021,     0.21121,     0.21221,     0.21321,     0.21421,     0.21522,\n",
       "           0.21622,     0.21722,     0.21822,     0.21922,     0.22022,     0.22122,     0.22222,     0.22322,     0.22422,     0.22523,     0.22623,     0.22723,     0.22823,     0.22923,     0.23023,     0.23123,     0.23223,     0.23323,     0.23423,     0.23524,     0.23624,     0.23724,     0.23824,     0.23924,\n",
       "           0.24024,     0.24124,     0.24224,     0.24324,     0.24424,     0.24525,     0.24625,     0.24725,     0.24825,     0.24925,     0.25025,     0.25125,     0.25225,     0.25325,     0.25425,     0.25526,     0.25626,     0.25726,     0.25826,     0.25926,     0.26026,     0.26126,     0.26226,     0.26326,\n",
       "           0.26426,     0.26527,     0.26627,     0.26727,     0.26827,     0.26927,     0.27027,     0.27127,     0.27227,     0.27327,     0.27427,     0.27528,     0.27628,     0.27728,     0.27828,     0.27928,     0.28028,     0.28128,     0.28228,     0.28328,     0.28428,     0.28529,     0.28629,     0.28729,\n",
       "           0.28829,     0.28929,     0.29029,     0.29129,     0.29229,     0.29329,     0.29429,      0.2953,      0.2963,      0.2973,      0.2983,      0.2993,      0.3003,      0.3013,      0.3023,      0.3033,      0.3043,     0.30531,     0.30631,     0.30731,     0.30831,     0.30931,     0.31031,     0.31131,\n",
       "           0.31231,     0.31331,     0.31431,     0.31532,     0.31632,     0.31732,     0.31832,     0.31932,     0.32032,     0.32132,     0.32232,     0.32332,     0.32432,     0.32533,     0.32633,     0.32733,     0.32833,     0.32933,     0.33033,     0.33133,     0.33233,     0.33333,     0.33433,     0.33534,\n",
       "           0.33634,     0.33734,     0.33834,     0.33934,     0.34034,     0.34134,     0.34234,     0.34334,     0.34434,     0.34535,     0.34635,     0.34735,     0.34835,     0.34935,     0.35035,     0.35135,     0.35235,     0.35335,     0.35435,     0.35536,     0.35636,     0.35736,     0.35836,     0.35936,\n",
       "           0.36036,     0.36136,     0.36236,     0.36336,     0.36436,     0.36537,     0.36637,     0.36737,     0.36837,     0.36937,     0.37037,     0.37137,     0.37237,     0.37337,     0.37437,     0.37538,     0.37638,     0.37738,     0.37838,     0.37938,     0.38038,     0.38138,     0.38238,     0.38338,\n",
       "           0.38438,     0.38539,     0.38639,     0.38739,     0.38839,     0.38939,     0.39039,     0.39139,     0.39239,     0.39339,     0.39439,      0.3954,      0.3964,      0.3974,      0.3984,      0.3994,      0.4004,      0.4014,      0.4024,      0.4034,      0.4044,     0.40541,     0.40641,     0.40741,\n",
       "           0.40841,     0.40941,     0.41041,     0.41141,     0.41241,     0.41341,     0.41441,     0.41542,     0.41642,     0.41742,     0.41842,     0.41942,     0.42042,     0.42142,     0.42242,     0.42342,     0.42442,     0.42543,     0.42643,     0.42743,     0.42843,     0.42943,     0.43043,     0.43143,\n",
       "           0.43243,     0.43343,     0.43443,     0.43544,     0.43644,     0.43744,     0.43844,     0.43944,     0.44044,     0.44144,     0.44244,     0.44344,     0.44444,     0.44545,     0.44645,     0.44745,     0.44845,     0.44945,     0.45045,     0.45145,     0.45245,     0.45345,     0.45445,     0.45546,\n",
       "           0.45646,     0.45746,     0.45846,     0.45946,     0.46046,     0.46146,     0.46246,     0.46346,     0.46446,     0.46547,     0.46647,     0.46747,     0.46847,     0.46947,     0.47047,     0.47147,     0.47247,     0.47347,     0.47447,     0.47548,     0.47648,     0.47748,     0.47848,     0.47948,\n",
       "           0.48048,     0.48148,     0.48248,     0.48348,     0.48448,     0.48549,     0.48649,     0.48749,     0.48849,     0.48949,     0.49049,     0.49149,     0.49249,     0.49349,     0.49449,      0.4955,      0.4965,      0.4975,      0.4985,      0.4995,      0.5005,      0.5015,      0.5025,      0.5035,\n",
       "            0.5045,     0.50551,     0.50651,     0.50751,     0.50851,     0.50951,     0.51051,     0.51151,     0.51251,     0.51351,     0.51451,     0.51552,     0.51652,     0.51752,     0.51852,     0.51952,     0.52052,     0.52152,     0.52252,     0.52352,     0.52452,     0.52553,     0.52653,     0.52753,\n",
       "           0.52853,     0.52953,     0.53053,     0.53153,     0.53253,     0.53353,     0.53453,     0.53554,     0.53654,     0.53754,     0.53854,     0.53954,     0.54054,     0.54154,     0.54254,     0.54354,     0.54454,     0.54555,     0.54655,     0.54755,     0.54855,     0.54955,     0.55055,     0.55155,\n",
       "           0.55255,     0.55355,     0.55455,     0.55556,     0.55656,     0.55756,     0.55856,     0.55956,     0.56056,     0.56156,     0.56256,     0.56356,     0.56456,     0.56557,     0.56657,     0.56757,     0.56857,     0.56957,     0.57057,     0.57157,     0.57257,     0.57357,     0.57457,     0.57558,\n",
       "           0.57658,     0.57758,     0.57858,     0.57958,     0.58058,     0.58158,     0.58258,     0.58358,     0.58458,     0.58559,     0.58659,     0.58759,     0.58859,     0.58959,     0.59059,     0.59159,     0.59259,     0.59359,     0.59459,      0.5956,      0.5966,      0.5976,      0.5986,      0.5996,\n",
       "            0.6006,      0.6016,      0.6026,      0.6036,      0.6046,     0.60561,     0.60661,     0.60761,     0.60861,     0.60961,     0.61061,     0.61161,     0.61261,     0.61361,     0.61461,     0.61562,     0.61662,     0.61762,     0.61862,     0.61962,     0.62062,     0.62162,     0.62262,     0.62362,\n",
       "           0.62462,     0.62563,     0.62663,     0.62763,     0.62863,     0.62963,     0.63063,     0.63163,     0.63263,     0.63363,     0.63463,     0.63564,     0.63664,     0.63764,     0.63864,     0.63964,     0.64064,     0.64164,     0.64264,     0.64364,     0.64464,     0.64565,     0.64665,     0.64765,\n",
       "           0.64865,     0.64965,     0.65065,     0.65165,     0.65265,     0.65365,     0.65465,     0.65566,     0.65666,     0.65766,     0.65866,     0.65966,     0.66066,     0.66166,     0.66266,     0.66366,     0.66466,     0.66567,     0.66667,     0.66767,     0.66867,     0.66967,     0.67067,     0.67167,\n",
       "           0.67267,     0.67367,     0.67467,     0.67568,     0.67668,     0.67768,     0.67868,     0.67968,     0.68068,     0.68168,     0.68268,     0.68368,     0.68468,     0.68569,     0.68669,     0.68769,     0.68869,     0.68969,     0.69069,     0.69169,     0.69269,     0.69369,     0.69469,      0.6957,\n",
       "            0.6967,      0.6977,      0.6987,      0.6997,      0.7007,      0.7017,      0.7027,      0.7037,      0.7047,     0.70571,     0.70671,     0.70771,     0.70871,     0.70971,     0.71071,     0.71171,     0.71271,     0.71371,     0.71471,     0.71572,     0.71672,     0.71772,     0.71872,     0.71972,\n",
       "           0.72072,     0.72172,     0.72272,     0.72372,     0.72472,     0.72573,     0.72673,     0.72773,     0.72873,     0.72973,     0.73073,     0.73173,     0.73273,     0.73373,     0.73473,     0.73574,     0.73674,     0.73774,     0.73874,     0.73974,     0.74074,     0.74174,     0.74274,     0.74374,\n",
       "           0.74474,     0.74575,     0.74675,     0.74775,     0.74875,     0.74975,     0.75075,     0.75175,     0.75275,     0.75375,     0.75475,     0.75576,     0.75676,     0.75776,     0.75876,     0.75976,     0.76076,     0.76176,     0.76276,     0.76376,     0.76476,     0.76577,     0.76677,     0.76777,\n",
       "           0.76877,     0.76977,     0.77077,     0.77177,     0.77277,     0.77377,     0.77477,     0.77578,     0.77678,     0.77778,     0.77878,     0.77978,     0.78078,     0.78178,     0.78278,     0.78378,     0.78478,     0.78579,     0.78679,     0.78779,     0.78879,     0.78979,     0.79079,     0.79179,\n",
       "           0.79279,     0.79379,     0.79479,      0.7958,      0.7968,      0.7978,      0.7988,      0.7998,      0.8008,      0.8018,      0.8028,      0.8038,      0.8048,     0.80581,     0.80681,     0.80781,     0.80881,     0.80981,     0.81081,     0.81181,     0.81281,     0.81381,     0.81481,     0.81582,\n",
       "           0.81682,     0.81782,     0.81882,     0.81982,     0.82082,     0.82182,     0.82282,     0.82382,     0.82482,     0.82583,     0.82683,     0.82783,     0.82883,     0.82983,     0.83083,     0.83183,     0.83283,     0.83383,     0.83483,     0.83584,     0.83684,     0.83784,     0.83884,     0.83984,\n",
       "           0.84084,     0.84184,     0.84284,     0.84384,     0.84484,     0.84585,     0.84685,     0.84785,     0.84885,     0.84985,     0.85085,     0.85185,     0.85285,     0.85385,     0.85485,     0.85586,     0.85686,     0.85786,     0.85886,     0.85986,     0.86086,     0.86186,     0.86286,     0.86386,\n",
       "           0.86486,     0.86587,     0.86687,     0.86787,     0.86887,     0.86987,     0.87087,     0.87187,     0.87287,     0.87387,     0.87487,     0.87588,     0.87688,     0.87788,     0.87888,     0.87988,     0.88088,     0.88188,     0.88288,     0.88388,     0.88488,     0.88589,     0.88689,     0.88789,\n",
       "           0.88889,     0.88989,     0.89089,     0.89189,     0.89289,     0.89389,     0.89489,      0.8959,      0.8969,      0.8979,      0.8989,      0.8999,      0.9009,      0.9019,      0.9029,      0.9039,      0.9049,     0.90591,     0.90691,     0.90791,     0.90891,     0.90991,     0.91091,     0.91191,\n",
       "           0.91291,     0.91391,     0.91491,     0.91592,     0.91692,     0.91792,     0.91892,     0.91992,     0.92092,     0.92192,     0.92292,     0.92392,     0.92492,     0.92593,     0.92693,     0.92793,     0.92893,     0.92993,     0.93093,     0.93193,     0.93293,     0.93393,     0.93493,     0.93594,\n",
       "           0.93694,     0.93794,     0.93894,     0.93994,     0.94094,     0.94194,     0.94294,     0.94394,     0.94494,     0.94595,     0.94695,     0.94795,     0.94895,     0.94995,     0.95095,     0.95195,     0.95295,     0.95395,     0.95495,     0.95596,     0.95696,     0.95796,     0.95896,     0.95996,\n",
       "           0.96096,     0.96196,     0.96296,     0.96396,     0.96496,     0.96597,     0.96697,     0.96797,     0.96897,     0.96997,     0.97097,     0.97197,     0.97297,     0.97397,     0.97497,     0.97598,     0.97698,     0.97798,     0.97898,     0.97998,     0.98098,     0.98198,     0.98298,     0.98398,\n",
       "           0.98498,     0.98599,     0.98699,     0.98799,     0.98899,     0.98999,     0.99099,     0.99199,     0.99299,     0.99399,     0.99499,       0.996,       0.997,       0.998,       0.999,           1]), array([[          1,           1,           1,           1,           1,           1,           1,           1,           1,           1,           1,           1,           1,           1,           1,           1,           1,           1,           1,           1,           1,           1,           1,\n",
       "                  1,           1,           1,           1,           1,           1,           1,           1,           1,           1,           1,           1,           1,           1,           1,           1,           1,     0.90698,     0.90698,     0.90698,     0.90698,     0.90698,     0.90698,\n",
       "            0.90698,     0.90698,     0.90698,     0.90698,     0.90698,     0.90698,     0.90698,     0.90698,     0.90698,     0.90698,     0.90698,     0.90698,     0.90698,     0.90698,     0.90698,     0.90698,     0.90698,     0.90698,     0.90698,     0.90698,     0.90698,     0.90698,     0.90698,\n",
       "            0.90698,     0.90698,     0.90698,     0.90698,     0.90698,     0.90698,     0.90698,     0.90698,     0.90698,     0.90698,     0.90698,     0.90698,     0.90698,     0.90698,     0.90698,     0.90698,     0.90698,     0.90698,     0.90698,     0.90698,     0.90698,     0.90698,     0.90698,\n",
       "            0.90698,     0.90698,     0.90698,     0.90698,     0.90698,     0.90698,     0.90698,     0.90698,     0.90698,     0.90698,     0.90698,     0.90698,     0.90698,     0.90698,     0.90698,     0.90698,     0.90698,     0.90698,     0.90698,     0.90698,     0.90698,     0.90698,     0.90698,\n",
       "            0.90698,     0.90698,     0.90698,     0.90698,     0.90698,     0.90698,     0.90698,     0.90698,     0.90698,     0.90698,     0.90698,     0.90698,     0.90698,     0.90698,     0.90698,     0.90698,     0.90698,     0.90698,     0.90698,     0.90698,     0.90698,     0.90698,     0.90698,\n",
       "            0.90698,     0.90698,     0.90698,     0.90698,     0.90698,     0.90698,     0.90698,     0.90698,     0.90698,     0.90698,     0.90698,     0.90698,     0.90698,     0.90698,     0.90698,     0.90698,     0.90698,     0.90698,     0.90698,     0.90698,     0.90698,     0.90698,     0.90698,\n",
       "            0.90698,     0.90698,     0.90698,     0.90698,     0.90698,     0.90698,     0.90698,     0.90698,     0.90698,     0.90698,     0.90698,     0.90698,     0.90698,     0.90698,     0.90698,     0.90698,     0.90698,     0.90698,     0.90698,     0.90698,     0.90698,     0.90698,     0.90698,\n",
       "            0.90698,     0.90698,     0.90698,     0.90698,     0.90698,     0.90698,     0.90698,     0.90698,     0.90698,     0.90698,     0.90698,     0.90698,     0.90698,     0.90698,     0.90698,     0.90698,     0.90698,     0.90698,     0.90698,     0.90698,     0.90698,     0.90698,     0.90698,\n",
       "            0.90698,     0.90698,     0.90698,     0.90698,     0.90698,     0.90698,     0.90698,     0.90698,     0.90698,     0.90698,     0.90698,     0.90698,     0.90698,     0.90698,     0.90698,     0.90698,     0.90698,     0.90698,     0.90698,     0.90698,     0.90698,     0.90698,     0.90698,\n",
       "            0.90698,     0.90698,     0.90698,     0.90698,     0.90698,     0.90698,     0.90698,     0.90698,     0.90698,     0.90698,     0.90698,     0.90698,     0.90698,     0.90698,     0.90698,     0.90698,     0.90698,     0.90698,     0.90698,     0.90698,     0.90698,     0.90698,     0.90698,\n",
       "            0.90698,     0.90698,     0.90698,     0.90698,     0.90698,     0.90698,     0.90698,     0.90698,     0.90698,     0.90698,     0.90698,     0.90698,     0.90698,     0.90698,     0.90698,     0.90698,     0.90698,     0.90698,     0.90698,     0.90698,     0.90698,     0.90698,     0.90698,\n",
       "            0.90698,     0.90698,     0.90698,     0.90698,     0.90698,     0.90698,     0.90698,     0.90698,     0.90698,     0.90698,     0.90698,     0.90698,     0.90698,     0.90698,     0.90698,     0.90698,     0.90698,     0.90698,     0.90698,     0.90698,     0.90698,     0.90698,     0.90698,\n",
       "            0.90698,     0.90698,     0.90698,     0.90698,     0.90698,     0.90698,     0.90698,     0.90698,     0.90698,     0.90698,     0.90698,     0.90698,     0.90698,     0.90698,     0.90698,     0.90698,     0.90698,     0.90698,     0.90698,     0.90698,     0.90698,     0.90698,     0.90698,\n",
       "            0.90698,     0.90698,     0.90698,     0.90698,     0.90698,     0.90698,     0.90698,     0.90698,     0.90698,     0.90698,     0.90698,     0.90698,     0.90698,     0.90698,     0.90698,     0.90698,     0.90698,     0.90698,     0.90698,     0.90698,     0.90698,     0.90698,     0.90698,\n",
       "            0.90698,     0.90698,     0.90698,     0.90698,     0.90698,     0.90698,     0.90698,     0.90698,     0.90698,     0.90698,     0.90698,     0.90698,     0.90698,     0.90698,     0.90698,     0.90698,     0.90698,     0.90698,     0.90698,     0.90698,     0.90698,     0.90698,     0.90698,\n",
       "            0.90698,     0.90698,     0.90698,     0.90698,     0.90698,     0.90698,     0.90698,     0.90698,     0.90698,     0.90698,     0.90698,     0.90698,     0.90698,     0.90698,     0.90698,     0.90698,     0.90698,     0.90698,       0.875,       0.875,       0.875,       0.875,       0.875,\n",
       "              0.875,       0.875,       0.875,       0.875,       0.875,       0.875,       0.875,       0.875,       0.875,       0.875,       0.875,       0.875,       0.875,       0.875,       0.875,       0.875,       0.875,       0.875,       0.875,       0.875,       0.875,       0.875,       0.875,\n",
       "              0.875,       0.875,     0.86792,     0.86792,     0.86792,     0.86792,     0.86792,     0.86792,     0.86792,     0.86792,     0.86792,     0.86792,     0.86792,     0.86792,     0.86792,     0.86792,     0.86792,     0.86792,     0.86792,     0.86792,     0.86792,     0.86792,     0.86792,\n",
       "            0.86792,     0.86792,     0.86792,     0.86792,     0.86792,     0.86792,     0.86792,     0.86792,     0.86792,     0.86792,     0.86792,     0.86792,     0.86792,     0.86792,     0.86792,     0.86792,     0.86792,     0.86792,     0.80328,     0.80328,     0.80328,     0.80328,     0.80328,\n",
       "            0.80328,     0.80328,     0.80328,     0.80328,     0.80328,     0.80328,     0.80328,     0.80328,     0.80328,     0.80328,     0.80328,     0.80328,     0.80328,     0.80328,     0.80328,     0.80328,     0.80328,     0.80328,     0.80328,     0.80328,     0.80328,     0.80328,     0.80328,\n",
       "            0.80328,     0.80328,     0.79688,     0.79688,     0.79688,     0.79688,     0.79688,     0.79688,     0.79688,     0.79688,     0.79688,     0.79688,     0.79688,     0.79688,     0.79688,     0.79688,     0.79688,     0.79688,     0.79688,     0.79688,     0.79688,     0.79688,     0.79412,\n",
       "            0.79412,     0.79412,     0.79412,     0.79412,     0.79412,     0.79412,     0.79412,     0.79412,     0.79412,     0.79412,     0.79412,     0.79412,     0.79412,     0.79412,     0.79412,     0.79412,     0.79412,     0.79412,     0.79412,     0.79412,     0.79412,     0.79412,     0.79412,\n",
       "            0.79412,     0.79412,     0.79412,     0.79412,     0.79412,     0.79412,     0.76389,     0.76389,     0.76389,     0.76389,     0.76389,     0.76389,     0.76389,     0.76389,     0.76389,     0.76389,     0.74026,     0.74026,     0.74026,     0.74026,     0.74026,     0.74026,     0.74026,\n",
       "            0.74026,     0.74026,     0.74026,     0.74026,     0.74026,     0.74026,     0.74026,     0.74026,     0.74026,     0.74026,     0.74026,     0.74026,     0.65169,     0.65169,     0.65169,     0.65169,     0.65169,     0.65169,     0.65169,     0.65169,     0.65169,     0.65169,     0.61224,\n",
       "            0.61224,     0.61224,     0.61224,     0.61224,     0.61224,     0.61224,     0.61224,     0.61224,     0.61224,     0.61224,     0.61224,     0.61224,     0.61224,     0.61224,     0.61224,     0.61224,     0.61224,     0.61224,     0.61224,        0.61,        0.61,        0.61,        0.61,\n",
       "               0.61,        0.61,        0.61,        0.61,        0.61,        0.61,     0.58716,     0.58716,     0.58716,     0.58716,     0.58716,     0.58716,     0.58716,     0.58716,     0.58716,     0.58716,     0.58716,     0.58716,     0.58716,     0.58716,     0.58716,     0.58716,     0.58716,\n",
       "            0.58716,     0.58716,     0.58716,     0.58716,     0.58716,     0.58716,     0.58716,     0.58716,     0.58716,     0.58716,     0.58716,     0.58716,     0.58716,     0.55556,     0.55556,     0.55556,     0.55556,     0.55556,     0.55556,     0.55556,     0.55556,     0.55556,     0.52713,\n",
       "            0.52713,     0.52713,     0.52713,     0.52713,     0.52713,     0.52713,     0.52713,     0.52713,     0.52713,     0.52713,     0.52713,     0.52713,     0.52713,     0.52713,     0.52713,     0.52713,     0.52713,     0.52713,     0.52713,     0.52713,     0.52713,     0.52713,     0.52713,\n",
       "            0.52713,     0.52713,     0.52713,     0.52713,     0.52713,     0.52713,      0.5188,      0.5188,      0.5188,      0.5188,      0.5188,      0.5188,      0.5188,      0.5188,      0.5188,      0.5188,     0.51799,     0.51799,     0.51799,     0.51799,     0.51799,     0.51799,     0.51799,\n",
       "            0.51799,     0.51799,     0.51799,     0.51799,     0.51799,     0.51799,     0.51799,     0.51799,     0.51799,     0.51799,     0.51799,     0.51799,     0.51799,     0.51799,     0.51799,     0.51799,     0.51799,     0.51799,     0.51799,     0.51799,     0.51799,     0.51799,     0.51799,\n",
       "            0.45062,     0.45062,     0.45062,     0.45062,     0.45062,     0.45062,     0.45062,     0.45062,     0.45062,     0.45062,     0.42135,     0.42135,     0.42135,     0.42135,     0.42135,     0.42135,     0.42135,     0.42135,     0.42135,     0.42135,     0.42135,     0.42135,     0.42135,\n",
       "            0.42135,     0.42135,     0.42135,     0.42135,     0.42135,     0.42135,     0.38191,     0.38191,     0.38191,     0.38191,     0.38191,     0.38191,     0.38191,     0.38191,     0.38191,     0.38191,     0.37745,     0.37745,     0.37745,     0.37745,     0.37745,     0.37745,     0.37745,\n",
       "            0.37745,     0.37745,     0.37745,     0.33621,     0.33621,     0.33621,     0.33621,     0.33621,     0.33621,     0.33621,     0.33621,     0.33621,     0.33621,     0.30502,     0.30502,     0.30502,     0.30502,     0.30502,     0.30502,     0.30502,     0.30502,     0.30502,     0.30502,\n",
       "             0.2745,     0.27323,     0.27197,      0.2707,     0.26944,     0.26817,     0.26691,     0.26564,     0.26438,     0.26311,     0.26185,     0.26058,     0.25932,     0.25805,     0.25679,     0.25552,     0.25426,     0.25299,     0.25173,     0.25046,      0.2492,     0.24793,     0.24667,\n",
       "             0.2454,     0.24414,     0.24287,     0.24161,     0.24034,     0.23908,     0.23781,     0.23655,     0.23528,     0.23402,     0.23275,     0.23149,     0.23022,     0.22896,     0.22769,     0.22643,     0.22516,      0.2239,     0.22263,     0.22137,      0.2201,     0.21884,     0.21757,\n",
       "            0.21631,     0.21504,     0.21378,     0.21251,     0.21125,     0.20998,     0.20872,     0.20745,     0.20619,     0.20492,     0.20366,     0.20239,     0.20113,     0.19986,      0.1986,     0.19733,     0.19607,      0.1948,     0.19354,     0.19227,     0.19101,     0.18974,     0.18848,\n",
       "            0.18721,     0.18595,     0.18468,     0.18342,     0.18215,     0.18089,     0.17962,     0.17836,      0.1771,     0.17583,     0.17457,      0.1733,     0.17204,     0.17077,     0.16951,     0.16824,     0.16698,     0.16571,     0.16445,     0.16318,     0.16192,     0.16065,     0.15939,\n",
       "            0.15812,     0.15686,     0.15559,     0.15433,     0.15306,      0.1518,     0.15053,     0.14927,       0.148,     0.14674,     0.14547,     0.14421,     0.14294,     0.14168,     0.14041,     0.13915,     0.13788,     0.13662,     0.13535,     0.13409,     0.13282,     0.13156,     0.13029,\n",
       "            0.12903,     0.12776,      0.1265,     0.12523,     0.12397,      0.1227,     0.12144,     0.12017,     0.11891,     0.11764,     0.11638,     0.11511,     0.11385,     0.11258,     0.11132,     0.11005,     0.10879,     0.10752,     0.10626,     0.10499,     0.10373,     0.10246,      0.1012,\n",
       "           0.099932,    0.098667,    0.097402,    0.096137,    0.094872,    0.093607,    0.092342,    0.091077,    0.089812,    0.088548,    0.087283,    0.086018,    0.084753,    0.083488,    0.082223,    0.080958,    0.079693,    0.078428,    0.077163,    0.075898,    0.074633,    0.073368,    0.072103,\n",
       "           0.070838,    0.069573,    0.068308,    0.067043,    0.065778,    0.064513,    0.063248,    0.061983,    0.060718,    0.059453,    0.058188,    0.056923,    0.055658,    0.054393,    0.053129,    0.051864,    0.050599,    0.049334,    0.048069,    0.046804,    0.045539,    0.044274,    0.043009,\n",
       "           0.041744,    0.040479,    0.039214,    0.037949,    0.036684,    0.035419,    0.034154,    0.032889,    0.031624,    0.030359,    0.029094,    0.027829,    0.026564,    0.025299,    0.024034,    0.022769,    0.021504,    0.020239,    0.018974,     0.01771,    0.016445,     0.01518,    0.013915,\n",
       "            0.01265,    0.011385,     0.01012,   0.0088548,   0.0075898,   0.0063248,   0.0050599,   0.0037949,   0.0025299,    0.001265,           0]]), 'Recall', 'Precision'], [array([          0,    0.001001,    0.002002,    0.003003,    0.004004,    0.005005,    0.006006,    0.007007,    0.008008,    0.009009,     0.01001,    0.011011,    0.012012,    0.013013,    0.014014,    0.015015,    0.016016,    0.017017,    0.018018,    0.019019,     0.02002,    0.021021,    0.022022,    0.023023,\n",
       "          0.024024,    0.025025,    0.026026,    0.027027,    0.028028,    0.029029,     0.03003,    0.031031,    0.032032,    0.033033,    0.034034,    0.035035,    0.036036,    0.037037,    0.038038,    0.039039,     0.04004,    0.041041,    0.042042,    0.043043,    0.044044,    0.045045,    0.046046,    0.047047,\n",
       "          0.048048,    0.049049,     0.05005,    0.051051,    0.052052,    0.053053,    0.054054,    0.055055,    0.056056,    0.057057,    0.058058,    0.059059,     0.06006,    0.061061,    0.062062,    0.063063,    0.064064,    0.065065,    0.066066,    0.067067,    0.068068,    0.069069,     0.07007,    0.071071,\n",
       "          0.072072,    0.073073,    0.074074,    0.075075,    0.076076,    0.077077,    0.078078,    0.079079,     0.08008,    0.081081,    0.082082,    0.083083,    0.084084,    0.085085,    0.086086,    0.087087,    0.088088,    0.089089,     0.09009,    0.091091,    0.092092,    0.093093,    0.094094,    0.095095,\n",
       "          0.096096,    0.097097,    0.098098,    0.099099,      0.1001,      0.1011,      0.1021,      0.1031,      0.1041,     0.10511,     0.10611,     0.10711,     0.10811,     0.10911,     0.11011,     0.11111,     0.11211,     0.11311,     0.11411,     0.11512,     0.11612,     0.11712,     0.11812,     0.11912,\n",
       "           0.12012,     0.12112,     0.12212,     0.12312,     0.12412,     0.12513,     0.12613,     0.12713,     0.12813,     0.12913,     0.13013,     0.13113,     0.13213,     0.13313,     0.13413,     0.13514,     0.13614,     0.13714,     0.13814,     0.13914,     0.14014,     0.14114,     0.14214,     0.14314,\n",
       "           0.14414,     0.14515,     0.14615,     0.14715,     0.14815,     0.14915,     0.15015,     0.15115,     0.15215,     0.15315,     0.15415,     0.15516,     0.15616,     0.15716,     0.15816,     0.15916,     0.16016,     0.16116,     0.16216,     0.16316,     0.16416,     0.16517,     0.16617,     0.16717,\n",
       "           0.16817,     0.16917,     0.17017,     0.17117,     0.17217,     0.17317,     0.17417,     0.17518,     0.17618,     0.17718,     0.17818,     0.17918,     0.18018,     0.18118,     0.18218,     0.18318,     0.18418,     0.18519,     0.18619,     0.18719,     0.18819,     0.18919,     0.19019,     0.19119,\n",
       "           0.19219,     0.19319,     0.19419,      0.1952,      0.1962,      0.1972,      0.1982,      0.1992,      0.2002,      0.2012,      0.2022,      0.2032,      0.2042,     0.20521,     0.20621,     0.20721,     0.20821,     0.20921,     0.21021,     0.21121,     0.21221,     0.21321,     0.21421,     0.21522,\n",
       "           0.21622,     0.21722,     0.21822,     0.21922,     0.22022,     0.22122,     0.22222,     0.22322,     0.22422,     0.22523,     0.22623,     0.22723,     0.22823,     0.22923,     0.23023,     0.23123,     0.23223,     0.23323,     0.23423,     0.23524,     0.23624,     0.23724,     0.23824,     0.23924,\n",
       "           0.24024,     0.24124,     0.24224,     0.24324,     0.24424,     0.24525,     0.24625,     0.24725,     0.24825,     0.24925,     0.25025,     0.25125,     0.25225,     0.25325,     0.25425,     0.25526,     0.25626,     0.25726,     0.25826,     0.25926,     0.26026,     0.26126,     0.26226,     0.26326,\n",
       "           0.26426,     0.26527,     0.26627,     0.26727,     0.26827,     0.26927,     0.27027,     0.27127,     0.27227,     0.27327,     0.27427,     0.27528,     0.27628,     0.27728,     0.27828,     0.27928,     0.28028,     0.28128,     0.28228,     0.28328,     0.28428,     0.28529,     0.28629,     0.28729,\n",
       "           0.28829,     0.28929,     0.29029,     0.29129,     0.29229,     0.29329,     0.29429,      0.2953,      0.2963,      0.2973,      0.2983,      0.2993,      0.3003,      0.3013,      0.3023,      0.3033,      0.3043,     0.30531,     0.30631,     0.30731,     0.30831,     0.30931,     0.31031,     0.31131,\n",
       "           0.31231,     0.31331,     0.31431,     0.31532,     0.31632,     0.31732,     0.31832,     0.31932,     0.32032,     0.32132,     0.32232,     0.32332,     0.32432,     0.32533,     0.32633,     0.32733,     0.32833,     0.32933,     0.33033,     0.33133,     0.33233,     0.33333,     0.33433,     0.33534,\n",
       "           0.33634,     0.33734,     0.33834,     0.33934,     0.34034,     0.34134,     0.34234,     0.34334,     0.34434,     0.34535,     0.34635,     0.34735,     0.34835,     0.34935,     0.35035,     0.35135,     0.35235,     0.35335,     0.35435,     0.35536,     0.35636,     0.35736,     0.35836,     0.35936,\n",
       "           0.36036,     0.36136,     0.36236,     0.36336,     0.36436,     0.36537,     0.36637,     0.36737,     0.36837,     0.36937,     0.37037,     0.37137,     0.37237,     0.37337,     0.37437,     0.37538,     0.37638,     0.37738,     0.37838,     0.37938,     0.38038,     0.38138,     0.38238,     0.38338,\n",
       "           0.38438,     0.38539,     0.38639,     0.38739,     0.38839,     0.38939,     0.39039,     0.39139,     0.39239,     0.39339,     0.39439,      0.3954,      0.3964,      0.3974,      0.3984,      0.3994,      0.4004,      0.4014,      0.4024,      0.4034,      0.4044,     0.40541,     0.40641,     0.40741,\n",
       "           0.40841,     0.40941,     0.41041,     0.41141,     0.41241,     0.41341,     0.41441,     0.41542,     0.41642,     0.41742,     0.41842,     0.41942,     0.42042,     0.42142,     0.42242,     0.42342,     0.42442,     0.42543,     0.42643,     0.42743,     0.42843,     0.42943,     0.43043,     0.43143,\n",
       "           0.43243,     0.43343,     0.43443,     0.43544,     0.43644,     0.43744,     0.43844,     0.43944,     0.44044,     0.44144,     0.44244,     0.44344,     0.44444,     0.44545,     0.44645,     0.44745,     0.44845,     0.44945,     0.45045,     0.45145,     0.45245,     0.45345,     0.45445,     0.45546,\n",
       "           0.45646,     0.45746,     0.45846,     0.45946,     0.46046,     0.46146,     0.46246,     0.46346,     0.46446,     0.46547,     0.46647,     0.46747,     0.46847,     0.46947,     0.47047,     0.47147,     0.47247,     0.47347,     0.47447,     0.47548,     0.47648,     0.47748,     0.47848,     0.47948,\n",
       "           0.48048,     0.48148,     0.48248,     0.48348,     0.48448,     0.48549,     0.48649,     0.48749,     0.48849,     0.48949,     0.49049,     0.49149,     0.49249,     0.49349,     0.49449,      0.4955,      0.4965,      0.4975,      0.4985,      0.4995,      0.5005,      0.5015,      0.5025,      0.5035,\n",
       "            0.5045,     0.50551,     0.50651,     0.50751,     0.50851,     0.50951,     0.51051,     0.51151,     0.51251,     0.51351,     0.51451,     0.51552,     0.51652,     0.51752,     0.51852,     0.51952,     0.52052,     0.52152,     0.52252,     0.52352,     0.52452,     0.52553,     0.52653,     0.52753,\n",
       "           0.52853,     0.52953,     0.53053,     0.53153,     0.53253,     0.53353,     0.53453,     0.53554,     0.53654,     0.53754,     0.53854,     0.53954,     0.54054,     0.54154,     0.54254,     0.54354,     0.54454,     0.54555,     0.54655,     0.54755,     0.54855,     0.54955,     0.55055,     0.55155,\n",
       "           0.55255,     0.55355,     0.55455,     0.55556,     0.55656,     0.55756,     0.55856,     0.55956,     0.56056,     0.56156,     0.56256,     0.56356,     0.56456,     0.56557,     0.56657,     0.56757,     0.56857,     0.56957,     0.57057,     0.57157,     0.57257,     0.57357,     0.57457,     0.57558,\n",
       "           0.57658,     0.57758,     0.57858,     0.57958,     0.58058,     0.58158,     0.58258,     0.58358,     0.58458,     0.58559,     0.58659,     0.58759,     0.58859,     0.58959,     0.59059,     0.59159,     0.59259,     0.59359,     0.59459,      0.5956,      0.5966,      0.5976,      0.5986,      0.5996,\n",
       "            0.6006,      0.6016,      0.6026,      0.6036,      0.6046,     0.60561,     0.60661,     0.60761,     0.60861,     0.60961,     0.61061,     0.61161,     0.61261,     0.61361,     0.61461,     0.61562,     0.61662,     0.61762,     0.61862,     0.61962,     0.62062,     0.62162,     0.62262,     0.62362,\n",
       "           0.62462,     0.62563,     0.62663,     0.62763,     0.62863,     0.62963,     0.63063,     0.63163,     0.63263,     0.63363,     0.63463,     0.63564,     0.63664,     0.63764,     0.63864,     0.63964,     0.64064,     0.64164,     0.64264,     0.64364,     0.64464,     0.64565,     0.64665,     0.64765,\n",
       "           0.64865,     0.64965,     0.65065,     0.65165,     0.65265,     0.65365,     0.65465,     0.65566,     0.65666,     0.65766,     0.65866,     0.65966,     0.66066,     0.66166,     0.66266,     0.66366,     0.66466,     0.66567,     0.66667,     0.66767,     0.66867,     0.66967,     0.67067,     0.67167,\n",
       "           0.67267,     0.67367,     0.67467,     0.67568,     0.67668,     0.67768,     0.67868,     0.67968,     0.68068,     0.68168,     0.68268,     0.68368,     0.68468,     0.68569,     0.68669,     0.68769,     0.68869,     0.68969,     0.69069,     0.69169,     0.69269,     0.69369,     0.69469,      0.6957,\n",
       "            0.6967,      0.6977,      0.6987,      0.6997,      0.7007,      0.7017,      0.7027,      0.7037,      0.7047,     0.70571,     0.70671,     0.70771,     0.70871,     0.70971,     0.71071,     0.71171,     0.71271,     0.71371,     0.71471,     0.71572,     0.71672,     0.71772,     0.71872,     0.71972,\n",
       "           0.72072,     0.72172,     0.72272,     0.72372,     0.72472,     0.72573,     0.72673,     0.72773,     0.72873,     0.72973,     0.73073,     0.73173,     0.73273,     0.73373,     0.73473,     0.73574,     0.73674,     0.73774,     0.73874,     0.73974,     0.74074,     0.74174,     0.74274,     0.74374,\n",
       "           0.74474,     0.74575,     0.74675,     0.74775,     0.74875,     0.74975,     0.75075,     0.75175,     0.75275,     0.75375,     0.75475,     0.75576,     0.75676,     0.75776,     0.75876,     0.75976,     0.76076,     0.76176,     0.76276,     0.76376,     0.76476,     0.76577,     0.76677,     0.76777,\n",
       "           0.76877,     0.76977,     0.77077,     0.77177,     0.77277,     0.77377,     0.77477,     0.77578,     0.77678,     0.77778,     0.77878,     0.77978,     0.78078,     0.78178,     0.78278,     0.78378,     0.78478,     0.78579,     0.78679,     0.78779,     0.78879,     0.78979,     0.79079,     0.79179,\n",
       "           0.79279,     0.79379,     0.79479,      0.7958,      0.7968,      0.7978,      0.7988,      0.7998,      0.8008,      0.8018,      0.8028,      0.8038,      0.8048,     0.80581,     0.80681,     0.80781,     0.80881,     0.80981,     0.81081,     0.81181,     0.81281,     0.81381,     0.81481,     0.81582,\n",
       "           0.81682,     0.81782,     0.81882,     0.81982,     0.82082,     0.82182,     0.82282,     0.82382,     0.82482,     0.82583,     0.82683,     0.82783,     0.82883,     0.82983,     0.83083,     0.83183,     0.83283,     0.83383,     0.83483,     0.83584,     0.83684,     0.83784,     0.83884,     0.83984,\n",
       "           0.84084,     0.84184,     0.84284,     0.84384,     0.84484,     0.84585,     0.84685,     0.84785,     0.84885,     0.84985,     0.85085,     0.85185,     0.85285,     0.85385,     0.85485,     0.85586,     0.85686,     0.85786,     0.85886,     0.85986,     0.86086,     0.86186,     0.86286,     0.86386,\n",
       "           0.86486,     0.86587,     0.86687,     0.86787,     0.86887,     0.86987,     0.87087,     0.87187,     0.87287,     0.87387,     0.87487,     0.87588,     0.87688,     0.87788,     0.87888,     0.87988,     0.88088,     0.88188,     0.88288,     0.88388,     0.88488,     0.88589,     0.88689,     0.88789,\n",
       "           0.88889,     0.88989,     0.89089,     0.89189,     0.89289,     0.89389,     0.89489,      0.8959,      0.8969,      0.8979,      0.8989,      0.8999,      0.9009,      0.9019,      0.9029,      0.9039,      0.9049,     0.90591,     0.90691,     0.90791,     0.90891,     0.90991,     0.91091,     0.91191,\n",
       "           0.91291,     0.91391,     0.91491,     0.91592,     0.91692,     0.91792,     0.91892,     0.91992,     0.92092,     0.92192,     0.92292,     0.92392,     0.92492,     0.92593,     0.92693,     0.92793,     0.92893,     0.92993,     0.93093,     0.93193,     0.93293,     0.93393,     0.93493,     0.93594,\n",
       "           0.93694,     0.93794,     0.93894,     0.93994,     0.94094,     0.94194,     0.94294,     0.94394,     0.94494,     0.94595,     0.94695,     0.94795,     0.94895,     0.94995,     0.95095,     0.95195,     0.95295,     0.95395,     0.95495,     0.95596,     0.95696,     0.95796,     0.95896,     0.95996,\n",
       "           0.96096,     0.96196,     0.96296,     0.96396,     0.96496,     0.96597,     0.96697,     0.96797,     0.96897,     0.96997,     0.97097,     0.97197,     0.97297,     0.97397,     0.97497,     0.97598,     0.97698,     0.97798,     0.97898,     0.97998,     0.98098,     0.98198,     0.98298,     0.98398,\n",
       "           0.98498,     0.98599,     0.98699,     0.98799,     0.98899,     0.98999,     0.99099,     0.99199,     0.99299,     0.99399,     0.99499,       0.996,       0.997,       0.998,       0.999,           1]), array([[    0.40722,     0.40722,     0.50073,     0.53885,     0.55514,     0.57839,     0.59264,     0.58873,     0.58998,      0.5838,     0.58333,     0.58529,     0.59294,     0.59565,     0.60409,     0.60764,     0.59255,      0.5981,     0.59983,     0.60267,     0.60566,     0.60043,     0.60272,\n",
       "            0.60126,      0.5998,     0.59834,     0.59688,     0.59433,     0.58992,     0.59025,     0.59199,       0.593,     0.59401,     0.59529,     0.59805,     0.59889,     0.59973,     0.60057,     0.60478,      0.6089,     0.60713,      0.6086,     0.61607,     0.63083,     0.63697,     0.63964,\n",
       "            0.63011,     0.62836,     0.63378,     0.62833,     0.63057,     0.63193,     0.63259,     0.63324,     0.63388,     0.63453,     0.63517,     0.63825,     0.63725,     0.63492,     0.63259,     0.63005,     0.62703,     0.62401,      0.6161,     0.61549,     0.61669,     0.61788,     0.61533,\n",
       "            0.61149,     0.60774,     0.60406,     0.60155,     0.60294,     0.60432,     0.59893,     0.59325,     0.58925,     0.58664,     0.58511,     0.58358,     0.58205,     0.58051,     0.57897,     0.58265,     0.58313,     0.58361,     0.58409,     0.58457,     0.58505,     0.58553,     0.58632,\n",
       "            0.59002,     0.59041,      0.5908,     0.59119,     0.59157,     0.59196,     0.59234,     0.59273,     0.59311,     0.59349,     0.59383,     0.59417,     0.59451,     0.59484,     0.59518,     0.59551,     0.59585,     0.59618,     0.59651,     0.59685,     0.59718,     0.59658,     0.59399,\n",
       "             0.5914,      0.5888,     0.58625,     0.58372,     0.58118,      0.5784,       0.574,     0.56958,     0.56874,     0.56793,     0.56712,     0.56631,      0.5655,     0.56469,     0.56388,     0.56307,     0.56226,     0.56145,     0.56063,     0.56008,     0.56045,     0.56082,     0.56119,\n",
       "            0.56156,     0.56193,      0.5623,     0.56266,     0.56303,     0.56339,     0.56375,     0.55405,     0.55238,      0.5507,     0.54902,     0.54734,     0.54565,     0.54397,     0.54235,     0.54071,     0.53908,     0.53744,      0.5358,     0.53429,     0.53507,     0.53585,     0.53662,\n",
       "            0.53739,     0.53801,     0.53826,     0.53852,     0.53878,     0.53903,     0.53929,     0.53954,     0.53979,     0.54005,      0.5403,     0.54055,      0.5408,     0.54105,      0.5413,     0.54155,     0.54048,     0.53829,     0.53609,     0.53389,     0.53167,     0.52599,     0.52105,\n",
       "            0.52065,     0.52026,     0.51987,     0.51947,     0.51908,     0.51868,     0.51829,     0.51789,      0.5175,      0.5171,      0.5167,     0.51631,     0.51591,     0.51551,     0.51512,     0.51472,     0.51432,     0.51393,     0.51353,     0.51313,     0.51273,     0.51234,     0.51194,\n",
       "            0.51154,     0.51114,     0.51074,     0.50955,     0.50808,     0.50661,     0.50513,     0.50365,     0.50217,     0.50068,     0.49996,     0.49989,     0.49981,     0.49974,     0.49966,     0.49959,     0.49952,     0.49944,     0.49937,      0.4993,     0.49922,     0.49915,     0.49907,\n",
       "              0.499,     0.49893,     0.49885,     0.49878,      0.4987,     0.49863,     0.49856,     0.49848,     0.49841,     0.49833,     0.49826,     0.49819,     0.49811,     0.49804,     0.49796,     0.49789,     0.49782,     0.49774,     0.49767,     0.49759,     0.49752,     0.49745,     0.49737,\n",
       "             0.4973,     0.49722,     0.49715,     0.49708,       0.497,     0.49693,     0.49685,     0.49678,      0.4967,     0.49663,     0.49656,     0.49648,     0.49641,     0.49633,     0.49626,     0.49619,     0.49611,     0.49604,     0.49596,     0.49589,     0.49581,     0.49574,     0.49567,\n",
       "            0.49559,     0.49552,     0.49544,     0.49537,      0.4953,     0.49522,     0.49515,     0.49507,       0.495,     0.49492,     0.49485,     0.49478,      0.4947,     0.49463,     0.49455,     0.49448,      0.4944,     0.49433,     0.49426,     0.49418,     0.49411,     0.49403,     0.49396,\n",
       "            0.49388,     0.49381,     0.49373,     0.49366,     0.49359,     0.49351,     0.49344,     0.49336,     0.49329,     0.49321,     0.49314,     0.49307,     0.49299,     0.49292,     0.49284,     0.49277,     0.49269,     0.49262,     0.49254,     0.49247,      0.4924,     0.49232,     0.49225,\n",
       "            0.49217,      0.4921,     0.49202,     0.49195,     0.49187,      0.4918,     0.49172,     0.49165,     0.49158,      0.4915,     0.49143,     0.49135,     0.49128,      0.4912,     0.49113,     0.49105,     0.49098,      0.4909,     0.49083,     0.49075,     0.49068,     0.49061,     0.49053,\n",
       "            0.49046,     0.49038,     0.49031,     0.49023,     0.49016,     0.49008,     0.49001,     0.48993,     0.48986,     0.48978,     0.48971,     0.48963,     0.48956,     0.48949,     0.48941,     0.48934,     0.48926,     0.48893,       0.488,     0.48707,     0.48613,      0.4852,     0.48427,\n",
       "            0.48333,      0.4824,     0.48146,     0.48052,     0.47958,     0.47864,     0.47798,      0.4775,     0.47702,     0.47655,     0.47607,     0.47559,     0.47511,     0.47464,     0.47416,     0.47368,      0.4732,     0.47272,     0.47224,     0.47176,     0.47128,      0.4708,     0.47032,\n",
       "            0.46984,     0.46936,     0.46888,     0.46839,     0.46791,     0.46743,     0.45572,     0.45533,     0.45494,     0.45455,     0.45416,     0.45377,     0.45338,     0.45299,      0.4526,     0.45221,     0.45182,     0.45143,     0.45104,     0.45065,     0.45026,     0.44987,     0.44948,\n",
       "            0.44909,      0.4487,     0.44831,     0.44792,     0.44752,     0.44713,     0.44674,     0.44635,     0.44595,     0.44556,     0.44517,     0.44478,     0.44439,     0.44407,     0.44375,     0.44342,      0.4431,     0.44277,     0.44245,     0.44212,      0.4418,     0.44147,     0.44115,\n",
       "            0.44082,      0.4405,     0.44017,     0.43985,     0.43952,      0.4392,     0.43887,     0.43854,     0.43822,     0.43789,     0.43756,     0.43724,     0.43691,     0.43659,     0.43626,     0.43593,      0.4356,     0.43528,     0.43495,     0.43462,      0.4343,     0.43397,     0.43364,\n",
       "            0.43331,     0.43298,     0.43152,     0.42911,      0.4267,     0.42428,     0.42185,     0.42042,     0.41949,     0.41855,     0.41761,     0.41667,     0.41572,     0.41478,     0.41384,     0.41289,     0.41195,       0.411,     0.41005,      0.4091,     0.40848,     0.40786,     0.40724,\n",
       "            0.40662,       0.406,     0.40538,     0.40476,     0.40414,     0.40352,     0.40289,     0.40227,     0.40165,     0.40102,      0.4004,     0.39978,     0.39915,     0.39853,      0.3979,     0.39727,     0.39628,     0.39489,     0.39349,     0.39208,     0.39068,     0.38928,     0.38787,\n",
       "            0.38646,     0.38505,     0.38284,     0.38028,     0.37772,     0.37514,     0.37256,     0.37188,     0.37162,     0.37136,     0.37109,     0.37083,     0.37057,     0.37031,     0.37005,     0.36978,     0.36952,     0.36926,       0.369,     0.36873,     0.36847,     0.36821,     0.36795,\n",
       "            0.36768,     0.36742,     0.36716,     0.36689,     0.36663,     0.36637,      0.3661,     0.36584,     0.36558,     0.36531,     0.36505,     0.36479,     0.36452,     0.36426,       0.364,     0.36373,     0.36347,      0.3632,     0.36294,     0.36268,     0.36241,     0.36215,     0.36188,\n",
       "            0.36162,     0.36135,     0.36109,     0.36082,     0.36056,      0.3603,     0.36003,     0.35977,      0.3595,     0.35764,     0.35434,     0.35103,     0.34771,     0.34612,     0.34557,     0.34502,     0.34448,     0.34393,     0.34338,     0.34284,     0.34229,     0.34174,     0.34119,\n",
       "            0.34064,      0.3401,     0.33955,       0.339,     0.33845,      0.3379,     0.33735,      0.3368,     0.33625,     0.33569,     0.33514,     0.33459,     0.33404,     0.33349,      0.3334,     0.33348,     0.33357,     0.33366,     0.33374,     0.33383,     0.33391,       0.334,     0.33408,\n",
       "            0.33417,     0.33425,     0.33434,     0.33442,     0.33451,     0.33459,     0.33468,     0.33476,     0.33485,     0.33493,     0.33501,      0.3351,     0.33518,     0.33526,     0.33534,     0.33543,     0.33551,     0.33559,     0.33567,     0.33576,     0.33584,     0.33592,     0.33598,\n",
       "            0.33468,     0.33337,     0.33207,     0.33076,     0.32945,     0.32814,     0.32683,     0.32552,      0.3242,     0.32288,     0.32169,     0.32053,     0.31937,     0.31821,     0.31704,     0.31588,     0.31472,     0.31355,     0.31238,     0.31121,     0.31004,     0.30901,     0.31007,\n",
       "             0.3111,      0.3095,     0.30633,     0.30315,     0.29997,     0.29667,     0.29305,     0.28942,     0.28577,     0.28272,     0.28088,     0.27904,      0.2772,     0.27535,      0.2735,     0.27164,     0.26979,     0.26099,     0.25319,     0.25129,     0.24938,     0.24747,     0.24556,\n",
       "            0.24364,     0.24172,      0.2398,     0.20824,     0.20762,       0.207,     0.20639,     0.20577,     0.20515,     0.20454,     0.20392,      0.2033,     0.20268,     0.20207,     0.20145,     0.20083,     0.20021,     0.19959,     0.19897,     0.19835,     0.19773,      0.1971,     0.19648,\n",
       "            0.19586,     0.19524,     0.19461,     0.19399,     0.19337,     0.18882,     0.17788,     0.17567,     0.17422,     0.17278,     0.17133,     0.16988,     0.16843,     0.16698,     0.16553,     0.16407,     0.16261,     0.16115,     0.15993,      0.1588,     0.15767,     0.15655,     0.15542,\n",
       "            0.15429,     0.15316,     0.15202,     0.15089,     0.14976,     0.14862,     0.14748,     0.14635,     0.14521,     0.14404,     0.14248,     0.14091,     0.13935,     0.13778,     0.13621,     0.13464,     0.13306,     0.13148,     0.12991,     0.12833,      0.1273,     0.12736,     0.12743,\n",
       "            0.12749,     0.12755,     0.12762,     0.12768,     0.12774,      0.1278,     0.12786,     0.12792,     0.12798,     0.12804,      0.1281,     0.12815,     0.12821,     0.12827,     0.12832,     0.12838,     0.12843,     0.12481,     0.12038,     0.11593,     0.11147,     0.11024,     0.10929,\n",
       "            0.10835,      0.1074,     0.10645,      0.1055,     0.10455,      0.1036,     0.10265,      0.1017,     0.10074,     0.09979,    0.098835,    0.097879,    0.096923,    0.095965,    0.095007,    0.094048,    0.092577,    0.090286,    0.087991,    0.085691,    0.083387,    0.081078,    0.078765,\n",
       "           0.076447,    0.075527,    0.075618,    0.075704,    0.075787,    0.075865,     0.07594,    0.076012,    0.076081,    0.076147,    0.075969,     0.07526,    0.074551,     0.07384,     0.07313,    0.072418,    0.071707,    0.070994,    0.070282,    0.069568,    0.068855,     0.06814,    0.067425,\n",
       "            0.06671,    0.065994,    0.065277,     0.06456,    0.063843,    0.063125,    0.062406,    0.061687,    0.060967,    0.060247,    0.059526,    0.058805,    0.058083,    0.057478,    0.057011,    0.056543,    0.056076,    0.055608,     0.05514,    0.054672,    0.054203,    0.053735,    0.053266,\n",
       "           0.052797,    0.052327,    0.051858,    0.051388,    0.050918,    0.050447,    0.049977,    0.049506,    0.049035,    0.048564,    0.048093,    0.047621,    0.047149,    0.046677,    0.046205,    0.045732,    0.045259,    0.044786,    0.044313,    0.043839,    0.043366,    0.042892,    0.042418,\n",
       "           0.041943,    0.041469,    0.040994,    0.040519,    0.040043,    0.039568,    0.039092,    0.038386,    0.037409,    0.036431,    0.035453,    0.034473,    0.033492,    0.032511,    0.031528,    0.030544,     0.02956,    0.028574,    0.027588,      0.0266,    0.025612,    0.024622,    0.023631,\n",
       "            0.02264,    0.021647,    0.020654,    0.019659,           0,           0,           0,           0,           0,           0,           0,           0,           0,           0,           0,           0,           0,           0,           0,           0,           0,           0,           0,\n",
       "                  0,           0,           0,           0,           0,           0,           0,           0,           0,           0,           0,           0,           0,           0,           0,           0,           0,           0,           0,           0,           0,           0,           0,\n",
       "                  0,           0,           0,           0,           0,           0,           0,           0,           0,           0,           0,           0,           0,           0,           0,           0,           0,           0,           0,           0,           0,           0,           0,\n",
       "                  0,           0,           0,           0,           0,           0,           0,           0,           0,           0,           0,           0,           0,           0,           0,           0,           0,           0,           0,           0,           0,           0,           0,\n",
       "                  0,           0,           0,           0,           0,           0,           0,           0,           0,           0,           0,           0,           0,           0,           0,           0,           0,           0,           0,           0,           0,           0,           0,\n",
       "                  0,           0,           0,           0,           0,           0,           0,           0,           0,           0,           0]]), 'Confidence', 'F1'], [array([          0,    0.001001,    0.002002,    0.003003,    0.004004,    0.005005,    0.006006,    0.007007,    0.008008,    0.009009,     0.01001,    0.011011,    0.012012,    0.013013,    0.014014,    0.015015,    0.016016,    0.017017,    0.018018,    0.019019,     0.02002,    0.021021,    0.022022,    0.023023,\n",
       "          0.024024,    0.025025,    0.026026,    0.027027,    0.028028,    0.029029,     0.03003,    0.031031,    0.032032,    0.033033,    0.034034,    0.035035,    0.036036,    0.037037,    0.038038,    0.039039,     0.04004,    0.041041,    0.042042,    0.043043,    0.044044,    0.045045,    0.046046,    0.047047,\n",
       "          0.048048,    0.049049,     0.05005,    0.051051,    0.052052,    0.053053,    0.054054,    0.055055,    0.056056,    0.057057,    0.058058,    0.059059,     0.06006,    0.061061,    0.062062,    0.063063,    0.064064,    0.065065,    0.066066,    0.067067,    0.068068,    0.069069,     0.07007,    0.071071,\n",
       "          0.072072,    0.073073,    0.074074,    0.075075,    0.076076,    0.077077,    0.078078,    0.079079,     0.08008,    0.081081,    0.082082,    0.083083,    0.084084,    0.085085,    0.086086,    0.087087,    0.088088,    0.089089,     0.09009,    0.091091,    0.092092,    0.093093,    0.094094,    0.095095,\n",
       "          0.096096,    0.097097,    0.098098,    0.099099,      0.1001,      0.1011,      0.1021,      0.1031,      0.1041,     0.10511,     0.10611,     0.10711,     0.10811,     0.10911,     0.11011,     0.11111,     0.11211,     0.11311,     0.11411,     0.11512,     0.11612,     0.11712,     0.11812,     0.11912,\n",
       "           0.12012,     0.12112,     0.12212,     0.12312,     0.12412,     0.12513,     0.12613,     0.12713,     0.12813,     0.12913,     0.13013,     0.13113,     0.13213,     0.13313,     0.13413,     0.13514,     0.13614,     0.13714,     0.13814,     0.13914,     0.14014,     0.14114,     0.14214,     0.14314,\n",
       "           0.14414,     0.14515,     0.14615,     0.14715,     0.14815,     0.14915,     0.15015,     0.15115,     0.15215,     0.15315,     0.15415,     0.15516,     0.15616,     0.15716,     0.15816,     0.15916,     0.16016,     0.16116,     0.16216,     0.16316,     0.16416,     0.16517,     0.16617,     0.16717,\n",
       "           0.16817,     0.16917,     0.17017,     0.17117,     0.17217,     0.17317,     0.17417,     0.17518,     0.17618,     0.17718,     0.17818,     0.17918,     0.18018,     0.18118,     0.18218,     0.18318,     0.18418,     0.18519,     0.18619,     0.18719,     0.18819,     0.18919,     0.19019,     0.19119,\n",
       "           0.19219,     0.19319,     0.19419,      0.1952,      0.1962,      0.1972,      0.1982,      0.1992,      0.2002,      0.2012,      0.2022,      0.2032,      0.2042,     0.20521,     0.20621,     0.20721,     0.20821,     0.20921,     0.21021,     0.21121,     0.21221,     0.21321,     0.21421,     0.21522,\n",
       "           0.21622,     0.21722,     0.21822,     0.21922,     0.22022,     0.22122,     0.22222,     0.22322,     0.22422,     0.22523,     0.22623,     0.22723,     0.22823,     0.22923,     0.23023,     0.23123,     0.23223,     0.23323,     0.23423,     0.23524,     0.23624,     0.23724,     0.23824,     0.23924,\n",
       "           0.24024,     0.24124,     0.24224,     0.24324,     0.24424,     0.24525,     0.24625,     0.24725,     0.24825,     0.24925,     0.25025,     0.25125,     0.25225,     0.25325,     0.25425,     0.25526,     0.25626,     0.25726,     0.25826,     0.25926,     0.26026,     0.26126,     0.26226,     0.26326,\n",
       "           0.26426,     0.26527,     0.26627,     0.26727,     0.26827,     0.26927,     0.27027,     0.27127,     0.27227,     0.27327,     0.27427,     0.27528,     0.27628,     0.27728,     0.27828,     0.27928,     0.28028,     0.28128,     0.28228,     0.28328,     0.28428,     0.28529,     0.28629,     0.28729,\n",
       "           0.28829,     0.28929,     0.29029,     0.29129,     0.29229,     0.29329,     0.29429,      0.2953,      0.2963,      0.2973,      0.2983,      0.2993,      0.3003,      0.3013,      0.3023,      0.3033,      0.3043,     0.30531,     0.30631,     0.30731,     0.30831,     0.30931,     0.31031,     0.31131,\n",
       "           0.31231,     0.31331,     0.31431,     0.31532,     0.31632,     0.31732,     0.31832,     0.31932,     0.32032,     0.32132,     0.32232,     0.32332,     0.32432,     0.32533,     0.32633,     0.32733,     0.32833,     0.32933,     0.33033,     0.33133,     0.33233,     0.33333,     0.33433,     0.33534,\n",
       "           0.33634,     0.33734,     0.33834,     0.33934,     0.34034,     0.34134,     0.34234,     0.34334,     0.34434,     0.34535,     0.34635,     0.34735,     0.34835,     0.34935,     0.35035,     0.35135,     0.35235,     0.35335,     0.35435,     0.35536,     0.35636,     0.35736,     0.35836,     0.35936,\n",
       "           0.36036,     0.36136,     0.36236,     0.36336,     0.36436,     0.36537,     0.36637,     0.36737,     0.36837,     0.36937,     0.37037,     0.37137,     0.37237,     0.37337,     0.37437,     0.37538,     0.37638,     0.37738,     0.37838,     0.37938,     0.38038,     0.38138,     0.38238,     0.38338,\n",
       "           0.38438,     0.38539,     0.38639,     0.38739,     0.38839,     0.38939,     0.39039,     0.39139,     0.39239,     0.39339,     0.39439,      0.3954,      0.3964,      0.3974,      0.3984,      0.3994,      0.4004,      0.4014,      0.4024,      0.4034,      0.4044,     0.40541,     0.40641,     0.40741,\n",
       "           0.40841,     0.40941,     0.41041,     0.41141,     0.41241,     0.41341,     0.41441,     0.41542,     0.41642,     0.41742,     0.41842,     0.41942,     0.42042,     0.42142,     0.42242,     0.42342,     0.42442,     0.42543,     0.42643,     0.42743,     0.42843,     0.42943,     0.43043,     0.43143,\n",
       "           0.43243,     0.43343,     0.43443,     0.43544,     0.43644,     0.43744,     0.43844,     0.43944,     0.44044,     0.44144,     0.44244,     0.44344,     0.44444,     0.44545,     0.44645,     0.44745,     0.44845,     0.44945,     0.45045,     0.45145,     0.45245,     0.45345,     0.45445,     0.45546,\n",
       "           0.45646,     0.45746,     0.45846,     0.45946,     0.46046,     0.46146,     0.46246,     0.46346,     0.46446,     0.46547,     0.46647,     0.46747,     0.46847,     0.46947,     0.47047,     0.47147,     0.47247,     0.47347,     0.47447,     0.47548,     0.47648,     0.47748,     0.47848,     0.47948,\n",
       "           0.48048,     0.48148,     0.48248,     0.48348,     0.48448,     0.48549,     0.48649,     0.48749,     0.48849,     0.48949,     0.49049,     0.49149,     0.49249,     0.49349,     0.49449,      0.4955,      0.4965,      0.4975,      0.4985,      0.4995,      0.5005,      0.5015,      0.5025,      0.5035,\n",
       "            0.5045,     0.50551,     0.50651,     0.50751,     0.50851,     0.50951,     0.51051,     0.51151,     0.51251,     0.51351,     0.51451,     0.51552,     0.51652,     0.51752,     0.51852,     0.51952,     0.52052,     0.52152,     0.52252,     0.52352,     0.52452,     0.52553,     0.52653,     0.52753,\n",
       "           0.52853,     0.52953,     0.53053,     0.53153,     0.53253,     0.53353,     0.53453,     0.53554,     0.53654,     0.53754,     0.53854,     0.53954,     0.54054,     0.54154,     0.54254,     0.54354,     0.54454,     0.54555,     0.54655,     0.54755,     0.54855,     0.54955,     0.55055,     0.55155,\n",
       "           0.55255,     0.55355,     0.55455,     0.55556,     0.55656,     0.55756,     0.55856,     0.55956,     0.56056,     0.56156,     0.56256,     0.56356,     0.56456,     0.56557,     0.56657,     0.56757,     0.56857,     0.56957,     0.57057,     0.57157,     0.57257,     0.57357,     0.57457,     0.57558,\n",
       "           0.57658,     0.57758,     0.57858,     0.57958,     0.58058,     0.58158,     0.58258,     0.58358,     0.58458,     0.58559,     0.58659,     0.58759,     0.58859,     0.58959,     0.59059,     0.59159,     0.59259,     0.59359,     0.59459,      0.5956,      0.5966,      0.5976,      0.5986,      0.5996,\n",
       "            0.6006,      0.6016,      0.6026,      0.6036,      0.6046,     0.60561,     0.60661,     0.60761,     0.60861,     0.60961,     0.61061,     0.61161,     0.61261,     0.61361,     0.61461,     0.61562,     0.61662,     0.61762,     0.61862,     0.61962,     0.62062,     0.62162,     0.62262,     0.62362,\n",
       "           0.62462,     0.62563,     0.62663,     0.62763,     0.62863,     0.62963,     0.63063,     0.63163,     0.63263,     0.63363,     0.63463,     0.63564,     0.63664,     0.63764,     0.63864,     0.63964,     0.64064,     0.64164,     0.64264,     0.64364,     0.64464,     0.64565,     0.64665,     0.64765,\n",
       "           0.64865,     0.64965,     0.65065,     0.65165,     0.65265,     0.65365,     0.65465,     0.65566,     0.65666,     0.65766,     0.65866,     0.65966,     0.66066,     0.66166,     0.66266,     0.66366,     0.66466,     0.66567,     0.66667,     0.66767,     0.66867,     0.66967,     0.67067,     0.67167,\n",
       "           0.67267,     0.67367,     0.67467,     0.67568,     0.67668,     0.67768,     0.67868,     0.67968,     0.68068,     0.68168,     0.68268,     0.68368,     0.68468,     0.68569,     0.68669,     0.68769,     0.68869,     0.68969,     0.69069,     0.69169,     0.69269,     0.69369,     0.69469,      0.6957,\n",
       "            0.6967,      0.6977,      0.6987,      0.6997,      0.7007,      0.7017,      0.7027,      0.7037,      0.7047,     0.70571,     0.70671,     0.70771,     0.70871,     0.70971,     0.71071,     0.71171,     0.71271,     0.71371,     0.71471,     0.71572,     0.71672,     0.71772,     0.71872,     0.71972,\n",
       "           0.72072,     0.72172,     0.72272,     0.72372,     0.72472,     0.72573,     0.72673,     0.72773,     0.72873,     0.72973,     0.73073,     0.73173,     0.73273,     0.73373,     0.73473,     0.73574,     0.73674,     0.73774,     0.73874,     0.73974,     0.74074,     0.74174,     0.74274,     0.74374,\n",
       "           0.74474,     0.74575,     0.74675,     0.74775,     0.74875,     0.74975,     0.75075,     0.75175,     0.75275,     0.75375,     0.75475,     0.75576,     0.75676,     0.75776,     0.75876,     0.75976,     0.76076,     0.76176,     0.76276,     0.76376,     0.76476,     0.76577,     0.76677,     0.76777,\n",
       "           0.76877,     0.76977,     0.77077,     0.77177,     0.77277,     0.77377,     0.77477,     0.77578,     0.77678,     0.77778,     0.77878,     0.77978,     0.78078,     0.78178,     0.78278,     0.78378,     0.78478,     0.78579,     0.78679,     0.78779,     0.78879,     0.78979,     0.79079,     0.79179,\n",
       "           0.79279,     0.79379,     0.79479,      0.7958,      0.7968,      0.7978,      0.7988,      0.7998,      0.8008,      0.8018,      0.8028,      0.8038,      0.8048,     0.80581,     0.80681,     0.80781,     0.80881,     0.80981,     0.81081,     0.81181,     0.81281,     0.81381,     0.81481,     0.81582,\n",
       "           0.81682,     0.81782,     0.81882,     0.81982,     0.82082,     0.82182,     0.82282,     0.82382,     0.82482,     0.82583,     0.82683,     0.82783,     0.82883,     0.82983,     0.83083,     0.83183,     0.83283,     0.83383,     0.83483,     0.83584,     0.83684,     0.83784,     0.83884,     0.83984,\n",
       "           0.84084,     0.84184,     0.84284,     0.84384,     0.84484,     0.84585,     0.84685,     0.84785,     0.84885,     0.84985,     0.85085,     0.85185,     0.85285,     0.85385,     0.85485,     0.85586,     0.85686,     0.85786,     0.85886,     0.85986,     0.86086,     0.86186,     0.86286,     0.86386,\n",
       "           0.86486,     0.86587,     0.86687,     0.86787,     0.86887,     0.86987,     0.87087,     0.87187,     0.87287,     0.87387,     0.87487,     0.87588,     0.87688,     0.87788,     0.87888,     0.87988,     0.88088,     0.88188,     0.88288,     0.88388,     0.88488,     0.88589,     0.88689,     0.88789,\n",
       "           0.88889,     0.88989,     0.89089,     0.89189,     0.89289,     0.89389,     0.89489,      0.8959,      0.8969,      0.8979,      0.8989,      0.8999,      0.9009,      0.9019,      0.9029,      0.9039,      0.9049,     0.90591,     0.90691,     0.90791,     0.90891,     0.90991,     0.91091,     0.91191,\n",
       "           0.91291,     0.91391,     0.91491,     0.91592,     0.91692,     0.91792,     0.91892,     0.91992,     0.92092,     0.92192,     0.92292,     0.92392,     0.92492,     0.92593,     0.92693,     0.92793,     0.92893,     0.92993,     0.93093,     0.93193,     0.93293,     0.93393,     0.93493,     0.93594,\n",
       "           0.93694,     0.93794,     0.93894,     0.93994,     0.94094,     0.94194,     0.94294,     0.94394,     0.94494,     0.94595,     0.94695,     0.94795,     0.94895,     0.94995,     0.95095,     0.95195,     0.95295,     0.95395,     0.95495,     0.95596,     0.95696,     0.95796,     0.95896,     0.95996,\n",
       "           0.96096,     0.96196,     0.96296,     0.96396,     0.96496,     0.96597,     0.96697,     0.96797,     0.96897,     0.96997,     0.97097,     0.97197,     0.97297,     0.97397,     0.97497,     0.97598,     0.97698,     0.97798,     0.97898,     0.97998,     0.98098,     0.98198,     0.98298,     0.98398,\n",
       "           0.98498,     0.98599,     0.98699,     0.98799,     0.98899,     0.98999,     0.99099,     0.99199,     0.99299,     0.99399,     0.99499,       0.996,       0.997,       0.998,       0.999,           1]), array([[    0.27526,     0.27526,     0.37279,     0.42954,     0.45457,      0.4866,     0.50711,     0.51723,     0.52503,     0.52262,     0.53341,      0.5367,      0.5497,     0.56194,     0.57715,     0.58607,     0.58114,     0.59235,     0.59575,     0.60138,     0.60736,     0.60694,     0.61208,\n",
       "            0.61125,     0.61042,      0.6096,     0.60877,     0.60731,     0.60479,     0.60716,     0.61086,     0.61301,     0.61516,     0.61791,     0.62389,     0.62573,     0.62757,     0.62941,     0.63873,       0.648,     0.64986,     0.66038,     0.67822,     0.71504,     0.73104,     0.73811,\n",
       "            0.73564,     0.74266,     0.75798,     0.76182,     0.76842,     0.77249,     0.77444,     0.77639,     0.77834,     0.78029,     0.78224,     0.79163,     0.79343,     0.79255,     0.79166,     0.79069,     0.78953,     0.78836,     0.78526,     0.78799,     0.79193,     0.79587,     0.79578,\n",
       "            0.79431,     0.79286,     0.79142,     0.79145,     0.79628,     0.80111,       0.801,     0.79883,     0.79729,     0.79627,     0.79566,     0.79506,     0.79445,     0.79385,     0.79324,     0.80845,     0.81031,     0.81217,     0.81403,      0.8159,     0.81776,     0.81962,     0.82273,\n",
       "             0.8375,     0.83906,     0.84063,      0.8422,     0.84377,     0.84534,      0.8469,     0.84847,     0.85004,     0.85161,     0.85303,     0.85442,     0.85582,     0.85721,     0.85861,        0.86,      0.8614,     0.86279,     0.86419,     0.86558,     0.86698,     0.86769,     0.86698,\n",
       "            0.86626,     0.86554,     0.86482,      0.8641,     0.86338,     0.86258,      0.8613,     0.86001,     0.85976,     0.85952,     0.85927,     0.85903,     0.85879,     0.85855,      0.8583,     0.85806,     0.85782,     0.85757,     0.85733,     0.85753,     0.85927,     0.86102,     0.86276,\n",
       "             0.8645,     0.86625,     0.86799,     0.86973,     0.87148,     0.87322,     0.87496,     0.87234,     0.87186,     0.87139,     0.87092,     0.87044,     0.86997,     0.86949,     0.86902,     0.86854,     0.86807,     0.86759,     0.86712,     0.86688,     0.87103,     0.87517,     0.87931,\n",
       "            0.88345,     0.88678,     0.88817,     0.88957,     0.89097,     0.89237,     0.89376,     0.89516,     0.89656,     0.89795,     0.89935,     0.90075,     0.90214,     0.90354,     0.90494,     0.90634,     0.90672,     0.90624,     0.90576,     0.90528,     0.90481,     0.90353,     0.90242,\n",
       "            0.90233,     0.90224,     0.90214,     0.90205,     0.90196,     0.90187,     0.90178,     0.90168,     0.90159,      0.9015,     0.90141,     0.90131,     0.90122,     0.90113,     0.90104,     0.90095,     0.90085,     0.90076,     0.90067,     0.90058,     0.90049,     0.90039,      0.9003,\n",
       "            0.90021,     0.90012,     0.90002,     0.89974,     0.89938,     0.89902,     0.89867,     0.89831,     0.89796,      0.8976,     0.89743,     0.89741,     0.89739,     0.89737,     0.89735,     0.89733,     0.89731,      0.8973,     0.89728,     0.89726,     0.89724,     0.89722,      0.8972,\n",
       "            0.89718,     0.89717,     0.89715,     0.89713,     0.89711,     0.89709,     0.89707,     0.89705,     0.89704,     0.89702,       0.897,     0.89698,     0.89696,     0.89694,     0.89692,     0.89691,     0.89689,     0.89687,     0.89685,     0.89683,     0.89681,     0.89679,     0.89678,\n",
       "            0.89676,     0.89674,     0.89672,      0.8967,     0.89668,     0.89666,     0.89665,     0.89663,     0.89661,     0.89659,     0.89657,     0.89655,     0.89653,     0.89652,      0.8965,     0.89648,     0.89646,     0.89644,     0.89642,      0.8964,     0.89639,     0.89637,     0.89635,\n",
       "            0.89633,     0.89631,     0.89629,     0.89627,     0.89626,     0.89624,     0.89622,      0.8962,     0.89618,     0.89616,     0.89614,     0.89612,     0.89611,     0.89609,     0.89607,     0.89605,     0.89603,     0.89601,     0.89599,     0.89598,     0.89596,     0.89594,     0.89592,\n",
       "             0.8959,     0.89588,     0.89586,     0.89585,     0.89583,     0.89581,     0.89579,     0.89577,     0.89575,     0.89573,     0.89572,      0.8957,     0.89568,     0.89566,     0.89564,     0.89562,      0.8956,     0.89559,     0.89557,     0.89555,     0.89553,     0.89551,     0.89549,\n",
       "            0.89547,     0.89546,     0.89544,     0.89542,      0.8954,     0.89538,     0.89536,     0.89534,     0.89533,     0.89531,     0.89529,     0.89527,     0.89525,     0.89523,     0.89521,      0.8952,     0.89518,     0.89516,     0.89514,     0.89512,      0.8951,     0.89508,     0.89507,\n",
       "            0.89505,     0.89503,     0.89501,     0.89499,     0.89497,     0.89495,     0.89494,     0.89492,      0.8949,     0.89488,     0.89486,     0.89484,     0.89482,     0.89481,     0.89479,     0.89477,     0.89475,     0.89466,     0.89442,     0.89418,     0.89393,     0.89369,     0.89345,\n",
       "            0.89321,     0.89296,     0.89272,     0.89248,     0.89223,     0.89199,     0.89181,     0.89169,     0.89156,     0.89143,      0.8913,     0.89117,     0.89104,     0.89091,     0.89078,     0.89065,     0.89052,     0.89039,     0.89026,     0.89013,        0.89,     0.88987,     0.88974,\n",
       "            0.88961,     0.88948,     0.88935,     0.88922,     0.88909,     0.88896,     0.88567,     0.88555,     0.88544,     0.88532,     0.88521,     0.88509,     0.88498,     0.88486,     0.88475,     0.88463,     0.88452,      0.8844,     0.88429,     0.88417,     0.88406,     0.88394,     0.88383,\n",
       "            0.88371,      0.8836,     0.88348,     0.88337,     0.88325,     0.88314,     0.88302,     0.88291,     0.88279,     0.88268,     0.88256,     0.88245,     0.88234,     0.88224,     0.88214,     0.88204,     0.88194,     0.88184,     0.88174,     0.88164,     0.88154,     0.88144,     0.88134,\n",
       "            0.88124,     0.88114,     0.88104,     0.88094,     0.88084,     0.88074,     0.88064,     0.88054,     0.88044,     0.88033,     0.88023,     0.88013,     0.88003,     0.87993,     0.87983,     0.87973,     0.87963,     0.87953,     0.87943,     0.87933,     0.87923,     0.87913,     0.87903,\n",
       "            0.87893,     0.87883,     0.87836,     0.87759,     0.87681,     0.87603,     0.87526,     0.87479,     0.87447,     0.87415,     0.87383,     0.87352,      0.8732,     0.87288,     0.87256,     0.87224,     0.87193,     0.87161,     0.87129,     0.87097,     0.87075,     0.87053,     0.87031,\n",
       "            0.87009,     0.86987,     0.86965,     0.86943,     0.86921,     0.86899,     0.86877,     0.86855,     0.86833,      0.8681,     0.86788,     0.86766,     0.86744,     0.86722,       0.867,     0.86678,     0.86642,     0.86589,     0.86537,     0.86485,     0.86432,      0.8638,     0.86328,\n",
       "            0.86275,     0.86223,     0.86137,     0.86036,     0.85935,     0.85834,     0.85733,     0.85705,     0.85694,     0.85683,     0.85672,     0.85662,     0.85651,      0.8564,     0.85629,     0.85618,     0.85607,     0.85596,     0.85585,     0.85574,     0.85563,     0.85552,     0.85541,\n",
       "             0.8553,     0.85519,     0.85508,     0.85497,     0.85486,     0.85475,     0.85464,     0.85453,     0.85442,     0.85431,      0.8542,      0.8541,     0.85399,     0.85388,     0.85377,     0.85366,     0.85355,     0.85344,     0.85333,     0.85322,     0.85311,       0.853,     0.85289,\n",
       "            0.85278,     0.85267,     0.85256,     0.85245,     0.85234,     0.85223,     0.85212,     0.85201,      0.8519,     0.85108,     0.84962,     0.84816,      0.8467,     0.84599,     0.84574,     0.84548,     0.84522,     0.84496,     0.84471,     0.84445,     0.84419,     0.84393,     0.84368,\n",
       "            0.84342,     0.84316,      0.8429,     0.84265,     0.84239,     0.84213,     0.84187,     0.84162,     0.84136,      0.8411,     0.84084,     0.84059,     0.84033,     0.84007,      0.8408,      0.8419,       0.843,     0.84411,     0.84521,     0.84632,     0.84742,     0.84852,     0.84963,\n",
       "            0.85073,     0.85184,     0.85294,     0.85404,     0.85515,     0.85625,     0.85735,     0.85846,     0.85956,     0.86067,     0.86177,     0.86287,     0.86398,     0.86508,     0.86619,     0.86729,     0.86839,      0.8695,      0.8706,     0.87171,     0.87281,     0.87391,     0.87499,\n",
       "            0.87446,     0.87393,      0.8734,     0.87287,     0.87234,     0.87181,     0.87128,     0.87075,     0.87022,     0.86969,     0.86917,     0.86867,     0.86816,     0.86766,     0.86715,     0.86664,     0.86614,     0.86563,     0.86512,     0.86462,     0.86411,     0.86472,     0.88159,\n",
       "            0.89845,     0.90408,       0.903,     0.90191,     0.90083,     0.89968,     0.89833,     0.89699,     0.89564,     0.89449,     0.89374,     0.89299,     0.89224,     0.89149,     0.89074,     0.88999,     0.88924,     0.88535,     0.88183,     0.88089,     0.87995,     0.87901,     0.87806,\n",
       "            0.87712,     0.87618,     0.87524,     0.85682,     0.85639,     0.85595,     0.85552,     0.85509,     0.85465,     0.85422,     0.85379,     0.85335,     0.85292,     0.85249,     0.85205,     0.85162,     0.85119,     0.85075,     0.85032,     0.84989,     0.84945,     0.84902,     0.84859,\n",
       "            0.84815,     0.84772,     0.84729,     0.84685,     0.84642,      0.8428,     0.83404,     0.83209,     0.83074,     0.82939,     0.82804,     0.82669,     0.82534,     0.82399,     0.82264,     0.82129,     0.81994,     0.81859,     0.81731,     0.81607,     0.81483,     0.81358,     0.81234,\n",
       "             0.8111,     0.80986,     0.80861,     0.80737,     0.80613,     0.80489,     0.80364,      0.8024,     0.80116,     0.79986,     0.79779,     0.79572,     0.79365,     0.79158,     0.78951,     0.78744,     0.78537,      0.7833,     0.78123,     0.77915,     0.77945,     0.78443,     0.78941,\n",
       "             0.7944,     0.79938,     0.80436,     0.80934,     0.81433,     0.81931,     0.82429,     0.82927,     0.83426,     0.83924,     0.84422,     0.84921,     0.85419,     0.85917,     0.86415,     0.86914,     0.87412,     0.87123,     0.86666,     0.86208,      0.8575,     0.85596,     0.85468,\n",
       "            0.85339,     0.85211,     0.85082,     0.84954,     0.84825,     0.84697,     0.84568,      0.8444,     0.84312,     0.84183,     0.84055,     0.83926,     0.83798,     0.83669,     0.83541,     0.83412,     0.83169,     0.82742,     0.82315,     0.81888,     0.81461,     0.81034,     0.80606,\n",
       "            0.80179,     0.81252,      0.8341,     0.85568,     0.87726,     0.89884,     0.92042,     0.94199,     0.96357,     0.98515,           1,           1,           1,           1,           1,           1,           1,           1,           1,           1,           1,           1,           1,\n",
       "                  1,           1,           1,           1,           1,           1,           1,           1,           1,           1,           1,           1,           1,           1,           1,           1,           1,           1,           1,           1,           1,           1,           1,\n",
       "                  1,           1,           1,           1,           1,           1,           1,           1,           1,           1,           1,           1,           1,           1,           1,           1,           1,           1,           1,           1,           1,           1,           1,\n",
       "                  1,           1,           1,           1,           1,           1,           1,           1,           1,           1,           1,           1,           1,           1,           1,           1,           1,           1,           1,           1,           1,           1,           1,\n",
       "                  1,           1,           1,           1,           1,           1,           1,           1,           1,           1,           1,           1,           1,           1,           1,           1,           1,           1,           1,           1,           1,           1,           1,\n",
       "                  1,           1,           1,           1,           1,           1,           1,           1,           1,           1,           1,           1,           1,           1,           1,           1,           1,           1,           1,           1,           1,           1,           1,\n",
       "                  1,           1,           1,           1,           1,           1,           1,           1,           1,           1,           1,           1,           1,           1,           1,           1,           1,           1,           1,           1,           1,           1,           1,\n",
       "                  1,           1,           1,           1,           1,           1,           1,           1,           1,           1,           1,           1,           1,           1,           1,           1,           1,           1,           1,           1,           1,           1,           1,\n",
       "                  1,           1,           1,           1,           1,           1,           1,           1,           1,           1,           1,           1,           1,           1,           1,           1,           1,           1,           1,           1,           1,           1,           1,\n",
       "                  1,           1,           1,           1,           1,           1,           1,           1,           1,           1,           1]]), 'Confidence', 'Precision'], [array([          0,    0.001001,    0.002002,    0.003003,    0.004004,    0.005005,    0.006006,    0.007007,    0.008008,    0.009009,     0.01001,    0.011011,    0.012012,    0.013013,    0.014014,    0.015015,    0.016016,    0.017017,    0.018018,    0.019019,     0.02002,    0.021021,    0.022022,    0.023023,\n",
       "          0.024024,    0.025025,    0.026026,    0.027027,    0.028028,    0.029029,     0.03003,    0.031031,    0.032032,    0.033033,    0.034034,    0.035035,    0.036036,    0.037037,    0.038038,    0.039039,     0.04004,    0.041041,    0.042042,    0.043043,    0.044044,    0.045045,    0.046046,    0.047047,\n",
       "          0.048048,    0.049049,     0.05005,    0.051051,    0.052052,    0.053053,    0.054054,    0.055055,    0.056056,    0.057057,    0.058058,    0.059059,     0.06006,    0.061061,    0.062062,    0.063063,    0.064064,    0.065065,    0.066066,    0.067067,    0.068068,    0.069069,     0.07007,    0.071071,\n",
       "          0.072072,    0.073073,    0.074074,    0.075075,    0.076076,    0.077077,    0.078078,    0.079079,     0.08008,    0.081081,    0.082082,    0.083083,    0.084084,    0.085085,    0.086086,    0.087087,    0.088088,    0.089089,     0.09009,    0.091091,    0.092092,    0.093093,    0.094094,    0.095095,\n",
       "          0.096096,    0.097097,    0.098098,    0.099099,      0.1001,      0.1011,      0.1021,      0.1031,      0.1041,     0.10511,     0.10611,     0.10711,     0.10811,     0.10911,     0.11011,     0.11111,     0.11211,     0.11311,     0.11411,     0.11512,     0.11612,     0.11712,     0.11812,     0.11912,\n",
       "           0.12012,     0.12112,     0.12212,     0.12312,     0.12412,     0.12513,     0.12613,     0.12713,     0.12813,     0.12913,     0.13013,     0.13113,     0.13213,     0.13313,     0.13413,     0.13514,     0.13614,     0.13714,     0.13814,     0.13914,     0.14014,     0.14114,     0.14214,     0.14314,\n",
       "           0.14414,     0.14515,     0.14615,     0.14715,     0.14815,     0.14915,     0.15015,     0.15115,     0.15215,     0.15315,     0.15415,     0.15516,     0.15616,     0.15716,     0.15816,     0.15916,     0.16016,     0.16116,     0.16216,     0.16316,     0.16416,     0.16517,     0.16617,     0.16717,\n",
       "           0.16817,     0.16917,     0.17017,     0.17117,     0.17217,     0.17317,     0.17417,     0.17518,     0.17618,     0.17718,     0.17818,     0.17918,     0.18018,     0.18118,     0.18218,     0.18318,     0.18418,     0.18519,     0.18619,     0.18719,     0.18819,     0.18919,     0.19019,     0.19119,\n",
       "           0.19219,     0.19319,     0.19419,      0.1952,      0.1962,      0.1972,      0.1982,      0.1992,      0.2002,      0.2012,      0.2022,      0.2032,      0.2042,     0.20521,     0.20621,     0.20721,     0.20821,     0.20921,     0.21021,     0.21121,     0.21221,     0.21321,     0.21421,     0.21522,\n",
       "           0.21622,     0.21722,     0.21822,     0.21922,     0.22022,     0.22122,     0.22222,     0.22322,     0.22422,     0.22523,     0.22623,     0.22723,     0.22823,     0.22923,     0.23023,     0.23123,     0.23223,     0.23323,     0.23423,     0.23524,     0.23624,     0.23724,     0.23824,     0.23924,\n",
       "           0.24024,     0.24124,     0.24224,     0.24324,     0.24424,     0.24525,     0.24625,     0.24725,     0.24825,     0.24925,     0.25025,     0.25125,     0.25225,     0.25325,     0.25425,     0.25526,     0.25626,     0.25726,     0.25826,     0.25926,     0.26026,     0.26126,     0.26226,     0.26326,\n",
       "           0.26426,     0.26527,     0.26627,     0.26727,     0.26827,     0.26927,     0.27027,     0.27127,     0.27227,     0.27327,     0.27427,     0.27528,     0.27628,     0.27728,     0.27828,     0.27928,     0.28028,     0.28128,     0.28228,     0.28328,     0.28428,     0.28529,     0.28629,     0.28729,\n",
       "           0.28829,     0.28929,     0.29029,     0.29129,     0.29229,     0.29329,     0.29429,      0.2953,      0.2963,      0.2973,      0.2983,      0.2993,      0.3003,      0.3013,      0.3023,      0.3033,      0.3043,     0.30531,     0.30631,     0.30731,     0.30831,     0.30931,     0.31031,     0.31131,\n",
       "           0.31231,     0.31331,     0.31431,     0.31532,     0.31632,     0.31732,     0.31832,     0.31932,     0.32032,     0.32132,     0.32232,     0.32332,     0.32432,     0.32533,     0.32633,     0.32733,     0.32833,     0.32933,     0.33033,     0.33133,     0.33233,     0.33333,     0.33433,     0.33534,\n",
       "           0.33634,     0.33734,     0.33834,     0.33934,     0.34034,     0.34134,     0.34234,     0.34334,     0.34434,     0.34535,     0.34635,     0.34735,     0.34835,     0.34935,     0.35035,     0.35135,     0.35235,     0.35335,     0.35435,     0.35536,     0.35636,     0.35736,     0.35836,     0.35936,\n",
       "           0.36036,     0.36136,     0.36236,     0.36336,     0.36436,     0.36537,     0.36637,     0.36737,     0.36837,     0.36937,     0.37037,     0.37137,     0.37237,     0.37337,     0.37437,     0.37538,     0.37638,     0.37738,     0.37838,     0.37938,     0.38038,     0.38138,     0.38238,     0.38338,\n",
       "           0.38438,     0.38539,     0.38639,     0.38739,     0.38839,     0.38939,     0.39039,     0.39139,     0.39239,     0.39339,     0.39439,      0.3954,      0.3964,      0.3974,      0.3984,      0.3994,      0.4004,      0.4014,      0.4024,      0.4034,      0.4044,     0.40541,     0.40641,     0.40741,\n",
       "           0.40841,     0.40941,     0.41041,     0.41141,     0.41241,     0.41341,     0.41441,     0.41542,     0.41642,     0.41742,     0.41842,     0.41942,     0.42042,     0.42142,     0.42242,     0.42342,     0.42442,     0.42543,     0.42643,     0.42743,     0.42843,     0.42943,     0.43043,     0.43143,\n",
       "           0.43243,     0.43343,     0.43443,     0.43544,     0.43644,     0.43744,     0.43844,     0.43944,     0.44044,     0.44144,     0.44244,     0.44344,     0.44444,     0.44545,     0.44645,     0.44745,     0.44845,     0.44945,     0.45045,     0.45145,     0.45245,     0.45345,     0.45445,     0.45546,\n",
       "           0.45646,     0.45746,     0.45846,     0.45946,     0.46046,     0.46146,     0.46246,     0.46346,     0.46446,     0.46547,     0.46647,     0.46747,     0.46847,     0.46947,     0.47047,     0.47147,     0.47247,     0.47347,     0.47447,     0.47548,     0.47648,     0.47748,     0.47848,     0.47948,\n",
       "           0.48048,     0.48148,     0.48248,     0.48348,     0.48448,     0.48549,     0.48649,     0.48749,     0.48849,     0.48949,     0.49049,     0.49149,     0.49249,     0.49349,     0.49449,      0.4955,      0.4965,      0.4975,      0.4985,      0.4995,      0.5005,      0.5015,      0.5025,      0.5035,\n",
       "            0.5045,     0.50551,     0.50651,     0.50751,     0.50851,     0.50951,     0.51051,     0.51151,     0.51251,     0.51351,     0.51451,     0.51552,     0.51652,     0.51752,     0.51852,     0.51952,     0.52052,     0.52152,     0.52252,     0.52352,     0.52452,     0.52553,     0.52653,     0.52753,\n",
       "           0.52853,     0.52953,     0.53053,     0.53153,     0.53253,     0.53353,     0.53453,     0.53554,     0.53654,     0.53754,     0.53854,     0.53954,     0.54054,     0.54154,     0.54254,     0.54354,     0.54454,     0.54555,     0.54655,     0.54755,     0.54855,     0.54955,     0.55055,     0.55155,\n",
       "           0.55255,     0.55355,     0.55455,     0.55556,     0.55656,     0.55756,     0.55856,     0.55956,     0.56056,     0.56156,     0.56256,     0.56356,     0.56456,     0.56557,     0.56657,     0.56757,     0.56857,     0.56957,     0.57057,     0.57157,     0.57257,     0.57357,     0.57457,     0.57558,\n",
       "           0.57658,     0.57758,     0.57858,     0.57958,     0.58058,     0.58158,     0.58258,     0.58358,     0.58458,     0.58559,     0.58659,     0.58759,     0.58859,     0.58959,     0.59059,     0.59159,     0.59259,     0.59359,     0.59459,      0.5956,      0.5966,      0.5976,      0.5986,      0.5996,\n",
       "            0.6006,      0.6016,      0.6026,      0.6036,      0.6046,     0.60561,     0.60661,     0.60761,     0.60861,     0.60961,     0.61061,     0.61161,     0.61261,     0.61361,     0.61461,     0.61562,     0.61662,     0.61762,     0.61862,     0.61962,     0.62062,     0.62162,     0.62262,     0.62362,\n",
       "           0.62462,     0.62563,     0.62663,     0.62763,     0.62863,     0.62963,     0.63063,     0.63163,     0.63263,     0.63363,     0.63463,     0.63564,     0.63664,     0.63764,     0.63864,     0.63964,     0.64064,     0.64164,     0.64264,     0.64364,     0.64464,     0.64565,     0.64665,     0.64765,\n",
       "           0.64865,     0.64965,     0.65065,     0.65165,     0.65265,     0.65365,     0.65465,     0.65566,     0.65666,     0.65766,     0.65866,     0.65966,     0.66066,     0.66166,     0.66266,     0.66366,     0.66466,     0.66567,     0.66667,     0.66767,     0.66867,     0.66967,     0.67067,     0.67167,\n",
       "           0.67267,     0.67367,     0.67467,     0.67568,     0.67668,     0.67768,     0.67868,     0.67968,     0.68068,     0.68168,     0.68268,     0.68368,     0.68468,     0.68569,     0.68669,     0.68769,     0.68869,     0.68969,     0.69069,     0.69169,     0.69269,     0.69369,     0.69469,      0.6957,\n",
       "            0.6967,      0.6977,      0.6987,      0.6997,      0.7007,      0.7017,      0.7027,      0.7037,      0.7047,     0.70571,     0.70671,     0.70771,     0.70871,     0.70971,     0.71071,     0.71171,     0.71271,     0.71371,     0.71471,     0.71572,     0.71672,     0.71772,     0.71872,     0.71972,\n",
       "           0.72072,     0.72172,     0.72272,     0.72372,     0.72472,     0.72573,     0.72673,     0.72773,     0.72873,     0.72973,     0.73073,     0.73173,     0.73273,     0.73373,     0.73473,     0.73574,     0.73674,     0.73774,     0.73874,     0.73974,     0.74074,     0.74174,     0.74274,     0.74374,\n",
       "           0.74474,     0.74575,     0.74675,     0.74775,     0.74875,     0.74975,     0.75075,     0.75175,     0.75275,     0.75375,     0.75475,     0.75576,     0.75676,     0.75776,     0.75876,     0.75976,     0.76076,     0.76176,     0.76276,     0.76376,     0.76476,     0.76577,     0.76677,     0.76777,\n",
       "           0.76877,     0.76977,     0.77077,     0.77177,     0.77277,     0.77377,     0.77477,     0.77578,     0.77678,     0.77778,     0.77878,     0.77978,     0.78078,     0.78178,     0.78278,     0.78378,     0.78478,     0.78579,     0.78679,     0.78779,     0.78879,     0.78979,     0.79079,     0.79179,\n",
       "           0.79279,     0.79379,     0.79479,      0.7958,      0.7968,      0.7978,      0.7988,      0.7998,      0.8008,      0.8018,      0.8028,      0.8038,      0.8048,     0.80581,     0.80681,     0.80781,     0.80881,     0.80981,     0.81081,     0.81181,     0.81281,     0.81381,     0.81481,     0.81582,\n",
       "           0.81682,     0.81782,     0.81882,     0.81982,     0.82082,     0.82182,     0.82282,     0.82382,     0.82482,     0.82583,     0.82683,     0.82783,     0.82883,     0.82983,     0.83083,     0.83183,     0.83283,     0.83383,     0.83483,     0.83584,     0.83684,     0.83784,     0.83884,     0.83984,\n",
       "           0.84084,     0.84184,     0.84284,     0.84384,     0.84484,     0.84585,     0.84685,     0.84785,     0.84885,     0.84985,     0.85085,     0.85185,     0.85285,     0.85385,     0.85485,     0.85586,     0.85686,     0.85786,     0.85886,     0.85986,     0.86086,     0.86186,     0.86286,     0.86386,\n",
       "           0.86486,     0.86587,     0.86687,     0.86787,     0.86887,     0.86987,     0.87087,     0.87187,     0.87287,     0.87387,     0.87487,     0.87588,     0.87688,     0.87788,     0.87888,     0.87988,     0.88088,     0.88188,     0.88288,     0.88388,     0.88488,     0.88589,     0.88689,     0.88789,\n",
       "           0.88889,     0.88989,     0.89089,     0.89189,     0.89289,     0.89389,     0.89489,      0.8959,      0.8969,      0.8979,      0.8989,      0.8999,      0.9009,      0.9019,      0.9029,      0.9039,      0.9049,     0.90591,     0.90691,     0.90791,     0.90891,     0.90991,     0.91091,     0.91191,\n",
       "           0.91291,     0.91391,     0.91491,     0.91592,     0.91692,     0.91792,     0.91892,     0.91992,     0.92092,     0.92192,     0.92292,     0.92392,     0.92492,     0.92593,     0.92693,     0.92793,     0.92893,     0.92993,     0.93093,     0.93193,     0.93293,     0.93393,     0.93493,     0.93594,\n",
       "           0.93694,     0.93794,     0.93894,     0.93994,     0.94094,     0.94194,     0.94294,     0.94394,     0.94494,     0.94595,     0.94695,     0.94795,     0.94895,     0.94995,     0.95095,     0.95195,     0.95295,     0.95395,     0.95495,     0.95596,     0.95696,     0.95796,     0.95896,     0.95996,\n",
       "           0.96096,     0.96196,     0.96296,     0.96396,     0.96496,     0.96597,     0.96697,     0.96797,     0.96897,     0.96997,     0.97097,     0.97197,     0.97297,     0.97397,     0.97497,     0.97598,     0.97698,     0.97798,     0.97898,     0.97998,     0.98098,     0.98198,     0.98298,     0.98398,\n",
       "           0.98498,     0.98599,     0.98699,     0.98799,     0.98899,     0.98999,     0.99099,     0.99199,     0.99299,     0.99399,     0.99499,       0.996,       0.997,       0.998,       0.999,           1]), array([[    0.78218,     0.78218,     0.76238,     0.72277,     0.71287,     0.71287,     0.71287,     0.68317,     0.67327,     0.66121,     0.64356,     0.64356,     0.64356,     0.63366,     0.63366,     0.63085,     0.60442,     0.60396,     0.60396,     0.60396,     0.60396,     0.59406,     0.59365,\n",
       "             0.5916,     0.58955,      0.5875,     0.58545,     0.58189,     0.57577,     0.57426,     0.57426,     0.57426,     0.57426,     0.57426,     0.57426,     0.57426,     0.57426,     0.57426,     0.57426,     0.57426,     0.56968,     0.56436,     0.56436,     0.56436,     0.56436,     0.56436,\n",
       "            0.55106,     0.54455,     0.54455,     0.53465,     0.53465,     0.53465,     0.53465,     0.53465,     0.53465,     0.53465,     0.53465,     0.53465,     0.53244,     0.52959,     0.52675,     0.52366,     0.52001,     0.51636,     0.50691,     0.50495,     0.50495,     0.50495,     0.50159,\n",
       "            0.49708,      0.4927,     0.48842,     0.48515,     0.48515,     0.48515,     0.47827,     0.47183,     0.46732,     0.46438,     0.46268,     0.46097,     0.45926,     0.45755,     0.45584,     0.45545,     0.45545,     0.45545,     0.45545,     0.45545,     0.45545,     0.45545,     0.45545,\n",
       "            0.45545,     0.45545,     0.45545,     0.45545,     0.45545,     0.45545,     0.45545,     0.45545,     0.45545,     0.45545,     0.45545,     0.45545,     0.45545,     0.45545,     0.45545,     0.45545,     0.45545,     0.45545,     0.45545,     0.45545,     0.45545,     0.45455,     0.45175,\n",
       "            0.44895,     0.44615,     0.44342,     0.44072,     0.43801,     0.43506,     0.43042,     0.42579,     0.42491,     0.42407,     0.42323,     0.42238,     0.42154,      0.4207,     0.41986,     0.41902,     0.41818,     0.41734,      0.4165,     0.41584,     0.41584,     0.41584,     0.41584,\n",
       "            0.41584,     0.41584,     0.41584,     0.41584,     0.41584,     0.41584,     0.41584,     0.40593,     0.40424,     0.40255,     0.40086,     0.39917,     0.39748,      0.3958,     0.39417,     0.39255,     0.39092,      0.3893,     0.38768,     0.38614,     0.38614,     0.38614,     0.38614,\n",
       "            0.38614,     0.38614,     0.38614,     0.38614,     0.38614,     0.38614,     0.38614,     0.38614,     0.38614,     0.38614,     0.38614,     0.38614,     0.38614,     0.38614,     0.38614,     0.38614,     0.38498,     0.38285,     0.38071,     0.37857,     0.37644,     0.37098,     0.36626,\n",
       "            0.36589,     0.36551,     0.36514,     0.36477,     0.36439,     0.36402,     0.36364,     0.36327,     0.36289,     0.36252,     0.36215,     0.36177,      0.3614,     0.36102,     0.36065,     0.36028,      0.3599,     0.35953,     0.35915,     0.35878,      0.3584,     0.35803,     0.35766,\n",
       "            0.35728,     0.35691,     0.35653,     0.35542,     0.35405,     0.35267,     0.35129,     0.34992,     0.34854,     0.34717,      0.3465,     0.34643,     0.34636,     0.34629,     0.34623,     0.34616,     0.34609,     0.34602,     0.34595,     0.34588,     0.34582,     0.34575,     0.34568,\n",
       "            0.34561,     0.34554,     0.34548,     0.34541,     0.34534,     0.34527,      0.3452,     0.34513,     0.34507,       0.345,     0.34493,     0.34486,     0.34479,     0.34473,     0.34466,     0.34459,     0.34452,     0.34445,     0.34438,     0.34432,     0.34425,     0.34418,     0.34411,\n",
       "            0.34404,     0.34398,     0.34391,     0.34384,     0.34377,      0.3437,     0.34363,     0.34357,      0.3435,     0.34343,     0.34336,     0.34329,     0.34323,     0.34316,     0.34309,     0.34302,     0.34295,     0.34288,     0.34282,     0.34275,     0.34268,     0.34261,     0.34254,\n",
       "            0.34248,     0.34241,     0.34234,     0.34227,      0.3422,     0.34213,     0.34207,       0.342,     0.34193,     0.34186,     0.34179,     0.34173,     0.34166,     0.34159,     0.34152,     0.34145,     0.34138,     0.34132,     0.34125,     0.34118,     0.34111,     0.34104,     0.34098,\n",
       "            0.34091,     0.34084,     0.34077,      0.3407,     0.34064,     0.34057,      0.3405,     0.34043,     0.34036,     0.34029,     0.34023,     0.34016,     0.34009,     0.34002,     0.33995,     0.33989,     0.33982,     0.33975,     0.33968,     0.33961,     0.33954,     0.33948,     0.33941,\n",
       "            0.33934,     0.33927,      0.3392,     0.33914,     0.33907,       0.339,     0.33893,     0.33886,     0.33879,     0.33873,     0.33866,     0.33859,     0.33852,     0.33845,     0.33839,     0.33832,     0.33825,     0.33818,     0.33811,     0.33804,     0.33798,     0.33791,     0.33784,\n",
       "            0.33777,      0.3377,     0.33764,     0.33757,      0.3375,     0.33743,     0.33736,     0.33729,     0.33723,     0.33716,     0.33709,     0.33702,     0.33695,     0.33689,     0.33682,     0.33675,     0.33668,     0.33638,     0.33553,     0.33469,     0.33384,       0.333,     0.33215,\n",
       "             0.3313,     0.33046,     0.32961,     0.32877,     0.32792,     0.32708,     0.32648,     0.32605,     0.32562,      0.3252,     0.32477,     0.32434,     0.32391,     0.32349,     0.32306,     0.32263,     0.32221,     0.32178,     0.32135,     0.32092,      0.3205,     0.32007,     0.31964,\n",
       "            0.31921,     0.31879,     0.31836,     0.31793,      0.3175,     0.31708,     0.30679,     0.30645,     0.30611,     0.30577,     0.30543,      0.3051,     0.30476,     0.30442,     0.30408,     0.30374,      0.3034,     0.30307,     0.30273,     0.30239,     0.30205,     0.30171,     0.30137,\n",
       "            0.30104,      0.3007,     0.30036,     0.30002,     0.29968,     0.29934,     0.29901,     0.29867,     0.29833,     0.29799,     0.29765,     0.29731,     0.29699,     0.29671,     0.29643,     0.29615,     0.29587,      0.2956,     0.29532,     0.29504,     0.29476,     0.29448,     0.29421,\n",
       "            0.29393,     0.29365,     0.29337,     0.29309,     0.29282,     0.29254,     0.29226,     0.29198,      0.2917,     0.29143,     0.29115,     0.29087,     0.29059,     0.29031,     0.29003,     0.28976,     0.28948,      0.2892,     0.28892,     0.28864,     0.28837,     0.28809,     0.28781,\n",
       "            0.28753,     0.28725,     0.28602,     0.28399,     0.28196,     0.27993,      0.2779,      0.2767,     0.27592,     0.27514,     0.27436,     0.27358,      0.2728,     0.27202,     0.27124,     0.27046,     0.26968,      0.2689,     0.26812,     0.26734,     0.26683,     0.26632,     0.26581,\n",
       "             0.2653,      0.2648,     0.26429,     0.26378,     0.26327,     0.26277,     0.26226,     0.26175,     0.26124,     0.26074,     0.26023,     0.25972,     0.25921,     0.25871,      0.2582,     0.25769,     0.25689,     0.25576,     0.25463,     0.25351,     0.25238,     0.25125,     0.25012,\n",
       "              0.249,     0.24787,     0.24611,     0.24408,     0.24205,     0.24002,     0.23799,     0.23746,     0.23725,     0.23705,     0.23684,     0.23664,     0.23643,     0.23623,     0.23602,     0.23582,     0.23561,     0.23541,      0.2352,       0.235,     0.23479,     0.23459,     0.23438,\n",
       "            0.23418,     0.23397,     0.23377,     0.23356,     0.23336,     0.23315,     0.23295,     0.23274,     0.23254,     0.23233,     0.23213,     0.23192,     0.23172,     0.23151,     0.23131,      0.2311,      0.2309,     0.23069,     0.23049,     0.23028,     0.23008,     0.22987,     0.22967,\n",
       "            0.22946,     0.22926,     0.22905,     0.22885,     0.22864,     0.22844,     0.22823,     0.22803,     0.22782,     0.22639,     0.22385,     0.22131,     0.21878,     0.21756,     0.21715,     0.21674,     0.21632,     0.21591,     0.21549,     0.21508,     0.21466,     0.21425,     0.21384,\n",
       "            0.21342,     0.21301,     0.21259,     0.21218,     0.21176,     0.21135,     0.21094,     0.21052,     0.21011,     0.20969,     0.20928,     0.20886,     0.20845,     0.20804,     0.20792,     0.20792,     0.20792,     0.20792,     0.20792,     0.20792,     0.20792,     0.20792,     0.20792,\n",
       "            0.20792,     0.20792,     0.20792,     0.20792,     0.20792,     0.20792,     0.20792,     0.20792,     0.20792,     0.20792,     0.20792,     0.20792,     0.20792,     0.20792,     0.20792,     0.20792,     0.20792,     0.20792,     0.20792,     0.20792,     0.20792,     0.20792,     0.20791,\n",
       "            0.20694,     0.20597,     0.20501,     0.20404,     0.20307,     0.20211,     0.20114,     0.20017,     0.19921,     0.19824,     0.19737,     0.19652,     0.19568,     0.19483,     0.19398,     0.19314,     0.19229,     0.19145,      0.1906,     0.18976,     0.18891,     0.18812,     0.18812,\n",
       "            0.18812,     0.18671,     0.18445,      0.1822,     0.17994,     0.17762,     0.17508,     0.17255,     0.17001,     0.16789,     0.16663,     0.16536,     0.16409,     0.16282,     0.16155,     0.16028,     0.15901,     0.15305,     0.14781,     0.14655,     0.14528,     0.14401,     0.14274,\n",
       "            0.14147,      0.1402,     0.13893,     0.11852,     0.11813,     0.11774,     0.11735,     0.11696,     0.11657,     0.11618,     0.11579,      0.1154,     0.11501,     0.11462,     0.11423,     0.11384,     0.11345,     0.11306,     0.11266,     0.11227,     0.11188,     0.11149,      0.1111,\n",
       "            0.11071,     0.11032,     0.10993,     0.10954,     0.10915,     0.10632,    0.099555,    0.098198,    0.097316,    0.096433,    0.095551,    0.094668,    0.093786,    0.092903,    0.092021,    0.091138,    0.090256,    0.089373,    0.088635,    0.087959,    0.087282,    0.086605,    0.085929,\n",
       "           0.085252,    0.084576,    0.083899,    0.083222,    0.082546,    0.081869,    0.081193,    0.080516,     0.07984,    0.079147,    0.078224,    0.077301,    0.076379,    0.075456,    0.074534,    0.073611,    0.072688,    0.071766,    0.070843,    0.069921,    0.069307,    0.069307,    0.069307,\n",
       "           0.069307,    0.069307,    0.069307,    0.069307,    0.069307,    0.069307,    0.069307,    0.069307,    0.069307,    0.069307,    0.069307,    0.069307,    0.069307,    0.069307,    0.069307,    0.069307,    0.069307,    0.067218,    0.064681,    0.062144,    0.059607,    0.058914,     0.05838,\n",
       "           0.057846,    0.057312,    0.056777,    0.056243,    0.055709,    0.055175,    0.054641,    0.054107,    0.053573,    0.053038,    0.052504,     0.05197,    0.051436,    0.050902,    0.050368,    0.049834,    0.049017,    0.047748,     0.04648,    0.045211,    0.043942,    0.042674,    0.041405,\n",
       "           0.040137,    0.039604,    0.039604,    0.039604,    0.039604,    0.039604,    0.039604,    0.039604,    0.039604,    0.039604,    0.039484,    0.039101,    0.038719,    0.038336,    0.037953,     0.03757,    0.037187,    0.036804,    0.036421,    0.036038,    0.035655,    0.035272,    0.034889,\n",
       "           0.034506,    0.034123,     0.03374,    0.033357,    0.032974,    0.032591,    0.032208,    0.031825,    0.031442,    0.031059,    0.030676,    0.030293,     0.02991,    0.029589,    0.029342,    0.029094,    0.028847,    0.028599,    0.028352,    0.028104,    0.027857,    0.027609,    0.027362,\n",
       "           0.027114,    0.026867,    0.026619,    0.026371,    0.026124,    0.025876,    0.025629,    0.025381,    0.025134,    0.024886,    0.024639,    0.024391,    0.024144,    0.023896,    0.023649,    0.023401,    0.023154,    0.022906,    0.022658,    0.022411,    0.022163,    0.021916,    0.021668,\n",
       "           0.021421,    0.021173,    0.020926,    0.020678,    0.020431,    0.020183,    0.019936,    0.019569,    0.019061,    0.018554,    0.018046,    0.017539,    0.017031,    0.016524,    0.016017,    0.015509,    0.015002,    0.014494,    0.013987,    0.013479,    0.012972,    0.012464,    0.011957,\n",
       "            0.01145,    0.010942,    0.010435,   0.0099273,           0,           0,           0,           0,           0,           0,           0,           0,           0,           0,           0,           0,           0,           0,           0,           0,           0,           0,           0,\n",
       "                  0,           0,           0,           0,           0,           0,           0,           0,           0,           0,           0,           0,           0,           0,           0,           0,           0,           0,           0,           0,           0,           0,           0,\n",
       "                  0,           0,           0,           0,           0,           0,           0,           0,           0,           0,           0,           0,           0,           0,           0,           0,           0,           0,           0,           0,           0,           0,           0,\n",
       "                  0,           0,           0,           0,           0,           0,           0,           0,           0,           0,           0,           0,           0,           0,           0,           0,           0,           0,           0,           0,           0,           0,           0,\n",
       "                  0,           0,           0,           0,           0,           0,           0,           0,           0,           0,           0,           0,           0,           0,           0,           0,           0,           0,           0,           0,           0,           0,           0,\n",
       "                  0,           0,           0,           0,           0,           0,           0,           0,           0,           0,           0]]), 'Confidence', 'Recall']]\n",
       "fitness: 0.3351883956825105\n",
       "keys: ['metrics/precision(B)', 'metrics/recall(B)', 'metrics/mAP50(B)', 'metrics/mAP50-95(B)']\n",
       "maps: array([    0.30127])\n",
       "names: {0: 'tennis ball'}\n",
       "plot: True\n",
       "results_dict: {'metrics/precision(B)': 0.7883607846713666, 'metrics/recall(B)': 0.516358832968022, 'metrics/mAP50(B)': 0.6404162633069858, 'metrics/mAP50-95(B)': 0.3012741881686799, 'fitness': 0.3351883956825105}\n",
       "save_dir: WindowsPath('runs/detect/train')\n",
       "speed: {'preprocess': 0.7882809638977051, 'inference': 8.861653804779053, 'loss': 0.0, 'postprocess': 1.2972688674926758}\n",
       "task: 'detect'"
      ]
     },
     "execution_count": 3,
     "metadata": {},
     "output_type": "execute_result"
    }
   ],
   "source": [
    "from ultralytics import YOLO\n",
    "\n",
    "model = YOLO('yolov8n.pt')\n",
    "model.train(data = f'{dataset.location}/data.yaml',\n",
    "            epochs = 100,\n",
    "            imgsz = 640,\n",
    "            batch = 1,\n",
    "            workers = 0\n",
    "           )"
   ]
  }
 ],
 "metadata": {
  "kernelspec": {
   "display_name": "tf_gpu",
   "language": "python",
   "name": "python3"
  },
  "language_info": {
   "codemirror_mode": {
    "name": "ipython",
    "version": 3
   },
   "file_extension": ".py",
   "mimetype": "text/x-python",
   "name": "python",
   "nbconvert_exporter": "python",
   "pygments_lexer": "ipython3",
   "version": "3.8.0"
  }
 },
 "nbformat": 4,
 "nbformat_minor": 2
}
