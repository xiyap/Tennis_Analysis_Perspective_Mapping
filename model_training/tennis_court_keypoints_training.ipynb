{
 "cells": [
  {
   "cell_type": "markdown",
   "metadata": {},
   "source": [
    "### Import Dependencies"
   ]
  },
  {
   "cell_type": "code",
   "execution_count": 8,
   "metadata": {},
   "outputs": [],
   "source": [
    "import torch\n",
    "from torch.utils.data import Dataset, DataLoader\n",
    "from torchvision import models, transforms\n",
    "import json\n",
    "import cv2\n",
    "import numpy as np"
   ]
  },
  {
   "cell_type": "code",
   "execution_count": 9,
   "metadata": {},
   "outputs": [],
   "source": [
    "device = torch.device(\"cuda\" if torch.cuda.is_available() else \"cpu\")"
   ]
  },
  {
   "cell_type": "markdown",
   "metadata": {},
   "source": [
    "### Create Torch Dataset"
   ]
  },
  {
   "cell_type": "code",
   "execution_count": 11,
   "metadata": {},
   "outputs": [],
   "source": [
    "class KeypointsDataset(Dataset):\n",
    "    def __init__(self, img_dir, json_file):\n",
    "        self.img_dir = img_dir\n",
    "        with open(json_file, \"r\") as f:\n",
    "            self.data = json.load(f)\n",
    "        \n",
    "        self.transforms = transforms.Compose([\n",
    "            transforms.ToPILImage(),\n",
    "            transforms.Resize((224,224)),\n",
    "            transforms.ToTensor(),\n",
    "            transforms.Normalize([0.485, 0.456, 0.406], [0.229, 0.224, 0.225])            \n",
    "        ])\n",
    "        \n",
    "    def __len__(self):\n",
    "        return len(self.data)\n",
    "    \n",
    "    def __getitem__(self, idx):\n",
    "        item = self.data[idx]\n",
    "        img = cv2.imread(f\"{self.img_dir}/{item['id']}.png\")\n",
    "        h, w = img.shape[:2]\n",
    "        \n",
    "        img = cv2.cvtColor(img, cv2.COLOR_BGR2RGB)\n",
    "        img = self.transforms(img)\n",
    "        \n",
    "        kps = np.array(item[\"kps\"]).flatten()\n",
    "        kps = kps.astype(np.float32)\n",
    "        \n",
    "        kps[::2] *= 224.0 / w\n",
    "        kps[1::2] *= 224.0 / h\n",
    "        \n",
    "        return img, kps"
   ]
  },
  {
   "cell_type": "code",
   "execution_count": 12,
   "metadata": {},
   "outputs": [],
   "source": [
    "train_dataset = KeypointsDataset(\"tennis_court_det_dataset/data/images\", \"tennis_court_det_dataset/data/data_train.json\")\n",
    "train_loader = DataLoader(train_dataset, batch_size = 8, shuffle = True)\n",
    "\n",
    "val_dataset = KeypointsDataset(\"tennis_court_det_dataset/data/images\", \"tennis_court_det_dataset/data/data_val.json\")\n",
    "val_loader = DataLoader(val_dataset, batch_size = 8, shuffle = False)"
   ]
  },
  {
   "cell_type": "markdown",
   "metadata": {},
   "source": [
    "### Create Model"
   ]
  },
  {
   "cell_type": "code",
   "execution_count": 13,
   "metadata": {},
   "outputs": [
    {
     "name": "stderr",
     "output_type": "stream",
     "text": [
      "Downloading: \"https://download.pytorch.org/models/resnet50-0676ba61.pth\" to C:\\Users\\xiani/.cache\\torch\\hub\\checkpoints\\resnet50-0676ba61.pth\n"
     ]
    },
    {
     "data": {
      "application/vnd.jupyter.widget-view+json": {
       "model_id": "33cafafda1cd437091f3d7399ad693dc",
       "version_major": 2,
       "version_minor": 0
      },
      "text/plain": [
       "  0%|          | 0.00/97.8M [00:00<?, ?B/s]"
      ]
     },
     "metadata": {},
     "output_type": "display_data"
    }
   ],
   "source": [
    "model = models.resnet50(pretrained = True)\n",
    "model.fc = torch.nn.Linear(model.fc.in_features, 14 * 2)\n",
    "# model.load_state_dict(torch.load(\"models/tennis_court_keypoints_resnet50_30_epochs.pth\", map_location = 'cuda'))\n",
    "model = model.to(device)"
   ]
  },
  {
   "cell_type": "markdown",
   "metadata": {},
   "source": [
    "### Train Model"
   ]
  },
  {
   "cell_type": "code",
   "execution_count": 14,
   "metadata": {},
   "outputs": [
    {
     "name": "stderr",
     "output_type": "stream",
     "text": [
      "c:\\Users\\xiani\\anaconda3\\envs\\tf_gpu\\lib\\site-packages\\torch\\nn\\functional.py:718: UserWarning: Named tensors and all their associated APIs are an experimental feature and subject to change. Please do not use them for anything important until they are released as stable. (Triggered internally at  ..\\c10/core/TensorImpl.h:1156.)\n",
      "  return torch.max_pool2d(input, kernel_size, stride, padding, dilation, ceil_mode)\n"
     ]
    },
    {
     "name": "stdout",
     "output_type": "stream",
     "text": [
      "Epoch: 0, Loss: 352.0243225097656\n",
      "Epoch: 1, Loss: 26.88661766052246\n",
      "Epoch: 2, Loss: 18.098644256591797\n",
      "Epoch: 3, Loss: 11.040696144104004\n",
      "Epoch: 4, Loss: 9.440413475036621\n",
      "Epoch: 5, Loss: 10.949520111083984\n",
      "Epoch: 6, Loss: 16.253503799438477\n",
      "Epoch: 7, Loss: 1.7197483777999878\n",
      "Epoch: 8, Loss: 2.3674914836883545\n",
      "Epoch: 9, Loss: 4.402019023895264\n",
      "Epoch: 10, Loss: 10.648868560791016\n",
      "Epoch: 11, Loss: 0.7475415468215942\n",
      "Epoch: 12, Loss: 3.734015464782715\n",
      "Epoch: 13, Loss: 100.0947265625\n",
      "Epoch: 14, Loss: 1.6537269353866577\n",
      "Epoch: 15, Loss: 7.490461826324463\n",
      "Epoch: 16, Loss: 5.543719291687012\n",
      "Epoch: 17, Loss: 38.37974548339844\n",
      "Epoch: 18, Loss: 0.7960019707679749\n",
      "Epoch: 19, Loss: 1.3446208238601685\n"
     ]
    }
   ],
   "source": [
    "criterion = torch.nn.MSELoss()\n",
    "optimizer = torch.optim.Adam(model.parameters(), lr = 0.0001)\n",
    "\n",
    "epochs = 20\n",
    "for epoch in range(epochs):\n",
    "    for i, (img, kps) in enumerate(train_loader):\n",
    "        img = img.to(device)\n",
    "        kps = kps.to(device)\n",
    "        \n",
    "        optimizer.zero_grad()\n",
    "        pred = model(img)\n",
    "        loss = criterion(pred, kps)\n",
    "        loss.backward()\n",
    "        optimizer.step()\n",
    "        \n",
    "    print(f\"Epoch: {epoch}, Loss: {loss.item()}\")"
   ]
  },
  {
   "cell_type": "markdown",
   "metadata": {},
   "source": [
    "### Save Model"
   ]
  },
  {
   "cell_type": "code",
   "execution_count": 15,
   "metadata": {},
   "outputs": [],
   "source": [
    "# torch.save(model.state_dict(), \"models/tennis_court_keypoints_resnet50_40_epochs.pth\")"
   ]
  }
 ],
 "metadata": {
  "kernelspec": {
   "display_name": "tf_gpu",
   "language": "python",
   "name": "python3"
  },
  "language_info": {
   "codemirror_mode": {
    "name": "ipython",
    "version": 3
   },
   "file_extension": ".py",
   "mimetype": "text/x-python",
   "name": "python",
   "nbconvert_exporter": "python",
   "pygments_lexer": "ipython3",
   "version": "3.8.0"
  }
 },
 "nbformat": 4,
 "nbformat_minor": 2
}
